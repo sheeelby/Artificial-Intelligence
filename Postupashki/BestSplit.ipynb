{
  "cells": [
    {
      "cell_type": "markdown",
      "id": "fb297539",
      "metadata": {
        "id": "fb297539"
      },
      "source": [
        "# 🌳🌳🌳 Решающие деревья, случайный лес"
      ]
    },
    {
      "cell_type": "markdown",
      "id": "56361441",
      "metadata": {
        "id": "56361441"
      },
      "source": [
        "✅ Реализуйте функцию `find_best_split`, которая должна находить оптимальное разбиение подмножества обучающей выборки.\n",
        "- При решении задачи регрессии используйте дисперсию подвыборки\n",
        "- При решении задачи классификации используйте критерий Джини\n",
        "\n",
        "Функцию`find_best_split` протестируйте на датасете `Boston` из `sklearn`"
      ]
    },
    {
      "cell_type": "markdown",
      "id": "a30fd2e4",
      "metadata": {
        "id": "a30fd2e4"
      },
      "source": [
        "При решении задания имейте в виду, что под критерием Джини подразумевается такая функция:\n",
        "\n",
        "$$Q(R) = -\\frac {|R_{\\ell}|}{|R|}H(R_\\ell) -\\frac {|R_r|}{|R|}H(R_r) ,$$\n",
        "\n",
        "где $R$ — множество объектов, попавших в вершину, $R_{\\ell}$ и $R_r$ — объекты, попавшие в левое и правое поддеревья,\n",
        "$H(R) = 1 - p_1^2 - p_0^2$, $p_1$, $p_0$ — доли объектов класса 1 и 0 соответственно.\n",
        "\n",
        "Для категориальных признаков применяется наивный алгоритм разбиения: мы пытаемся найти одно значение, разбиение по которому сильнее всего увеличит критерий информативности. Иными словами, объекты с конкретным значением признака отправляем в левое поддерево, остальные - в правое."
      ]
    },
    {
      "cell_type": "code",
      "execution_count": 1,
      "id": "9d16ec2a",
      "metadata": {
        "colab": {
          "base_uri": "https://localhost:8080/"
        },
        "id": "9d16ec2a",
        "outputId": "a5ef11e3-e60a-4823-9780-482fbc15a67f"
      },
      "outputs": [
        {
          "output_type": "stream",
          "name": "stdout",
          "text": [
            "Collecting scikit-learn<1.2\n",
            "  Downloading scikit_learn-1.1.3-cp310-cp310-manylinux_2_17_x86_64.manylinux2014_x86_64.whl.metadata (10 kB)\n",
            "Requirement already satisfied: numpy>=1.17.3 in /usr/local/lib/python3.10/dist-packages (from scikit-learn<1.2) (1.26.4)\n",
            "Requirement already satisfied: scipy>=1.3.2 in /usr/local/lib/python3.10/dist-packages (from scikit-learn<1.2) (1.13.1)\n",
            "Requirement already satisfied: joblib>=1.0.0 in /usr/local/lib/python3.10/dist-packages (from scikit-learn<1.2) (1.4.2)\n",
            "Requirement already satisfied: threadpoolctl>=2.0.0 in /usr/local/lib/python3.10/dist-packages (from scikit-learn<1.2) (3.5.0)\n",
            "Downloading scikit_learn-1.1.3-cp310-cp310-manylinux_2_17_x86_64.manylinux2014_x86_64.whl (30.5 MB)\n",
            "\u001b[2K   \u001b[90m━━━━━━━━━━━━━━━━━━━━━━━━━━━━━━━━━━━━━━━━\u001b[0m \u001b[32m30.5/30.5 MB\u001b[0m \u001b[31m3.3 MB/s\u001b[0m eta \u001b[36m0:00:00\u001b[0m\n",
            "\u001b[?25hInstalling collected packages: scikit-learn\n",
            "  Attempting uninstall: scikit-learn\n",
            "    Found existing installation: scikit-learn 1.5.2\n",
            "    Uninstalling scikit-learn-1.5.2:\n",
            "      Successfully uninstalled scikit-learn-1.5.2\n",
            "\u001b[31mERROR: pip's dependency resolver does not currently take into account all the packages that are installed. This behaviour is the source of the following dependency conflicts.\n",
            "bigframes 1.21.0 requires scikit-learn>=1.2.2, but you have scikit-learn 1.1.3 which is incompatible.\u001b[0m\u001b[31m\n",
            "\u001b[0mSuccessfully installed scikit-learn-1.1.3\n"
          ]
        }
      ],
      "source": [
        "!pip install \"scikit-learn<1.2\" #после этой строчки перезапустите ядро ноутбука"
      ]
    },
    {
      "cell_type": "code",
      "execution_count": 2,
      "id": "b41c0217",
      "metadata": {
        "id": "b41c0217"
      },
      "outputs": [],
      "source": [
        "from collections import Counter\n",
        "from typing import Dict, List, Tuple, Union\n",
        "\n",
        "import matplotlib.pyplot as plt\n",
        "import numpy as np\n",
        "import pandas as pd\n",
        "from sklearn.datasets import load_boston"
      ]
    },
    {
      "cell_type": "code",
      "execution_count": 3,
      "id": "9e5e2283",
      "metadata": {
        "colab": {
          "base_uri": "https://localhost:8080/"
        },
        "id": "9e5e2283",
        "outputId": "81faea82-1376-4415-9fdc-0dccf3d246f6"
      },
      "outputs": [
        {
          "output_type": "stream",
          "name": "stdout",
          "text": [
            ".. _boston_dataset:\n",
            "\n",
            "Boston house prices dataset\n",
            "---------------------------\n",
            "\n",
            "**Data Set Characteristics:**  \n",
            "\n",
            "    :Number of Instances: 506 \n",
            "\n",
            "    :Number of Attributes: 13 numeric/categorical predictive. Median Value (attribute 14) is usually the target.\n",
            "\n",
            "    :Attribute Information (in order):\n",
            "        - CRIM     per capita crime rate by town\n",
            "        - ZN       proportion of residential land zoned for lots over 25,000 sq.ft.\n",
            "        - INDUS    proportion of non-retail business acres per town\n",
            "        - CHAS     Charles River dummy variable (= 1 if tract bounds river; 0 otherwise)\n",
            "        - NOX      nitric oxides concentration (parts per 10 million)\n",
            "        - RM       average number of rooms per dwelling\n",
            "        - AGE      proportion of owner-occupied units built prior to 1940\n",
            "        - DIS      weighted distances to five Boston employment centres\n",
            "        - RAD      index of accessibility to radial highways\n",
            "        - TAX      full-value property-tax rate per $10,000\n",
            "        - PTRATIO  pupil-teacher ratio by town\n",
            "        - B        1000(Bk - 0.63)^2 where Bk is the proportion of black people by town\n",
            "        - LSTAT    % lower status of the population\n",
            "        - MEDV     Median value of owner-occupied homes in $1000's\n",
            "\n",
            "    :Missing Attribute Values: None\n",
            "\n",
            "    :Creator: Harrison, D. and Rubinfeld, D.L.\n",
            "\n",
            "This is a copy of UCI ML housing dataset.\n",
            "https://archive.ics.uci.edu/ml/machine-learning-databases/housing/\n",
            "\n",
            "\n",
            "This dataset was taken from the StatLib library which is maintained at Carnegie Mellon University.\n",
            "\n",
            "The Boston house-price data of Harrison, D. and Rubinfeld, D.L. 'Hedonic\n",
            "prices and the demand for clean air', J. Environ. Economics & Management,\n",
            "vol.5, 81-102, 1978.   Used in Belsley, Kuh & Welsch, 'Regression diagnostics\n",
            "...', Wiley, 1980.   N.B. Various transformations are used in the table on\n",
            "pages 244-261 of the latter.\n",
            "\n",
            "The Boston house-price data has been used in many machine learning papers that address regression\n",
            "problems.   \n",
            "     \n",
            ".. topic:: References\n",
            "\n",
            "   - Belsley, Kuh & Welsch, 'Regression diagnostics: Identifying Influential Data and Sources of Collinearity', Wiley, 1980. 244-261.\n",
            "   - Quinlan,R. (1993). Combining Instance-Based and Model-Based Learning. In Proceedings on the Tenth International Conference of Machine Learning, 236-243, University of Massachusetts, Amherst. Morgan Kaufmann.\n",
            "\n"
          ]
        },
        {
          "output_type": "stream",
          "name": "stderr",
          "text": [
            "/usr/local/lib/python3.10/dist-packages/sklearn/utils/deprecation.py:87: FutureWarning: Function load_boston is deprecated; `load_boston` is deprecated in 1.0 and will be removed in 1.2.\n",
            "\n",
            "    The Boston housing prices dataset has an ethical problem. You can refer to\n",
            "    the documentation of this function for further details.\n",
            "\n",
            "    The scikit-learn maintainers therefore strongly discourage the use of this\n",
            "    dataset unless the purpose of the code is to study and educate about\n",
            "    ethical issues in data science and machine learning.\n",
            "\n",
            "    In this special case, you can fetch the dataset from the original\n",
            "    source::\n",
            "\n",
            "        import pandas as pd\n",
            "        import numpy as np\n",
            "\n",
            "        data_url = \"http://lib.stat.cmu.edu/datasets/boston\"\n",
            "        raw_df = pd.read_csv(data_url, sep=\"\\s+\", skiprows=22, header=None)\n",
            "        data = np.hstack([raw_df.values[::2, :], raw_df.values[1::2, :2]])\n",
            "        target = raw_df.values[1::2, 2]\n",
            "\n",
            "    Alternative datasets include the California housing dataset (i.e.\n",
            "    :func:`~sklearn.datasets.fetch_california_housing`) and the Ames housing\n",
            "    dataset. You can load the datasets as follows::\n",
            "\n",
            "        from sklearn.datasets import fetch_california_housing\n",
            "        housing = fetch_california_housing()\n",
            "\n",
            "    for the California housing dataset and::\n",
            "\n",
            "        from sklearn.datasets import fetch_openml\n",
            "        housing = fetch_openml(name=\"house_prices\", as_frame=True)\n",
            "\n",
            "    for the Ames housing dataset.\n",
            "  warnings.warn(msg, category=FutureWarning)\n"
          ]
        }
      ],
      "source": [
        "boston = load_boston()\n",
        "X = pd.DataFrame(data=boston[\"data\"], columns=boston[\"feature_names\"])\n",
        "y = boston[\"target\"]\n",
        "X.head()\n",
        "\n",
        "print(boston[\"DESCR\"])"
      ]
    },
    {
      "cell_type": "code",
      "source": [
        "# Функция для вычисления критерия Джини\n",
        "\n",
        "def gini_impurity(targets: np.ndarray) -> float:\n",
        "    _, counts = np.unique(targets, return_counts=True)\n",
        "    p = counts / len(targets)\n",
        "    return 1 - np.sum(p**2)"
      ],
      "metadata": {
        "id": "hT3eGMFSOGVm"
      },
      "id": "hT3eGMFSOGVm",
      "execution_count": 5,
      "outputs": []
    },
    {
      "cell_type": "code",
      "source": [
        "def variance(targets: np.ndarray) -> float:\n",
        "    return np.var(targets)"
      ],
      "metadata": {
        "id": "jL6JwyoOOKgt"
      },
      "id": "jL6JwyoOOKgt",
      "execution_count": 6,
      "outputs": []
    },
    {
      "cell_type": "code",
      "execution_count": 7,
      "id": "53ad90cb",
      "metadata": {
        "id": "53ad90cb"
      },
      "outputs": [],
      "source": [
        "def find_best_split(feature_vector: Union[np.ndarray, pd.DataFrame], target_vector: Union[np.ndarray, pd.Series], task: str = \"classification\", feature_type: str = \"real\") -> Tuple[np.ndarray, np.ndarray, float, float]:\n",
        "\n",
        "    if len(feature_vector) != len(target_vector):\n",
        "        raise ValueError(\"Feature and target vectors must have the same length.\")\n",
        "\n",
        "    # Сортируем данные по признаку\n",
        "    sorted_idx = np.argsort(feature_vector) # возвращает индексы, которые отсортировали бы массив feature_vector по возрастанию\n",
        "    feature_vector = feature_vector[sorted_idx]\n",
        "    target_vector = target_vector[sorted_idx]\n",
        "\n",
        "    if feature_type == \"real\":\n",
        "        thresholds = (feature_vector[1:] + feature_vector[:-1]) / 2 # Для вещественных пороги - средние значения между соседними элементами\n",
        "    else:\n",
        "        thresholds = np.unique(feature_vector) # Для категориальных признаков пороги — это уникальные значения признака\n",
        "\n",
        "    best_criterion_value = float('inf') if task == 'regression' else -float('inf') # либо +бесконечность, либо -бесконечность\n",
        "    best_threshold = None\n",
        "    criterion_values = []\n",
        "\n",
        "    for threshold in thresholds:\n",
        "\n",
        "        if feature_type == \"real\":\n",
        "            left_mask = feature_vector <= threshold\n",
        "            right_mask = feature_vector > threshold\n",
        "        else:\n",
        "            left_mask = feature_vector == threshold\n",
        "            right_mask = feature_vector != threshold\n",
        "\n",
        "        left_targets, right_targets = target_vector[left_mask], target_vector[right_mask]\n",
        "\n",
        "        if len(left_targets) == 0 or len(right_targets) == 0:\n",
        "            continue  # Пропускаем пустые подмножества\n",
        "\n",
        "        if task == 'regression':\n",
        "\n",
        "            left_var = variance(left_targets)\n",
        "            right_var = variance(right_targets)\n",
        "\n",
        "            weighted_variance = (len(left_targets) / len(target_vector)) * left_var + (len(right_targets) / len(target_vector)) * right_var\n",
        "            criterion_values.append(weighted_variance)\n",
        "\n",
        "            if weighted_variance < best_criterion_value:\n",
        "                best_criterion_value = weighted_variance\n",
        "                best_threshold = threshold\n",
        "\n",
        "        elif task == 'classification':\n",
        "\n",
        "            left_gini = gini_impurity(left_targets)\n",
        "            right_gini = gini_impurity(right_targets)\n",
        "\n",
        "            weighted_gini = -(len(left_targets) / len(target_vector)) * left_gini - (len(right_targets) / len(target_vector)) * right_gini\n",
        "            criterion_values.append(weighted_gini)\n",
        "\n",
        "            if weighted_gini > best_criterion_value:\n",
        "                best_criterion_value = weighted_gini\n",
        "                best_threshold = threshold\n",
        "\n",
        "    return np.array(thresholds), np.array(criterion_values), best_threshold, best_criterion_value"
      ]
    },
    {
      "cell_type": "code",
      "execution_count": 8,
      "id": "d264a2d3",
      "metadata": {
        "id": "d264a2d3"
      },
      "outputs": [],
      "source": [
        "thresholds, variances, threshold_best, variance_best = find_best_split(\n",
        "    X[\"CRIM\"].to_numpy(),\n",
        "    y,\n",
        "    task=\"regression\",\n",
        "    feature_type=\"real\"\n",
        ")"
      ]
    },
    {
      "cell_type": "markdown",
      "id": "c54458c1",
      "metadata": {
        "id": "c54458c1"
      },
      "source": [
        "**Посмотрим на самый оптимальный порог**"
      ]
    },
    {
      "cell_type": "code",
      "execution_count": 9,
      "id": "b6a5cd88",
      "metadata": {
        "colab": {
          "base_uri": "https://localhost:8080/"
        },
        "id": "b6a5cd88",
        "outputId": "70da3200-6b02-44f9-8545-dc794aeb80e1"
      },
      "outputs": [
        {
          "output_type": "execute_result",
          "data": {
            "text/plain": [
              "6.68632"
            ]
          },
          "metadata": {},
          "execution_count": 9
        }
      ],
      "source": [
        "threshold_best"
      ]
    },
    {
      "cell_type": "markdown",
      "id": "ad62991c",
      "metadata": {
        "id": "ad62991c"
      },
      "source": [
        "**Выведите график зависимости значения критерия ошибки от порогового значения при разбиении вершины по признаку `CRIM`.**"
      ]
    },
    {
      "cell_type": "code",
      "execution_count": 11,
      "id": "ae88c2bd",
      "metadata": {
        "colab": {
          "base_uri": "https://localhost:8080/",
          "height": 581
        },
        "id": "ae88c2bd",
        "outputId": "3dccce64-f747-4890-bd1a-9ecc42397244"
      },
      "outputs": [
        {
          "output_type": "display_data",
          "data": {
            "text/plain": [
              "<Figure size 1000x600 with 1 Axes>"
            ],
            "image/png": "[encoded data removed]"
          },
          "metadata": {}
        },
        {
          "output_type": "execute_result",
          "data": {
            "text/plain": [
              "(6.68632, 68.08324641384722)"
            ]
          },
          "metadata": {},
          "execution_count": 11
        }
      ],
      "source": [
        "plt.figure(figsize=(10, 6))\n",
        "plt.plot(thresholds, variances, label=f\"Variance (best threshold: {threshold_best:.3f})\")\n",
        "plt.xlabel('Threshold (CRIM)')\n",
        "plt.ylabel('Variance')\n",
        "plt.title('Variance vs Threshold for CRIM feature')\n",
        "plt.legend()\n",
        "plt.grid(True)\n",
        "plt.show()\n",
        "\n",
        "threshold_best, variance_best"
      ]
    }
  ],
  "metadata": {
    "kernelspec": {
      "display_name": "Python 3 (ipykernel)",
      "language": "python",
      "name": "python3"
    },
    "language_info": {
      "codemirror_mode": {
        "name": "ipython",
        "version": 3
      },
      "file_extension": ".py",
      "mimetype": "text/x-python",
      "name": "python",
      "nbconvert_exporter": "python",
      "pygments_lexer": "ipython3",
      "version": "3.11.5"
    },
    "colab": {
      "provenance": []
    }
  },
  "nbformat": 4,
  "nbformat_minor": 5
}