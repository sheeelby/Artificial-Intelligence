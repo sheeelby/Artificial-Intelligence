{
  "cells": [
    {
      "cell_type": "markdown",
      "metadata": {
        "id": "nTSf4ro-qU0d"
      },
      "source": [
        "## Word2Vec на PyTorch\n",
        "\n",
        "Как вы уже могли заметить, идея, лежащая в основе [word2vec](https://arxiv.org/pdf/1310.4546), достаточно общая. В данном задании вы реализуете его самостоятельно.\n",
        "\n",
        "Дисклеймер: не стоит удивляться тому, что реализация от `gensim` (или аналоги) обучается быстрее и работает точнее. Она использует множество доработок и ускорений, а также достаточно эффективный код. Ваша задача добиться промежуточных результатов за разумное время.\n",
        "\n",
        "P.s. Как ни странно, GPU в этом задании нам не потребуется."
      ]
    },
    {
      "cell_type": "markdown",
      "metadata": {
        "id": "4JaVm4wQ5Rg0"
      },
      "source": [
        "__Requirements:__ if you're running locally, in the selected environment run the following command:\n",
        "\n",
        "```pip install --upgrade nltk bokeh umap-learn```\n"
      ]
    },
    {
      "cell_type": "code",
      "source": [
        "pip install --upgrade nltk bokeh umap-learn"
      ],
      "metadata": {
        "colab": {
          "base_uri": "https://localhost:8080/"
        },
        "id": "ONAscC1S5oes",
        "outputId": "b4f2f97b-5439-49fc-e5c1-890e08978dd5"
      },
      "execution_count": 1,
      "outputs": [
        {
          "output_type": "stream",
          "name": "stdout",
          "text": [
            "Requirement already satisfied: nltk in /usr/local/lib/python3.10/dist-packages (3.8.1)\n",
            "Collecting nltk\n",
            "  Downloading nltk-3.9.1-py3-none-any.whl.metadata (2.9 kB)\n",
            "Requirement already satisfied: bokeh in /usr/local/lib/python3.10/dist-packages (3.4.3)\n",
            "Collecting bokeh\n",
            "  Downloading bokeh-3.6.0-py3-none-any.whl.metadata (12 kB)\n",
            "Collecting umap-learn\n",
            "  Downloading umap_learn-0.5.7-py3-none-any.whl.metadata (21 kB)\n",
            "Requirement already satisfied: click in /usr/local/lib/python3.10/dist-packages (from nltk) (8.1.7)\n",
            "Requirement already satisfied: joblib in /usr/local/lib/python3.10/dist-packages (from nltk) (1.4.2)\n",
            "Requirement already satisfied: regex>=2021.8.3 in /usr/local/lib/python3.10/dist-packages (from nltk) (2024.9.11)\n",
            "Requirement already satisfied: tqdm in /usr/local/lib/python3.10/dist-packages (from nltk) (4.66.6)\n",
            "Requirement already satisfied: Jinja2>=2.9 in /usr/local/lib/python3.10/dist-packages (from bokeh) (3.1.4)\n",
            "Requirement already satisfied: contourpy>=1.2 in /usr/local/lib/python3.10/dist-packages (from bokeh) (1.3.0)\n",
            "Requirement already satisfied: numpy>=1.16 in /usr/local/lib/python3.10/dist-packages (from bokeh) (1.26.4)\n",
            "Requirement already satisfied: packaging>=16.8 in /usr/local/lib/python3.10/dist-packages (from bokeh) (24.1)\n",
            "Requirement already satisfied: pandas>=1.2 in /usr/local/lib/python3.10/dist-packages (from bokeh) (2.2.2)\n",
            "Requirement already satisfied: pillow>=7.1.0 in /usr/local/lib/python3.10/dist-packages (from bokeh) (10.4.0)\n",
            "Requirement already satisfied: PyYAML>=3.10 in /usr/local/lib/python3.10/dist-packages (from bokeh) (6.0.2)\n",
            "Requirement already satisfied: tornado>=6.2 in /usr/local/lib/python3.10/dist-packages (from bokeh) (6.3.3)\n",
            "Requirement already satisfied: xyzservices>=2021.09.1 in /usr/local/lib/python3.10/dist-packages (from bokeh) (2024.9.0)\n",
            "Requirement already satisfied: scipy>=1.3.1 in /usr/local/lib/python3.10/dist-packages (from umap-learn) (1.13.1)\n",
            "Requirement already satisfied: scikit-learn>=0.22 in /usr/local/lib/python3.10/dist-packages (from umap-learn) (1.5.2)\n",
            "Requirement already satisfied: numba>=0.51.2 in /usr/local/lib/python3.10/dist-packages (from umap-learn) (0.60.0)\n",
            "Collecting pynndescent>=0.5 (from umap-learn)\n",
            "  Downloading pynndescent-0.5.13-py3-none-any.whl.metadata (6.8 kB)\n",
            "Requirement already satisfied: MarkupSafe>=2.0 in /usr/local/lib/python3.10/dist-packages (from Jinja2>=2.9->bokeh) (3.0.2)\n",
            "Requirement already satisfied: llvmlite<0.44,>=0.43.0dev0 in /usr/local/lib/python3.10/dist-packages (from numba>=0.51.2->umap-learn) (0.43.0)\n",
            "Requirement already satisfied: python-dateutil>=2.8.2 in /usr/local/lib/python3.10/dist-packages (from pandas>=1.2->bokeh) (2.8.2)\n",
            "Requirement already satisfied: pytz>=2020.1 in /usr/local/lib/python3.10/dist-packages (from pandas>=1.2->bokeh) (2024.2)\n",
            "Requirement already satisfied: tzdata>=2022.7 in /usr/local/lib/python3.10/dist-packages (from pandas>=1.2->bokeh) (2024.2)\n",
            "Requirement already satisfied: threadpoolctl>=3.1.0 in /usr/local/lib/python3.10/dist-packages (from scikit-learn>=0.22->umap-learn) (3.5.0)\n",
            "Requirement already satisfied: six>=1.5 in /usr/local/lib/python3.10/dist-packages (from python-dateutil>=2.8.2->pandas>=1.2->bokeh) (1.16.0)\n",
            "Downloading nltk-3.9.1-py3-none-any.whl (1.5 MB)\n",
            "\u001b[2K   \u001b[90m━━━━━━━━━━━━━━━━━━━━━━━━━━━━━━━━━━━━━━━━\u001b[0m \u001b[32m1.5/1.5 MB\u001b[0m \u001b[31m18.2 MB/s\u001b[0m eta \u001b[36m0:00:00\u001b[0m\n",
            "\u001b[?25hDownloading bokeh-3.6.0-py3-none-any.whl (6.9 MB)\n",
            "\u001b[2K   \u001b[90m━━━━━━━━━━━━━━━━━━━━━━━━━━━━━━━━━━━━━━━━\u001b[0m \u001b[32m6.9/6.9 MB\u001b[0m \u001b[31m33.3 MB/s\u001b[0m eta \u001b[36m0:00:00\u001b[0m\n",
            "\u001b[?25hDownloading umap_learn-0.5.7-py3-none-any.whl (88 kB)\n",
            "\u001b[2K   \u001b[90m━━━━━━━━━━━━━━━━━━━━━━━━━━━━━━━━━━━━━━━━\u001b[0m \u001b[32m88.8/88.8 kB\u001b[0m \u001b[31m4.3 MB/s\u001b[0m eta \u001b[36m0:00:00\u001b[0m\n",
            "\u001b[?25hDownloading pynndescent-0.5.13-py3-none-any.whl (56 kB)\n",
            "\u001b[2K   \u001b[90m━━━━━━━━━━━━━━━━━━━━━━━━━━━━━━━━━━━━━━━━\u001b[0m \u001b[32m56.9/56.9 kB\u001b[0m \u001b[31m2.9 MB/s\u001b[0m eta \u001b[36m0:00:00\u001b[0m\n",
            "\u001b[?25hInstalling collected packages: nltk, pynndescent, bokeh, umap-learn\n",
            "  Attempting uninstall: nltk\n",
            "    Found existing installation: nltk 3.8.1\n",
            "    Uninstalling nltk-3.8.1:\n",
            "      Successfully uninstalled nltk-3.8.1\n",
            "  Attempting uninstall: bokeh\n",
            "    Found existing installation: bokeh 3.4.3\n",
            "    Uninstalling bokeh-3.4.3:\n",
            "      Successfully uninstalled bokeh-3.4.3\n",
            "\u001b[31mERROR: pip's dependency resolver does not currently take into account all the packages that are installed. This behaviour is the source of the following dependency conflicts.\n",
            "panel 1.4.5 requires bokeh<3.5.0,>=3.4.0, but you have bokeh 3.6.0 which is incompatible.\u001b[0m\u001b[31m\n",
            "\u001b[0mSuccessfully installed bokeh-3.6.0 nltk-3.9.1 pynndescent-0.5.13 umap-learn-0.5.7\n"
          ]
        }
      ]
    },
    {
      "cell_type": "code",
      "execution_count": 2,
      "metadata": {
        "id": "pqPU4Lu2qU0h"
      },
      "outputs": [],
      "source": [
        "import itertools\n",
        "import random\n",
        "import string\n",
        "from collections import Counter\n",
        "from itertools import chain\n",
        "\n",
        "import matplotlib.pyplot as plt\n",
        "import numpy as np\n",
        "import torch\n",
        "import torch.autograd as autograd\n",
        "import torch.nn as nn\n",
        "import torch.nn.functional as F\n",
        "import torch.optim as optim\n",
        "import umap\n",
        "from IPython.display import clear_output\n",
        "from matplotlib import pyplot as plt\n",
        "from nltk.tokenize import WordPunctTokenizer\n",
        "from torch.optim.lr_scheduler import ReduceLROnPlateau, StepLR\n",
        "from tqdm.auto import tqdm as tqdma"
      ]
    },
    {
      "cell_type": "code",
      "execution_count": 3,
      "metadata": {
        "colab": {
          "base_uri": "https://localhost:8080/"
        },
        "id": "8Fbx57z3qU0i",
        "outputId": "f8a751c1-8063-4169-ddeb-5e5c504dbe22"
      },
      "outputs": [
        {
          "output_type": "stream",
          "name": "stdout",
          "text": [
            "--2024-11-02 17:34:33--  https://www.dropbox.com/s/obaitrix9jyu84r/quora.txt?dl=1\n",
            "Resolving www.dropbox.com (www.dropbox.com)... 162.125.5.18, 2620:100:601d:18::a27d:512\n",
            "Connecting to www.dropbox.com (www.dropbox.com)|162.125.5.18|:443... connected.\n",
            "HTTP request sent, awaiting response... 302 Found\n",
            "Location: https://www.dropbox.com/scl/fi/p0t2dw6oqs6oxpd6zz534/quora.txt?rlkey=bjupppwua4zmd4elz8octecy9&dl=1 [following]\n",
            "--2024-11-02 17:34:33--  https://www.dropbox.com/scl/fi/p0t2dw6oqs6oxpd6zz534/quora.txt?rlkey=bjupppwua4zmd4elz8octecy9&dl=1\n",
            "Reusing existing connection to www.dropbox.com:443.\n",
            "HTTP request sent, awaiting response... 302 Found\n",
            "Location: https://uc674954e08a88e287f914de1c26.dl.dropboxusercontent.com/cd/0/inline/CdrqH5mmEMeGL9cmhMTFwnHWobX9gGl3ZjLIklRNUFk1pDIjqwrKM-POyn9KZHAm92tdIoINjxqtQefgttA5OTIX5TSgAaVGF4NqGyimWmKJrdeWbguvMmEdJ9zT8PwVCJI/file?dl=1# [following]\n",
            "--2024-11-02 17:34:34--  https://uc674954e08a88e287f914de1c26.dl.dropboxusercontent.com/cd/0/inline/CdrqH5mmEMeGL9cmhMTFwnHWobX9gGl3ZjLIklRNUFk1pDIjqwrKM-POyn9KZHAm92tdIoINjxqtQefgttA5OTIX5TSgAaVGF4NqGyimWmKJrdeWbguvMmEdJ9zT8PwVCJI/file?dl=1\n",
            "Resolving uc674954e08a88e287f914de1c26.dl.dropboxusercontent.com (uc674954e08a88e287f914de1c26.dl.dropboxusercontent.com)... 162.125.5.15, 2620:100:601d:15::a27d:50f\n",
            "Connecting to uc674954e08a88e287f914de1c26.dl.dropboxusercontent.com (uc674954e08a88e287f914de1c26.dl.dropboxusercontent.com)|162.125.5.15|:443... connected.\n",
            "HTTP request sent, awaiting response... 200 OK\n",
            "Length: 33813903 (32M) [application/binary]\n",
            "Saving to: ‘./quora.txt’\n",
            "\n",
            "./quora.txt         100%[===================>]  32.25M  23.5MB/s    in 1.4s    \n",
            "\n",
            "2024-11-02 17:34:36 (23.5 MB/s) - ‘./quora.txt’ saved [33813903/33813903]\n",
            "\n"
          ]
        }
      ],
      "source": [
        "# download the data:\n",
        "!wget https://www.dropbox.com/s/obaitrix9jyu84r/quora.txt?dl=1 -O ./quora.txt -nc\n",
        "# alternative download link: https://yadi.sk/i/BPQrUu1NaTduEw"
      ]
    },
    {
      "cell_type": "code",
      "execution_count": 4,
      "metadata": {
        "colab": {
          "base_uri": "https://localhost:8080/",
          "height": 36
        },
        "id": "8EYy5dQpqU0i",
        "outputId": "dbb6fd4e-1efb-4394-bce4-d83ede2f7fed",
        "scrolled": false
      },
      "outputs": [
        {
          "output_type": "execute_result",
          "data": {
            "text/plain": [
              "\"What TV shows or books help you read people's body language?\\n\""
            ],
            "application/vnd.google.colaboratory.intrinsic+json": {
              "type": "string"
            }
          },
          "metadata": {},
          "execution_count": 4
        }
      ],
      "source": [
        "data = list(open(\"./quora.txt\", encoding=\"utf-8\"))\n",
        "data[50]"
      ]
    },
    {
      "cell_type": "markdown",
      "metadata": {
        "id": "feBEGI2eqU0j"
      },
      "source": [
        "Токенизация – первый шаг.\n",
        "Тексты, с которыми мы работаем, включают в себя пунктуацию, смайлики и прочие нестандартные токены, так что простой `str.split` не подойдет.\n",
        "\n",
        "Обратимся к `nltk` - библиотеку, нашла широкое применение в области NLP."
      ]
    },
    {
      "cell_type": "code",
      "execution_count": 5,
      "metadata": {
        "colab": {
          "base_uri": "https://localhost:8080/"
        },
        "id": "7mWTvm50qU0j",
        "outputId": "08418c74-428b-4fe4-b78b-6327cc532571"
      },
      "outputs": [
        {
          "output_type": "stream",
          "name": "stdout",
          "text": [
            "['What', 'TV', 'shows', 'or', 'books', 'help', 'you', 'read', 'people', \"'\", 's', 'body', 'language', '?']\n"
          ]
        }
      ],
      "source": [
        "tokenizer = WordPunctTokenizer()\n",
        "\n",
        "print(tokenizer.tokenize(data[50]))"
      ]
    },
    {
      "cell_type": "code",
      "execution_count": 6,
      "metadata": {
        "id": "HzC05EHWqU0j"
      },
      "outputs": [],
      "source": [
        "data_tok = [\n",
        "    tokenizer.tokenize(\n",
        "        line.translate(str.maketrans(\"\", \"\", string.punctuation)).lower() # убирает все знаки препинания и приводит строку к нижнему регистру\n",
        "    )\n",
        "    for line in data\n",
        "]\n",
        "data_tok = [x for x in data_tok if len(x) >= 3] # Отсев коротких строк"
      ]
    },
    {
      "cell_type": "markdown",
      "metadata": {
        "id": "6azRAgHIqU0k"
      },
      "source": [
        "Несколько проверок:"
      ]
    },
    {
      "cell_type": "code",
      "execution_count": 7,
      "metadata": {
        "id": "Cp8UpxdWqU0k"
      },
      "outputs": [],
      "source": [
        "assert all(\n",
        "    isinstance(row, (list, tuple)) for row in data_tok\n",
        "), \"please convert each line into a list of tokens (strings)\"\n",
        "assert all(\n",
        "    all(isinstance(tok, str) for tok in row) for row in data_tok\n",
        "), \"please convert each line into a list of tokens (strings)\"\n",
        "is_latin = lambda tok: all(\"a\" <= x.lower() <= \"z\" for x in tok)\n",
        "assert all( # Проверка на регистр латинских символов\n",
        "    map(lambda l: not is_latin(l) or l.islower(), map(\" \".join, data_tok))\n",
        "), \"please make sure to lowercase the data\""
      ]
    },
    {
      "cell_type": "markdown",
      "metadata": {
        "id": "37e7-MIhqU0x"
      },
      "source": [
        "Ниже заданы константы ширины окна контекста и проведена предобработка для построения skip-gram модели."
      ]
    },
    {
      "cell_type": "markdown",
      "source": [
        "*Skip-gram* — это архитектура Word2Vec, которая обучает векторные представления слов на основе их контекста. В *skip-gram* модель, данное слово используется для предсказания слов в его контексте (слов вокруг него). Например, если у нас есть предложение *The cat sits on the mat*, то для слова *cat* модель пытается предсказать слова *the, sits* и т.д., в пределах заданного окна (радиуса контекста)."
      ],
      "metadata": {
        "id": "4pAFvCcR88uw"
      }
    },
    {
      "cell_type": "code",
      "execution_count": 8,
      "metadata": {
        "id": "fugc1IomqU0x"
      },
      "outputs": [],
      "source": [
        "min_count = 5 # минимальное количество вхождений слова в корпусе для его включения в словарь\n",
        "window_radius = 5 # модель будет учитывать до 5 слов слева и справа от целевого слова"
      ]
    },
    {
      "cell_type": "code",
      "execution_count": 9,
      "metadata": {
        "id": "RtK0Mt-N5Rg3"
      },
      "outputs": [],
      "source": [
        "vocabulary_with_counter = Counter(chain.from_iterable(data_tok)) # словарь, где ключ — слово, а значение — его частота\n",
        "\n",
        "# Исключаем редкие слова, что делает модель более устойчивой и уменьшает размер словаря\n",
        "word_count_dict = dict()\n",
        "for word, counter in vocabulary_with_counter.items():\n",
        "    if counter >= min_count:\n",
        "        word_count_dict[word] = counter\n",
        "\n",
        "vocabulary = set(word_count_dict.keys())\n",
        "del vocabulary_with_counter"
      ]
    },
    {
      "cell_type": "code",
      "execution_count": 10,
      "metadata": {
        "id": "_Hw8fiuU5Rg3"
      },
      "outputs": [],
      "source": [
        "word_to_index = {word: index for index, word in enumerate(vocabulary)}\n",
        "index_to_word = {index: word for word, index in word_to_index.items()}"
      ]
    },
    {
      "cell_type": "markdown",
      "metadata": {
        "id": "4Y8rlBfqqU0x"
      },
      "source": [
        "Пары `(слово, контекст)` на основе доступного датасета сгенерированы ниже."
      ]
    },
    {
      "cell_type": "code",
      "execution_count": 11,
      "metadata": {
        "id": "h2-aqyyaqU0x",
        "colab": {
          "base_uri": "https://localhost:8080/"
        },
        "outputId": "8a740cb7-1318-452c-c5e5-97e889b7f402"
      },
      "outputs": [
        {
          "output_type": "stream",
          "name": "stdout",
          "text": [
            "Generated 40220313 pairs of target and context words.\n"
          ]
        }
      ],
      "source": [
        "context_pairs = []\n",
        "\n",
        "for text in data_tok:\n",
        "\n",
        "    for i, central_word in enumerate(text):\n",
        "        context_indices = range(max(0, i - window_radius), min(i + window_radius, len(text)))\n",
        "\n",
        "        for j in context_indices:\n",
        "\n",
        "            if j == i:\n",
        "                continue\n",
        "\n",
        "            context_word = text[j]\n",
        "\n",
        "            if central_word in vocabulary and context_word in vocabulary:\n",
        "                context_pairs.append((word_to_index[central_word], word_to_index[context_word]))\n",
        "\n",
        "print(f\"Generated {len(context_pairs)} pairs of target and context words.\")"
      ]
    },
    {
      "cell_type": "markdown",
      "metadata": {
        "id": "vJ3hFrim5Rg4"
      },
      "source": [
        "#### Подзадача №1: subsampling\n",
        "Для того, чтобы сгладить разницу в частоте встречаемсости слов, необходимо реализовать механизм subsampling'а.\n",
        "Для этого вам необходимо реализовать функцию ниже.\n",
        "\n",
        "Вероятность **исключить** слово из обучения (на фиксированном шаге) вычисляется как\n",
        "$$\n",
        "P_\\text{drop}(w_i)=1 - \\sqrt{\\frac{t}{f(w_i)}},\n",
        "$$\n",
        "где $f(w_i)$ – нормированная частота встречаемости слова, а $t$ – заданный порог (threshold)."
      ]
    },
    {
      "cell_type": "code",
      "execution_count": 12,
      "metadata": {
        "colab": {
          "base_uri": "https://localhost:8080/"
        },
        "id": "gQ-nmPh05Rg4",
        "outputId": "56ce5e91-b1b3-47f2-b110-5ed3f6c71d51"
      },
      "outputs": [
        {
          "output_type": "stream",
          "name": "stdout",
          "text": [
            "{'the': 0.003478505426185219, 'is': 0.0077781745930520785, 'apple': 0.03478505426185219}\n"
          ]
        }
      ],
      "source": [
        "def subsample_frequent_words(word_count_dict, threshold=1e-5):\n",
        "    \"\"\"\n",
        "    Вычисляет вероятности повторной выборки для слов на основе их частот.\n",
        "\n",
        "    Эта функция используется для определения вероятности сохранения слова в наборе данных\n",
        "    при повторной выборке часто встречающихся слов. Используемый метод основан на методе повторной выборки\n",
        "    в Word2Vec, где частота каждого слова влияет на вероятность его сохранения.\n",
        "\n",
        "    Параметры:\n",
        "    - word_count_dict (дикт): словарь, в котором ключами являются слова, а значениями - количество этих слов.\n",
        "    - порог (плавающий, необязательный): пороговый параметр, используемый для настройки частоты подвыборки слов.\n",
        "                                   По умолчанию используется значение 1e-5.\n",
        "    Возвращается:\n",
        "    - dict: словарь, в котором ключами являются слова, а значениями - вероятности сохранения каждого слова.\n",
        "\n",
        "    Example:\n",
        "    >>> word_counts = {'the': 5000, 'is': 1000, 'apple': 50}\n",
        "    >>> subsample_frequent_words(word_counts)\n",
        "    {'the': 0.028, 'is': 0.223, 'apple': 1.0}\n",
        "    \"\"\"\n",
        "\n",
        "    total_cnt = sum(word_count_dict.values())\n",
        "\n",
        "    res_dict = {}\n",
        "\n",
        "    for word, count in word_count_dict.items():\n",
        "        freq = count / total_cnt\n",
        "\n",
        "        prob_drop = 1 - np.sqrt(threshold / freq)\n",
        "\n",
        "        res_dict[word] = max(0, 1 - prob_drop)\n",
        "\n",
        "    return res_dict\n",
        "\n",
        "word_counts = {'the': 5000, 'is': 1000, 'apple': 50}\n",
        "keep_probabilities = subsample_frequent_words(word_counts)\n",
        "print(keep_probabilities)\n",
        "# {'the': 0.028..., 'is': 0.223..., 'apple': 1.0}"
      ]
    },
    {
      "cell_type": "markdown",
      "metadata": {
        "id": "kbv2-pqc5Rg4"
      },
      "source": [
        "#### Подзадача №2: negative sampling\n",
        "Для более эффективного обучения необходимо не только предсказывать высокие вероятности для слов из контекста, но и предсказывать низкие для слов, не встреченных в контексте. Для этого вам необходимо вычислить вероятност использовать слово в качестве negative sample, реализовав функцию ниже.\n",
        "\n",
        "В оригинальной статье предлагается оценивать вероятность слов выступать в качестве negative sample согласно распределению $P_n(w)$\n",
        "$$\n",
        "P_n(w) = \\frac{U(w)^{3/4}}{Z},\n",
        "$$\n",
        "\n",
        "где $U(w)$ распределение слов по частоте (или, как его еще называют, по униграммам), а $Z$ – нормировочная константа, чтобы общая мера была равна $1$."
      ]
    },
    {
      "cell_type": "code",
      "execution_count": 13,
      "metadata": {
        "colab": {
          "base_uri": "https://localhost:8080/"
        },
        "id": "pcCmfMI65Rg4",
        "outputId": "9e371844-4b15-4eb7-b9aa-5daf8f5036f3"
      },
      "outputs": [
        {
          "output_type": "execute_result",
          "data": {
            "text/plain": [
              "{'the': 0.751488398196177,\n",
              " 'is': 0.2247474520689081,\n",
              " 'apple': 0.023764149734914898}"
            ]
          },
          "metadata": {},
          "execution_count": 13
        }
      ],
      "source": [
        "def get_negative_sampling_prob(word_count_dict):\n",
        "    \"\"\"\n",
        "    Calculates the negative sampling probabilities for words based on their frequencies.\n",
        "\n",
        "    This function adjusts the frequency of each word raised to the power of 0.75, which is\n",
        "    commonly used in algorithms like Word2Vec to moderate the influence of very frequent words.\n",
        "    It then normalizes these adjusted frequencies to ensure they sum to 1, forming a probability\n",
        "    distribution used for negative sampling.\n",
        "\n",
        "    Parameters:\n",
        "    - word_count_dict (dict): A dictionary where keys are words and values are the counts of those words.\n",
        "\n",
        "    Returns:\n",
        "    - dict: A dictionary where keys are words and values are the probabilities of selecting each word\n",
        "            for negative sampling.\n",
        "\n",
        "    Example:\n",
        "    >>> word_counts = {'the': 5000, 'is': 1000, 'apple': 50}\n",
        "    >>> get_negative_sampling_prob(word_counts)\n",
        "    {'the': 0.298, 'is': 0.160, 'apple': 0.042}\n",
        "    \"\"\"\n",
        "\n",
        "    counts = {word: count**0.75 for word, count in word_count_dict.items()}\n",
        "\n",
        "    Z = sum(counts.values())\n",
        "\n",
        "    negative_sampling_prob_dict = {\n",
        "        word: 0 for word in word_count_dict.keys()\n",
        "    }\n",
        "\n",
        "    negative_sampling_prob_dict = {word: count / Z for word, count in counts.items()}\n",
        "\n",
        "    return negative_sampling_prob_dict\n",
        "\n",
        "word_counts = {'the': 5000, 'is': 1000, 'apple': 50}\n",
        "get_negative_sampling_prob(word_counts)"
      ]
    },
    {
      "cell_type": "markdown",
      "metadata": {
        "id": "VK50OWiL5Rg4"
      },
      "source": [
        "Для удобства, преобразуем полученные словари в массивы (т.к. все слова все равно уже пронумерованы)."
      ]
    },
    {
      "cell_type": "code",
      "execution_count": 14,
      "metadata": {
        "id": "nxsR7lqZ5Rg4"
      },
      "outputs": [],
      "source": [
        "keep_prob_dict = subsample_frequent_words(word_count_dict)\n",
        "assert keep_prob_dict.keys() == word_count_dict.keys()"
      ]
    },
    {
      "cell_type": "code",
      "execution_count": 15,
      "metadata": {
        "id": "_QtEwfF15Rg4"
      },
      "outputs": [],
      "source": [
        "negative_sampling_prob_dict = get_negative_sampling_prob(word_count_dict)\n",
        "assert negative_sampling_prob_dict.keys() == negative_sampling_prob_dict.keys()\n",
        "assert np.allclose(sum(negative_sampling_prob_dict.values()), 1)"
      ]
    },
    {
      "cell_type": "code",
      "execution_count": 16,
      "metadata": {
        "id": "4dkif_f_5Rg4"
      },
      "outputs": [],
      "source": [
        "keep_prob_array = np.array(\n",
        "    [keep_prob_dict[index_to_word[idx]] for idx in range(len(word_to_index))]\n",
        ")\n",
        "negative_sampling_prob_array = np.array(\n",
        "    [\n",
        "        negative_sampling_prob_dict[index_to_word[idx]]\n",
        "        for idx in range(len(word_to_index))\n",
        "    ]\n",
        ")"
      ]
    },
    {
      "cell_type": "markdown",
      "metadata": {
        "id": "BK8cDHlL5Rg4"
      },
      "source": [
        "Если все прошло успешно, функция ниже поможет вам с генерацией подвыборок (батчей)."
      ]
    },
    {
      "cell_type": "code",
      "execution_count": 17,
      "metadata": {
        "id": "eaFJ5Fa25Rg4"
      },
      "outputs": [],
      "source": [
        "def generate_batch_with_neg_samples(context_pairs, batch_size, keep_prob_array, word_to_index, num_negatives, negative_sampling_prob_array):\n",
        "\n",
        "    batch = []\n",
        "    neg_samples = []\n",
        "\n",
        "    while len(batch) < batch_size:\n",
        "\n",
        "        center, context = random.choice(context_pairs)\n",
        "\n",
        "        if random.random() < keep_prob_array[center]:\n",
        "\n",
        "            batch.append((center, context))\n",
        "\n",
        "            neg_sample = np.random.choice(range(len(negative_sampling_prob_array)), size=num_negatives, p=negative_sampling_prob_array)\n",
        "\n",
        "            neg_samples.append(neg_sample)\n",
        "\n",
        "    batch = np.array(batch)\n",
        "    neg_samples = np.vstack(neg_samples)\n",
        "\n",
        "    return batch, neg_samples"
      ]
    },
    {
      "cell_type": "code",
      "execution_count": 18,
      "metadata": {
        "id": "O6VSQo3b5Rg5"
      },
      "outputs": [],
      "source": [
        "batch_size = 4\n",
        "num_negatives = 15\n",
        "batch, neg_samples = generate_batch_with_neg_samples(\n",
        "    context_pairs,\n",
        "    batch_size,\n",
        "    keep_prob_array,\n",
        "    word_to_index,\n",
        "    num_negatives,\n",
        "    negative_sampling_prob_array,\n",
        ")"
      ]
    },
    {
      "cell_type": "markdown",
      "metadata": {
        "id": "8a45QLmi5Rg5"
      },
      "source": [
        "Наконец, время реализовать модель. Обращаем ваше внимание, использование линейных слоев (`nn.Linear`) далеко не всегда оправданно!\n",
        "\n",
        "Напомним, что в случае negative sampling решается задача максимизации следующего функционала:\n",
        "\n",
        "$$\n",
        "\\mathcal{L} = \\log \\sigma({\\mathbf{v}'_{w_O}}^\\top \\mathbf{v}_{w_I}) + \\sum_{i=1}^{k} \\mathbb{E}_{w_i \\sim P_n(w)} \\left[ \\log \\sigma({-\\mathbf{v}'_{w_i}}^\\top \\mathbf{v}_{w_I}) \\right],\n",
        "$$\n",
        "\n",
        "где:\n",
        "- $\\mathbf{v}_{w_I}$ – вектор центрального слова $w_I$,\n",
        "- $\\mathbf{v}'_{w_O}$ – вектор слова из контекста $w_O$,\n",
        "- $k$ – число negative samplesЮ,\n",
        "- $P_n(w)$ – распределение negative samples, заданное выше,\n",
        "- $\\sigma$ – сигмоида."
      ]
    },
    {
      "cell_type": "code",
      "execution_count": 19,
      "metadata": {
        "id": "YgQwapIz5Rg5"
      },
      "outputs": [],
      "source": [
        "class SkipGramModelWithNegSampling(nn.Module):\n",
        "    def __init__(self, vocab_size, embedding_dim):\n",
        "        super().__init__()\n",
        "\n",
        "        self.center_embeddings = nn.Embedding(vocab_size, embedding_dim)\n",
        "        self.context_embeddings = nn.Embedding(vocab_size, embedding_dim)\n",
        "\n",
        "        nn.init.xavier_uniform_(self.center_embeddings.weight)\n",
        "        nn.init.xavier_uniform_(self.context_embeddings.weight)\n",
        "\n",
        "    def forward(self, center_words, pos_context_words, neg_context_words):\n",
        "\n",
        "        center_embeds = self.center_embeddings(center_words)\n",
        "\n",
        "        pos_context_embeds = self.context_embeddings(pos_context_words)\n",
        "        pos_scores = torch.sum(center_embeds * pos_context_embeds, dim=1)\n",
        "        pos_scores = F.logsigmoid(pos_scores)\n",
        "\n",
        "        # Эмбеддинги отрицательных контекстных слов\n",
        "        neg_context_embeds = self.context_embeddings(neg_context_words)\n",
        "        neg_scores = torch.bmm(neg_context_embeds, center_embeds.unsqueeze(2)).squeeze()\n",
        "        neg_scores = F.logsigmoid(neg_scores)\n",
        "\n",
        "        return pos_scores, neg_scores"
      ]
    },
    {
      "cell_type": "code",
      "execution_count": 20,
      "metadata": {
        "id": "LSB5MGcx5Rg5"
      },
      "outputs": [],
      "source": [
        "device = torch.device(\"cuda:0\" if torch.cuda.is_available() else \"cpu\")"
      ]
    },
    {
      "cell_type": "code",
      "execution_count": 21,
      "metadata": {
        "id": "S22D92IA5Rg5"
      },
      "outputs": [],
      "source": [
        "vocab_size = len(word_to_index)\n",
        "embedding_dim = 32\n",
        "num_negatives = 15\n",
        "\n",
        "model = SkipGramModelWithNegSampling(vocab_size, embedding_dim).to(device)\n",
        "optimizer = optim.Adam(model.parameters(), lr=0.05)\n",
        "lr_scheduler = ReduceLROnPlateau(optimizer, factor=0.5, patience=150)\n",
        "criterion = nn.BCEWithLogitsLoss()"
      ]
    },
    {
      "cell_type": "code",
      "execution_count": 22,
      "metadata": {
        "id": "vHt-eROL5Rg5"
      },
      "outputs": [],
      "source": [
        "params_counter = 0\n",
        "for weights in model.parameters():\n",
        "    params_counter += weights.shape.numel()\n",
        "assert params_counter == len(word_to_index) * embedding_dim * 2"
      ]
    },
    {
      "cell_type": "code",
      "execution_count": 23,
      "metadata": {
        "id": "rAlk9E205Rg5"
      },
      "outputs": [],
      "source": [
        "def train_skipgram_with_neg_sampling(\n",
        "    model,\n",
        "    context_pairs,\n",
        "    keep_prob_array,\n",
        "    word_to_index,\n",
        "    batch_size,\n",
        "    num_negatives,\n",
        "    negative_sampling_prob_array,\n",
        "    steps,\n",
        "    optimizer=optimizer,\n",
        "    lr_scheduler=lr_scheduler,\n",
        "    device=device,\n",
        "):\n",
        "    pos_labels = torch.ones(batch_size).to(device)\n",
        "    neg_labels = torch.zeros(batch_size, num_negatives).to(device)\n",
        "    loss_history = []\n",
        "    for step in tqdma(range(steps)):\n",
        "        batch, neg_samples = generate_batch_with_neg_samples(\n",
        "            context_pairs,\n",
        "            batch_size,\n",
        "            keep_prob_array,\n",
        "            word_to_index,\n",
        "            num_negatives,\n",
        "            negative_sampling_prob_array,\n",
        "        )\n",
        "        center_words = torch.tensor([pair[0] for pair in batch], dtype=torch.long).to(\n",
        "            device\n",
        "        )\n",
        "        pos_context_words = torch.tensor(\n",
        "            [pair[1] for pair in batch], dtype=torch.long\n",
        "        ).to(device)\n",
        "        neg_context_words = torch.tensor(neg_samples, dtype=torch.long).to(device)\n",
        "\n",
        "        optimizer.zero_grad()\n",
        "        pos_scores, neg_scores = model(\n",
        "            center_words, pos_context_words, neg_context_words\n",
        "        )\n",
        "\n",
        "        loss_pos = criterion(pos_scores, pos_labels)\n",
        "        loss_neg = criterion(neg_scores, neg_labels)\n",
        "\n",
        "        loss = loss_pos + loss_neg\n",
        "        loss.backward()\n",
        "        optimizer.step()\n",
        "\n",
        "        loss_history.append(loss.item())\n",
        "        lr_scheduler.step(loss_history[-1])\n",
        "\n",
        "        if step % 100 == 0:\n",
        "            print(\n",
        "                f\"Step {step}, Loss: {np.mean(loss_history[-100:])}, learning rate: {lr_scheduler._last_lr}\"\n",
        "            )"
      ]
    },
    {
      "cell_type": "code",
      "execution_count": 24,
      "metadata": {
        "id": "SKyph1Ib5Rg5",
        "colab": {
          "base_uri": "https://localhost:8080/",
          "height": 483,
          "referenced_widgets": [
            "131bfc7c9efb45bc8380591459135395",
            "625ba2d1a63d441ba3b81f7d3097ff83",
            "bbe6a1c675a94eaa814e0b751500c166",
            "4e62f86ac84046cfbb34d4a9bcb0b722",
            "385328d99e3440888ac0a8a5dbdb2b74",
            "7d6c4caadc5d4f1097879c3304de0ec9",
            "ff8b428da2544a8cacc8a7d7bf6acf6b",
            "9f09c2ed70964a188e8faed945832c42",
            "01329b03138f41039c01b0cdc529d20b",
            "0dac5f0cc61e465fb8c0ade0b22ff803",
            "a5986d591b314dc6b58ffeaa34b04ec5"
          ]
        },
        "outputId": "c59b1d05-8786-4b79-da79-6a30aae42d56"
      },
      "outputs": [
        {
          "output_type": "display_data",
          "data": {
            "text/plain": [
              "  0%|          | 0/2500 [00:00<?, ?it/s]"
            ],
            "application/vnd.jupyter.widget-view+json": {
              "version_major": 2,
              "version_minor": 0,
              "model_id": "131bfc7c9efb45bc8380591459135395"
            }
          },
          "metadata": {}
        },
        {
          "output_type": "stream",
          "name": "stdout",
          "text": [
            "Step 0, Loss: 1.5040762424468994, learning rate: [0.05]\n",
            "Step 100, Loss: 1.5246911609172822, learning rate: [0.05]\n",
            "Step 200, Loss: 1.6980326449871064, learning rate: [0.025]\n",
            "Step 300, Loss: 1.7362374329566956, learning rate: [0.025]\n",
            "Step 400, Loss: 1.6624719893932343, learning rate: [0.0125]\n",
            "Step 500, Loss: 1.6211899971961976, learning rate: [0.0125]\n",
            "Step 600, Loss: 1.6049629163742065, learning rate: [0.0125]\n",
            "Step 700, Loss: 1.5684246277809144, learning rate: [0.00625]\n",
            "Step 800, Loss: 1.5575135111808778, learning rate: [0.00625]\n",
            "Step 900, Loss: 1.5304626297950745, learning rate: [0.00625]\n",
            "Step 1000, Loss: 1.5186291086673736, learning rate: [0.003125]\n",
            "Step 1100, Loss: 1.5094200348854065, learning rate: [0.003125]\n",
            "Step 1200, Loss: 1.503002361059189, learning rate: [0.0015625]\n",
            "Step 1300, Loss: 1.5021453428268432, learning rate: [0.00078125]\n",
            "Step 1400, Loss: 1.498481571674347, learning rate: [0.00078125]\n",
            "Step 1500, Loss: 1.504203634262085, learning rate: [0.000390625]\n",
            "Step 1600, Loss: 1.5013522148132323, learning rate: [0.0001953125]\n",
            "Step 1700, Loss: 1.5023268377780914, learning rate: [0.0001953125]\n",
            "Step 1800, Loss: 1.4909517467021942, learning rate: [9.765625e-05]\n",
            "Step 1900, Loss: 1.499787344932556, learning rate: [4.8828125e-05]\n",
            "Step 2000, Loss: 1.5000110924243928, learning rate: [4.8828125e-05]\n",
            "Step 2100, Loss: 1.4920850598812103, learning rate: [2.44140625e-05]\n",
            "Step 2200, Loss: 1.5004619109630584, learning rate: [1.220703125e-05]\n",
            "Step 2300, Loss: 1.495358281135559, learning rate: [1.220703125e-05]\n",
            "Step 2400, Loss: 1.4954946649074554, learning rate: [6.103515625e-06]\n"
          ]
        }
      ],
      "source": [
        "steps = 2500\n",
        "batch_size = 512\n",
        "train_skipgram_with_neg_sampling(\n",
        "    model,\n",
        "    context_pairs,\n",
        "    keep_prob_array,\n",
        "    word_to_index,\n",
        "    batch_size,\n",
        "    num_negatives,\n",
        "    negative_sampling_prob_array,\n",
        "    steps,\n",
        ")"
      ]
    },
    {
      "cell_type": "markdown",
      "metadata": {
        "id": "Qvg5r6o85Rg5"
      },
      "source": [
        "Наконец, используйте полученную матрицу весов в качестве матрицы в векторными представлениями слов. Рекомендуем использовать для сдачи матрицу, которая отвечала за слова из контекста (т.е. декодера)."
      ]
    },
    {
      "cell_type": "code",
      "execution_count": 25,
      "metadata": {
        "id": "HLBnULRq5Rg5"
      },
      "outputs": [],
      "source": [
        "_model_parameters = model.parameters()\n",
        "embedding_matrix_center = next(\n",
        "    _model_parameters\n",
        ").detach()  # Assuming that first matrix was for central word\n",
        "embedding_matrix_context = next(\n",
        "    _model_parameters\n",
        ").detach()  # Assuming that second matrix was for context word"
      ]
    },
    {
      "cell_type": "code",
      "execution_count": 26,
      "metadata": {
        "id": "dXoAYHFc5Rg8"
      },
      "outputs": [],
      "source": [
        "def get_word_vector(word, embedding_matrix, word_to_index=word_to_index):\n",
        "    return embedding_matrix[word_to_index[word]]"
      ]
    },
    {
      "cell_type": "markdown",
      "metadata": {
        "id": "3dIJhrAD5Rg8"
      },
      "source": [
        "Простые проверки:"
      ]
    },
    {
      "cell_type": "code",
      "execution_count": 27,
      "metadata": {
        "id": "K1YQY1sG5Rg8"
      },
      "outputs": [],
      "source": [
        "similarity_1 = F.cosine_similarity(\n",
        "    get_word_vector(\"iphone\", embedding_matrix_context)[None, :],\n",
        "    get_word_vector(\"apple\", embedding_matrix_context)[None, :],\n",
        ")\n",
        "similarity_2 = F.cosine_similarity(\n",
        "    get_word_vector(\"iphone\", embedding_matrix_context)[None, :],\n",
        "    get_word_vector(\"dell\", embedding_matrix_context)[None, :],\n",
        ")\n",
        "assert similarity_1 > similarity_2"
      ]
    },
    {
      "cell_type": "code",
      "execution_count": 28,
      "metadata": {
        "id": "oXz7-FVh5Rg8"
      },
      "outputs": [],
      "source": [
        "similarity_1 = F.cosine_similarity(\n",
        "    get_word_vector(\"windows\", embedding_matrix_context)[None, :],\n",
        "    get_word_vector(\"laptop\", embedding_matrix_context)[None, :],\n",
        ")\n",
        "similarity_2 = F.cosine_similarity(\n",
        "    get_word_vector(\"windows\", embedding_matrix_context)[None, :],\n",
        "    get_word_vector(\"macbook\", embedding_matrix_context)[None, :],\n",
        ")\n",
        "assert similarity_1 > similarity_2"
      ]
    },
    {
      "cell_type": "markdown",
      "metadata": {
        "id": "fBwX5zPX5Rg8"
      },
      "source": [
        "Наконец, взглянем на ближайшие по косинусной мере слова. Функция реализована ниже."
      ]
    },
    {
      "cell_type": "code",
      "execution_count": 29,
      "metadata": {
        "id": "dA0V6rOYtsLk"
      },
      "outputs": [],
      "source": [
        "def find_nearest(word, embedding_matrix, word_to_index=word_to_index, k=10):\n",
        "    word_vector = get_word_vector(word, embedding_matrix)[None, :]\n",
        "    dists = F.cosine_similarity(embedding_matrix, word_vector)\n",
        "    index_sorted = torch.argsort(dists)\n",
        "    top_k = index_sorted[-k:]\n",
        "    return [(index_to_word[x], dists[x].item()) for x in top_k.numpy()]"
      ]
    },
    {
      "cell_type": "code",
      "execution_count": 30,
      "metadata": {
        "id": "6mAIFSgz5Rg9",
        "colab": {
          "base_uri": "https://localhost:8080/"
        },
        "outputId": "ff23672e-9446-4369-b531-5554a7826a64"
      },
      "outputs": [
        {
          "output_type": "execute_result",
          "data": {
            "text/plain": [
              "[('ram', 0.5187236070632935),\n",
              " ('build', 0.5191167593002319),\n",
              " ('rss', 0.5211674571037292),\n",
              " ('2016', 0.5293835401535034),\n",
              " ('false', 0.533828854560852),\n",
              " ('chairman', 0.5363472700119019),\n",
              " ('gpa', 0.5404652953147888),\n",
              " ('assembly', 0.5807203650474548),\n",
              " ('smartphone', 0.5845048427581787),\n",
              " ('python', 1.0)]"
            ]
          },
          "metadata": {},
          "execution_count": 30
        }
      ],
      "source": [
        "find_nearest(\"python\", embedding_matrix_context, k=10)"
      ]
    },
    {
      "cell_type": "markdown",
      "metadata": {
        "id": "y8epHmyb5Rg9"
      },
      "source": [
        "Также вы можете визуально проверить, как представлены в латентном пространстве часто встречающиеся слова."
      ]
    },
    {
      "cell_type": "code",
      "execution_count": 31,
      "metadata": {
        "id": "-qGcDunb5Rg9"
      },
      "outputs": [],
      "source": [
        "top_k = 5000\n",
        "_top_words = sorted([x for x in word_count_dict.items()], key=lambda x: x[1])[\n",
        "    -top_k - 100 : -100\n",
        "]  # ignoring 100 most frequent words\n",
        "top_words = [x[0] for x in _top_words]\n",
        "del _top_words"
      ]
    },
    {
      "cell_type": "code",
      "execution_count": 32,
      "metadata": {
        "id": "BXE5YwBa5Rg9"
      },
      "outputs": [],
      "source": [
        "word_embeddings = torch.cat(\n",
        "    [embedding_matrix_context[word_to_index[x]][None, :] for x in top_words], dim=0\n",
        ").numpy()"
      ]
    },
    {
      "cell_type": "code",
      "execution_count": 33,
      "metadata": {
        "id": "4dz5VzW05Rg9"
      },
      "outputs": [],
      "source": [
        "import bokeh.models as bm\n",
        "import bokeh.plotting as pl\n",
        "from bokeh.io import output_notebook\n",
        "\n",
        "output_notebook()\n",
        "\n",
        "\n",
        "def draw_vectors(\n",
        "    x,\n",
        "    y,\n",
        "    radius=10,\n",
        "    alpha=0.25,\n",
        "    color=\"blue\",\n",
        "    width=600,\n",
        "    height=400,\n",
        "    show=True,\n",
        "    **kwargs,\n",
        "):\n",
        "    \"\"\"draws an interactive plot for data points with auxilirary info on hover\"\"\"\n",
        "    if isinstance(color, str):\n",
        "        color = [color] * len(x)\n",
        "    data_source = bm.ColumnDataSource({\"x\": x, \"y\": y, \"color\": color, **kwargs})\n",
        "\n",
        "    fig = pl.figure(active_scroll=\"wheel_zoom\", width=width, height=height)\n",
        "    fig.scatter(\"x\", \"y\", size=radius, color=\"color\", alpha=alpha, source=data_source)\n",
        "\n",
        "    fig.add_tools(bm.HoverTool(tooltips=[(key, \"@\" + key) for key in kwargs.keys()]))\n",
        "    if show:\n",
        "        pl.show(fig)\n",
        "    return fig"
      ]
    },
    {
      "cell_type": "code",
      "execution_count": 34,
      "metadata": {
        "id": "7fbx-Jzz5Rg9"
      },
      "outputs": [],
      "source": [
        "embedding = umap.UMAP(n_neighbors=5).fit_transform(word_embeddings)"
      ]
    },
    {
      "cell_type": "code",
      "execution_count": 35,
      "metadata": {
        "id": "Mf2y1Y2i5Rg9",
        "colab": {
          "base_uri": "https://localhost:8080/",
          "height": 434
        },
        "outputId": "a304a73a-d8d8-4739-e914-057280fe69b1"
      },
      "outputs": [
        {
          "output_type": "display_data",
          "data": {
            "application/javascript": [
              "'use strict';\n",
              "(function(root) {\n",
              "  function now() {\n",
              "    return new Date();\n",
              "  }\n",
              "\n",
              "  const force = true;\n",
              "\n",
              "  if (typeof root._bokeh_onload_callbacks === \"undefined\" || force === true) {\n",
              "    root._bokeh_onload_callbacks = [];\n",
              "    root._bokeh_is_loading = undefined;\n",
              "  }\n",
              "\n",
              "const JS_MIME_TYPE = 'application/javascript';\n",
              "  const HTML_MIME_TYPE = 'text/html';\n",
              "  const EXEC_MIME_TYPE = 'application/vnd.bokehjs_exec.v0+json';\n",
              "  const CLASS_NAME = 'output_bokeh rendered_html';\n",
              "\n",
              "  /**\n",
              "   * Render data to the DOM node\n",
              "   */\n",
              "  function render(props, node) {\n",
              "    const script = document.createElement(\"script\");\n",
              "    node.appendChild(script);\n",
              "  }\n",
              "\n",
              "  /**\n",
              "   * Handle when an output is cleared or removed\n",
              "   */\n",
              "  function handleClearOutput(event, handle) {\n",
              "    function drop(id) {\n",
              "      const view = Bokeh.index.get_by_id(id)\n",
              "      if (view != null) {\n",
              "        view.model.document.clear()\n",
              "        Bokeh.index.delete(view)\n",
              "      }\n",
              "    }\n",
              "\n",
              "    const cell = handle.cell;\n",
              "\n",
              "    const id = cell.output_area._bokeh_element_id;\n",
              "    const server_id = cell.output_area._bokeh_server_id;\n",
              "\n",
              "    // Clean up Bokeh references\n",
              "    if (id != null) {\n",
              "      drop(id)\n",
              "    }\n",
              "\n",
              "    if (server_id !== undefined) {\n",
              "      // Clean up Bokeh references\n",
              "      const cmd_clean = \"from bokeh.io.state import curstate; print(curstate().uuid_to_server['\" + server_id + \"'].get_sessions()[0].document.roots[0]._id)\";\n",
              "      cell.notebook.kernel.execute(cmd_clean, {\n",
              "        iopub: {\n",
              "          output: function(msg) {\n",
              "            const id = msg.content.text.trim()\n",
              "            drop(id)\n",
              "          }\n",
              "        }\n",
              "      });\n",
              "      // Destroy server and session\n",
              "      const cmd_destroy = \"import bokeh.io.notebook as ion; ion.destroy_server('\" + server_id + \"')\";\n",
              "      cell.notebook.kernel.execute(cmd_destroy);\n",
              "    }\n",
              "  }\n",
              "\n",
              "  /**\n",
              "   * Handle when a new output is added\n",
              "   */\n",
              "  function handleAddOutput(event, handle) {\n",
              "    const output_area = handle.output_area;\n",
              "    const output = handle.output;\n",
              "\n",
              "    // limit handleAddOutput to display_data with EXEC_MIME_TYPE content only\n",
              "    if ((output.output_type != \"display_data\") || (!Object.prototype.hasOwnProperty.call(output.data, EXEC_MIME_TYPE))) {\n",
              "      return\n",
              "    }\n",
              "\n",
              "    const toinsert = output_area.element.find(\".\" + CLASS_NAME.split(' ')[0]);\n",
              "\n",
              "    if (output.metadata[EXEC_MIME_TYPE][\"id\"] !== undefined) {\n",
              "      toinsert[toinsert.length - 1].firstChild.textContent = output.data[JS_MIME_TYPE];\n",
              "      // store reference to embed id on output_area\n",
              "      output_area._bokeh_element_id = output.metadata[EXEC_MIME_TYPE][\"id\"];\n",
              "    }\n",
              "    if (output.metadata[EXEC_MIME_TYPE][\"server_id\"] !== undefined) {\n",
              "      const bk_div = document.createElement(\"div\");\n",
              "      bk_div.innerHTML = output.data[HTML_MIME_TYPE];\n",
              "      const script_attrs = bk_div.children[0].attributes;\n",
              "      for (let i = 0; i < script_attrs.length; i++) {\n",
              "        toinsert[toinsert.length - 1].firstChild.setAttribute(script_attrs[i].name, script_attrs[i].value);\n",
              "        toinsert[toinsert.length - 1].firstChild.textContent = bk_div.children[0].textContent\n",
              "      }\n",
              "      // store reference to server id on output_area\n",
              "      output_area._bokeh_server_id = output.metadata[EXEC_MIME_TYPE][\"server_id\"];\n",
              "    }\n",
              "  }\n",
              "\n",
              "  function register_renderer(events, OutputArea) {\n",
              "\n",
              "    function append_mime(data, metadata, element) {\n",
              "      // create a DOM node to render to\n",
              "      const toinsert = this.create_output_subarea(\n",
              "        metadata,\n",
              "        CLASS_NAME,\n",
              "        EXEC_MIME_TYPE\n",
              "      );\n",
              "      this.keyboard_manager.register_events(toinsert);\n",
              "      // Render to node\n",
              "      const props = {data: data, metadata: metadata[EXEC_MIME_TYPE]};\n",
              "      render(props, toinsert[toinsert.length - 1]);\n",
              "      element.append(toinsert);\n",
              "      return toinsert\n",
              "    }\n",
              "\n",
              "    /* Handle when an output is cleared or removed */\n",
              "    events.on('clear_output.CodeCell', handleClearOutput);\n",
              "    events.on('delete.Cell', handleClearOutput);\n",
              "\n",
              "    /* Handle when a new output is added */\n",
              "    events.on('output_added.OutputArea', handleAddOutput);\n",
              "\n",
              "    /**\n",
              "     * Register the mime type and append_mime function with output_area\n",
              "     */\n",
              "    OutputArea.prototype.register_mime_type(EXEC_MIME_TYPE, append_mime, {\n",
              "      /* Is output safe? */\n",
              "      safe: true,\n",
              "      /* Index of renderer in `output_area.display_order` */\n",
              "      index: 0\n",
              "    });\n",
              "  }\n",
              "\n",
              "  // register the mime type if in Jupyter Notebook environment and previously unregistered\n",
              "  if (root.Jupyter !== undefined) {\n",
              "    const events = require('base/js/events');\n",
              "    const OutputArea = require('notebook/js/outputarea').OutputArea;\n",
              "\n",
              "    if (OutputArea.prototype.mime_types().indexOf(EXEC_MIME_TYPE) == -1) {\n",
              "      register_renderer(events, OutputArea);\n",
              "    }\n",
              "  }\n",
              "  if (typeof (root._bokeh_timeout) === \"undefined\" || force === true) {\n",
              "    root._bokeh_timeout = Date.now() + 5000;\n",
              "    root._bokeh_failed_load = false;\n",
              "  }\n",
              "\n",
              "  const NB_LOAD_WARNING = {'data': {'text/html':\n",
              "     \"<div style='background-color: #fdd'>\\n\"+\n",
              "     \"<p>\\n\"+\n",
              "     \"BokehJS does not appear to have successfully loaded. If loading BokehJS from CDN, this \\n\"+\n",
              "     \"may be due to a slow or bad network connection. Possible fixes:\\n\"+\n",
              "     \"</p>\\n\"+\n",
              "     \"<ul>\\n\"+\n",
              "     \"<li>re-rerun `output_notebook()` to attempt to load from CDN again, or</li>\\n\"+\n",
              "     \"<li>use INLINE resources instead, as so:</li>\\n\"+\n",
              "     \"</ul>\\n\"+\n",
              "     \"<code>\\n\"+\n",
              "     \"from bokeh.resources import INLINE\\n\"+\n",
              "     \"output_notebook(resources=INLINE)\\n\"+\n",
              "     \"</code>\\n\"+\n",
              "     \"</div>\"}};\n",
              "\n",
              "  function display_loaded(error = null) {\n",
              "    const el = document.getElementById(null);\n",
              "    if (el != null) {\n",
              "      const html = (() => {\n",
              "        if (typeof root.Bokeh === \"undefined\") {\n",
              "          if (error == null) {\n",
              "            return \"BokehJS is loading ...\";\n",
              "          } else {\n",
              "            return \"BokehJS failed to load.\";\n",
              "          }\n",
              "        } else {\n",
              "          const prefix = `BokehJS ${root.Bokeh.version}`;\n",
              "          if (error == null) {\n",
              "            return `${prefix} successfully loaded.`;\n",
              "          } else {\n",
              "            return `${prefix} <b>encountered errors</b> while loading and may not function as expected.`;\n",
              "          }\n",
              "        }\n",
              "      })();\n",
              "      el.innerHTML = html;\n",
              "\n",
              "      if (error != null) {\n",
              "        const wrapper = document.createElement(\"div\");\n",
              "        wrapper.style.overflow = \"auto\";\n",
              "        wrapper.style.height = \"5em\";\n",
              "        wrapper.style.resize = \"vertical\";\n",
              "        const content = document.createElement(\"div\");\n",
              "        content.style.fontFamily = \"monospace\";\n",
              "        content.style.whiteSpace = \"pre-wrap\";\n",
              "        content.style.backgroundColor = \"rgb(255, 221, 221)\";\n",
              "        content.textContent = error.stack ?? error.toString();\n",
              "        wrapper.append(content);\n",
              "        el.append(wrapper);\n",
              "      }\n",
              "    } else if (Date.now() < root._bokeh_timeout) {\n",
              "      setTimeout(() => display_loaded(error), 100);\n",
              "    }\n",
              "  }\n",
              "\n",
              "  function run_callbacks() {\n",
              "    try {\n",
              "      root._bokeh_onload_callbacks.forEach(function(callback) {\n",
              "        if (callback != null)\n",
              "          callback();\n",
              "      });\n",
              "    } finally {\n",
              "      delete root._bokeh_onload_callbacks\n",
              "    }\n",
              "    console.debug(\"Bokeh: all callbacks have finished\");\n",
              "  }\n",
              "\n",
              "  function load_libs(css_urls, js_urls, callback) {\n",
              "    if (css_urls == null) css_urls = [];\n",
              "    if (js_urls == null) js_urls = [];\n",
              "\n",
              "    root._bokeh_onload_callbacks.push(callback);\n",
              "    if (root._bokeh_is_loading > 0) {\n",
              "      console.debug(\"Bokeh: BokehJS is being loaded, scheduling callback at\", now());\n",
              "      return null;\n",
              "    }\n",
              "    if (js_urls == null || js_urls.length === 0) {\n",
              "      run_callbacks();\n",
              "      return null;\n",
              "    }\n",
              "    console.debug(\"Bokeh: BokehJS not loaded, scheduling load and callback at\", now());\n",
              "    root._bokeh_is_loading = css_urls.length + js_urls.length;\n",
              "\n",
              "    function on_load() {\n",
              "      root._bokeh_is_loading--;\n",
              "      if (root._bokeh_is_loading === 0) {\n",
              "        console.debug(\"Bokeh: all BokehJS libraries/stylesheets loaded\");\n",
              "        run_callbacks()\n",
              "      }\n",
              "    }\n",
              "\n",
              "    function on_error(url) {\n",
              "      console.error(\"failed to load \" + url);\n",
              "    }\n",
              "\n",
              "    for (let i = 0; i < css_urls.length; i++) {\n",
              "      const url = css_urls[i];\n",
              "      const element = document.createElement(\"link\");\n",
              "      element.onload = on_load;\n",
              "      element.onerror = on_error.bind(null, url);\n",
              "      element.rel = \"stylesheet\";\n",
              "      element.type = \"text/css\";\n",
              "      element.href = url;\n",
              "      console.debug(\"Bokeh: injecting link tag for BokehJS stylesheet: \", url);\n",
              "      document.body.appendChild(element);\n",
              "    }\n",
              "\n",
              "    for (let i = 0; i < js_urls.length; i++) {\n",
              "      const url = js_urls[i];\n",
              "      const element = document.createElement('script');\n",
              "      element.onload = on_load;\n",
              "      element.onerror = on_error.bind(null, url);\n",
              "      element.async = false;\n",
              "      element.src = url;\n",
              "      console.debug(\"Bokeh: injecting script tag for BokehJS library: \", url);\n",
              "      document.head.appendChild(element);\n",
              "    }\n",
              "  };\n",
              "\n",
              "  function inject_raw_css(css) {\n",
              "    const element = document.createElement(\"style\");\n",
              "    element.appendChild(document.createTextNode(css));\n",
              "    document.body.appendChild(element);\n",
              "  }\n",
              "\n",
              "  const js_urls = [\"https://cdn.bokeh.org/bokeh/release/bokeh-3.6.0.min.js\", \"https://cdn.bokeh.org/bokeh/release/bokeh-gl-3.6.0.min.js\", \"https://cdn.bokeh.org/bokeh/release/bokeh-widgets-3.6.0.min.js\", \"https://cdn.bokeh.org/bokeh/release/bokeh-tables-3.6.0.min.js\", \"https://cdn.bokeh.org/bokeh/release/bokeh-mathjax-3.6.0.min.js\"];\n",
              "  const css_urls = [];\n",
              "\n",
              "  const inline_js = [    function(Bokeh) {\n",
              "      Bokeh.set_log_level(\"info\");\n",
              "    },\n",
              "function(Bokeh) {\n",
              "    }\n",
              "  ];\n",
              "\n",
              "  function run_inline_js() {\n",
              "    if (root.Bokeh !== undefined || force === true) {\n",
              "      try {\n",
              "            for (let i = 0; i < inline_js.length; i++) {\n",
              "      inline_js[i].call(root, root.Bokeh);\n",
              "    }\n",
              "\n",
              "      } catch (error) {throw error;\n",
              "      }} else if (Date.now() < root._bokeh_timeout) {\n",
              "      setTimeout(run_inline_js, 100);\n",
              "    } else if (!root._bokeh_failed_load) {\n",
              "      console.log(\"Bokeh: BokehJS failed to load within specified timeout.\");\n",
              "      root._bokeh_failed_load = true;\n",
              "    } else if (force !== true) {\n",
              "      const cell = $(document.getElementById(null)).parents('.cell').data().cell;\n",
              "      cell.output_area.append_execute_result(NB_LOAD_WARNING)\n",
              "    }\n",
              "  }\n",
              "\n",
              "  if (root._bokeh_is_loading === 0) {\n",
              "    console.debug(\"Bokeh: BokehJS loaded, going straight to plotting\");\n",
              "    run_inline_js();\n",
              "  } else {\n",
              "    load_libs(css_urls, js_urls, function() {\n",
              "      console.debug(\"Bokeh: BokehJS plotting callback run at\", now());\n",
              "      run_inline_js();\n",
              "    });\n",
              "  }\n",
              "}(window));"
            ],
            "application/vnd.bokehjs_load.v0+json": "'use strict';\n(function(root) {\n  function now() {\n    return new Date();\n  }\n\n  const force = true;\n\n  if (typeof root._bokeh_onload_callbacks === \"undefined\" || force === true) {\n    root._bokeh_onload_callbacks = [];\n    root._bokeh_is_loading = undefined;\n  }\n\n\n  if (typeof (root._bokeh_timeout) === \"undefined\" || force === true) {\n    root._bokeh_timeout = Date.now() + 5000;\n    root._bokeh_failed_load = false;\n  }\n\n  const NB_LOAD_WARNING = {'data': {'text/html':\n     \"<div style='background-color: #fdd'>\\n\"+\n     \"<p>\\n\"+\n     \"BokehJS does not appear to have successfully loaded. If loading BokehJS from CDN, this \\n\"+\n     \"may be due to a slow or bad network connection. Possible fixes:\\n\"+\n     \"</p>\\n\"+\n     \"<ul>\\n\"+\n     \"<li>re-rerun `output_notebook()` to attempt to load from CDN again, or</li>\\n\"+\n     \"<li>use INLINE resources instead, as so:</li>\\n\"+\n     \"</ul>\\n\"+\n     \"<code>\\n\"+\n     \"from bokeh.resources import INLINE\\n\"+\n     \"output_notebook(resources=INLINE)\\n\"+\n     \"</code>\\n\"+\n     \"</div>\"}};\n\n  function display_loaded(error = null) {\n    const el = document.getElementById(null);\n    if (el != null) {\n      const html = (() => {\n        if (typeof root.Bokeh === \"undefined\") {\n          if (error == null) {\n            return \"BokehJS is loading ...\";\n          } else {\n            return \"BokehJS failed to load.\";\n          }\n        } else {\n          const prefix = `BokehJS ${root.Bokeh.version}`;\n          if (error == null) {\n            return `${prefix} successfully loaded.`;\n          } else {\n            return `${prefix} <b>encountered errors</b> while loading and may not function as expected.`;\n          }\n        }\n      })();\n      el.innerHTML = html;\n\n      if (error != null) {\n        const wrapper = document.createElement(\"div\");\n        wrapper.style.overflow = \"auto\";\n        wrapper.style.height = \"5em\";\n        wrapper.style.resize = \"vertical\";\n        const content = document.createElement(\"div\");\n        content.style.fontFamily = \"monospace\";\n        content.style.whiteSpace = \"pre-wrap\";\n        content.style.backgroundColor = \"rgb(255, 221, 221)\";\n        content.textContent = error.stack ?? error.toString();\n        wrapper.append(content);\n        el.append(wrapper);\n      }\n    } else if (Date.now() < root._bokeh_timeout) {\n      setTimeout(() => display_loaded(error), 100);\n    }\n  }\n\n  function run_callbacks() {\n    try {\n      root._bokeh_onload_callbacks.forEach(function(callback) {\n        if (callback != null)\n          callback();\n      });\n    } finally {\n      delete root._bokeh_onload_callbacks\n    }\n    console.debug(\"Bokeh: all callbacks have finished\");\n  }\n\n  function load_libs(css_urls, js_urls, callback) {\n    if (css_urls == null) css_urls = [];\n    if (js_urls == null) js_urls = [];\n\n    root._bokeh_onload_callbacks.push(callback);\n    if (root._bokeh_is_loading > 0) {\n      console.debug(\"Bokeh: BokehJS is being loaded, scheduling callback at\", now());\n      return null;\n    }\n    if (js_urls == null || js_urls.length === 0) {\n      run_callbacks();\n      return null;\n    }\n    console.debug(\"Bokeh: BokehJS not loaded, scheduling load and callback at\", now());\n    root._bokeh_is_loading = css_urls.length + js_urls.length;\n\n    function on_load() {\n      root._bokeh_is_loading--;\n      if (root._bokeh_is_loading === 0) {\n        console.debug(\"Bokeh: all BokehJS libraries/stylesheets loaded\");\n        run_callbacks()\n      }\n    }\n\n    function on_error(url) {\n      console.error(\"failed to load \" + url);\n    }\n\n    for (let i = 0; i < css_urls.length; i++) {\n      const url = css_urls[i];\n      const element = document.createElement(\"link\");\n      element.onload = on_load;\n      element.onerror = on_error.bind(null, url);\n      element.rel = \"stylesheet\";\n      element.type = \"text/css\";\n      element.href = url;\n      console.debug(\"Bokeh: injecting link tag for BokehJS stylesheet: \", url);\n      document.body.appendChild(element);\n    }\n\n    for (let i = 0; i < js_urls.length; i++) {\n      const url = js_urls[i];\n      const element = document.createElement('script');\n      element.onload = on_load;\n      element.onerror = on_error.bind(null, url);\n      element.async = false;\n      element.src = url;\n      console.debug(\"Bokeh: injecting script tag for BokehJS library: \", url);\n      document.head.appendChild(element);\n    }\n  };\n\n  function inject_raw_css(css) {\n    const element = document.createElement(\"style\");\n    element.appendChild(document.createTextNode(css));\n    document.body.appendChild(element);\n  }\n\n  const js_urls = [\"https://cdn.bokeh.org/bokeh/release/bokeh-3.6.0.min.js\", \"https://cdn.bokeh.org/bokeh/release/bokeh-gl-3.6.0.min.js\", \"https://cdn.bokeh.org/bokeh/release/bokeh-widgets-3.6.0.min.js\", \"https://cdn.bokeh.org/bokeh/release/bokeh-tables-3.6.0.min.js\", \"https://cdn.bokeh.org/bokeh/release/bokeh-mathjax-3.6.0.min.js\"];\n  const css_urls = [];\n\n  const inline_js = [    function(Bokeh) {\n      Bokeh.set_log_level(\"info\");\n    },\nfunction(Bokeh) {\n    }\n  ];\n\n  function run_inline_js() {\n    if (root.Bokeh !== undefined || force === true) {\n      try {\n            for (let i = 0; i < inline_js.length; i++) {\n      inline_js[i].call(root, root.Bokeh);\n    }\n\n      } catch (error) {throw error;\n      }} else if (Date.now() < root._bokeh_timeout) {\n      setTimeout(run_inline_js, 100);\n    } else if (!root._bokeh_failed_load) {\n      console.log(\"Bokeh: BokehJS failed to load within specified timeout.\");\n      root._bokeh_failed_load = true;\n    } else if (force !== true) {\n      const cell = $(document.getElementById(null)).parents('.cell').data().cell;\n      cell.output_area.append_execute_result(NB_LOAD_WARNING)\n    }\n  }\n\n  if (root._bokeh_is_loading === 0) {\n    console.debug(\"Bokeh: BokehJS loaded, going straight to plotting\");\n    run_inline_js();\n  } else {\n    load_libs(css_urls, js_urls, function() {\n      console.debug(\"Bokeh: BokehJS plotting callback run at\", now());\n      run_inline_js();\n    });\n  }\n}(window));"
          },
          "metadata": {}
        },
        {
          "output_type": "display_data",
          "data": {
            "text/html": [
              "\n",
              "  <div id=\"c101b202-a78e-4e27-9161-a3df729be3bc\" data-root-id=\"p1004\" style=\"display: contents;\"></div>\n"
            ]
          },
          "metadata": {}
        },
        {
          "output_type": "display_data",
          "data": {
            "application/javascript": [
              "(function(root) {\n",
              "  function embed_document(root) {\n",
              "  const docs_json = {\"b5f327dd-e379-4507-b786-e5eac9c8ece5\":{\"version\":\"3.6.0\",\"title\":\"Bokeh Application\",\"roots\":[{\"type\":\"object\",\"name\":\"Figure\",\"id\":\"p1004\",\"attributes\":{\"height\":400,\"x_range\":{\"type\":\"object\",\"name\":\"DataRange1d\",\"id\":\"p1005\"},\"y_range\":{\"type\":\"object\",\"name\":\"DataRange1d\",\"id\":\"p1006\"},\"x_scale\":{\"type\":\"object\",\"name\":\"LinearScale\",\"id\":\"p1013\"},\"y_scale\":{\"type\":\"object\",\"name\":\"LinearScale\",\"id\":\"p1014\"},\"title\":{\"type\":\"object\",\"name\":\"Title\",\"id\":\"p1011\"},\"renderers\":[{\"type\":\"object\",\"name\":\"GlyphRenderer\",\"id\":\"p1044\",\"attributes\":{\"data_source\":{\"type\":\"object\",\"name\":\"ColumnDataSource\",\"id\":\"p1001\",\"attributes\":{\"selected\":{\"type\":\"object\",\"name\":\"Selection\",\"id\":\"p1002\",\"attributes\":{\"indices\":[],\"line_indices\":[]}},\"selection_policy\":{\"type\":\"object\",\"name\":\"UnionRenderers\",\"id\":\"p1003\"},\"data\":{\"type\":\"map\",\"entries\":[[\"x\",{\"type\":\"ndarray\",\"array\":{\"type\":\"bytes\",\"data\":\"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\"},\"shape\":[5000],\"dtype\":\"float32\",\"order\":\"little\"}],[\"y\",{\"type\":\"ndarray\",\"array\":{\"type\":\"bytes\",\"data\":\"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\"},\"shape\":[5000],\"dtype\":\"float32\",\"order\":\"little\"}],[\"color\",[\"blue\",\"blue\",\"blue\",\"blue\",\"blue\",\"blue\",\"blue\",\"blue\",\"blue\",\"blue\",\"blue\",\"blue\",\"blue\",\"blue\",\"blue\",\"blue\",\"blue\",\"blue\",\"blue\",\"blue\",\"blue\",\"blue\",\"blue\",\"blue\",\"blue\",\"blue\",\"blue\",\"blue\",\"blue\",\"blue\",\"blue\",\"blue\",\"blue\",\"blue\",\"blue\",\"blue\",\"blue\",\"blue\",\"blue\",\"blue\",\"blue\",\"blue\",\"blue\",\"blue\",\"blue\",\"blue\",\"blue\",\"blue\",\"blue\",\"blue\",\"blue\",\"blue\",\"blue\",\"blue\",\"blue\",\"blue\",\"blue\",\"blue\",\"blue\",\"blue\",\"blue\",\"blue\",\"blue\",\"blue\",\"blue\",\"blue\",\"blue\",\"blue\",\"blue\",\"blue\",\"blue\",\"blue\",\"blue\",\"blue\",\"blue\",\"blue\",\"blue\",\"blue\",\"blue\",\"blue\",\"blue\",\"blue\",\"blue\",\"blue\",\"blue\",\"blue\",\"blue\",\"blue\",\"blue\",\"blue\",\"blue\",\"blue\",\"blue\",\"blue\",\"blue\",\"blue\",\"blue\",\"blue\",\"blue\",\"blue\",\"blue\",\"blue\",\"blue\",\"blue\",\"blue\",\"blue\",\"blue\",\"blue\",\"blue\",\"blue\",\"blue\",\"blue\",\"blue\",\"blue\",\"blue\",\"blue\",\"blue\",\"blue\",\"blue\",\"blue\",\"blue\",\"blue\",\"blue\",\"blue\",\"blue\",\"blue\",\"blue\",\"blue\",\"blue\",\"blue\",\"blue\",\"blue\",\"blue\",\"blue\",\"blue\",\"blue\",\"blue\",\"blue\",\"blue\",\"blue\",\"blue\",\"blue\",\"blue\",\"blue\",\"blue\",\"blue\",\"blue\",\"blue\",\"blue\",\"blue\",\"blue\",\"blue\",\"blue\",\"blue\",\"blue\",\"blue\",\"blue\",\"blue\",\"blue\",\"blue\",\"blue\",\"blue\",\"blue\",\"blue\",\"blue\",\"blue\",\"blue\",\"blue\",\"blue\",\"blue\",\"blue\",\"blue\",\"blue\",\"blue\",\"blue\",\"blue\",\"blue\",\"blue\",\"blue\",\"blue\",\"blue\",\"blue\",\"blue\",\"blue\",\"blue\",\"blue\",\"blue\",\"blue\",\"blue\",\"blue\",\"blue\",\"blue\",\"blue\",\"blue\",\"blue\",\"blue\",\"blue\",\"blue\",\"blue\",\"blue\",\"blue\",\"blue\",\"blue\",\"blue\",\"blue\",\"blue\",\"blue\",\"blue\",\"blue\",\"blue\",\"blue\",\"blue\",\"blue\",\"blue\",\"blue\",\"blue\",\"blue\",\"blue\",\"blue\",\"blue\",\"blue\",\"blue\",\"blue\",\"blue\",\"blue\",\"blue\",\"blue\",\"blue\",\"blue\",\"blue\",\"blue\",\"blue\",\"blue\",\"blue\",\"blue\",\"blue\",\"blue\",\"blue\",\"blue\",\"blue\",\"blue\",\"blue\",\"blue\",\"blue\",\"blue\",\"blue\",\"blue\",\"blue\",\"blue\",\"blue\",\"blue\",\"blue\",\"blue\",\"blue\",\"blue\",\"blue\",\"blue\",\"blue\",\"blue\",\"blue\",\"blue\",\"blue\",\"blue\",\"blue\",\"blue\",\"blue\",\"blue\",\"blue\",\"blue\",\"blue\",\"blue\",\"blue\",\"blue\",\"blue\",\"blue\",\"blue\",\"blue\",\"blue\",\"blue\",\"blue\",\"blue\",\"blue\",\"blue\",\"blue\",\"blue\",\"blue\",\"blue\",\"blue\",\"blue\",\"blue\",\"blue\",\"blue\",\"blue\",\"blue\",\"blue\",\"blue\",\"blue\",\"blue\",\"blue\",\"blue\",\"blue\",\"blue\",\"blue\",\"blue\",\"blue\",\"blue\",\"blue\",\"blue\",\"blue\",\"blue\",\"blue\",\"blue\",\"blue\",\"blue\",\"blue\",\"blue\",\"blue\",\"blue\",\"blue\",\"blue\",\"blue\",\"blue\",\"blue\",\"blue\",\"blue\",\"blue\",\"blue\",\"blue\",\"blue\",\"blue\",\"blue\",\"blue\",\"blue\",\"blue\",\"blue\",\"blue\",\"blue\",\"blue\",\"blue\",\"blue\",\"blue\",\"blue\",\"blue\",\"blue\",\"blue\",\"blue\",\"blue\",\"blue\",\"blue\",\"blue\",\"blue\",\"blue\",\"blue\",\"blue\",\"blue\",\"blue\",\"blue\",\"blue\",\"blue\",\"blue\",\"blue\",\"blue\",\"blue\",\"blue\",\"blue\",\"blue\",\"blue\",\"blue\",\"blue\",\"blue\",\"blue\",\"blue\",\"blue\",\"blue\",\"blue\",\"blue\",\"blue\",\"blue\",\"blue\",\"blue\",\"blue\",\"blue\",\"blue\",\"blue\",\"blue\",\"blue\",\"blue\",\"blue\",\"blue\",\"blue\",\"blue\",\"blue\",\"blue\",\"blue\",\"blue\",\"blue\",\"blue\",\"blue\",\"blue\",\"blue\",\"blue\",\"blue\",\"blue\",\"blue\",\"blue\",\"blue\",\"blue\",\"blue\",\"blue\",\"blue\",\"blue\",\"blue\",\"blue\",\"blue\",\"blue\",\"blue\",\"blue\",\"blue\",\"blue\",\"blue\",\"blue\",\"blue\",\"blue\",\"blue\",\"blue\",\"blue\",\"blue\",\"blue\",\"blue\",\"blue\",\"blue\",\"blue\",\"blue\",\"blue\",\"blue\",\"blue\",\"blue\",\"blue\",\"blue\",\"blue\",\"blue\",\"blue\",\"blue\",\"blue\",\"blue\",\"blue\",\"blue\",\"blue\",\"blue\",\"blue\",\"blue\",\"blue\",\"blue\",\"blue\",\"blue\",\"blue\",\"blue\",\"blue\",\"blue\",\"blue\",\"blue\",\"blue\",\"blue\",\"blue\",\"blue\",\"blue\",\"blue\",\"blue\",\"blue\",\"blue\",\"blue\",\"blue\",\"blue\",\"blue\",\"blue\",\"blue\",\"blue\",\"blue\",\"blue\",\"blue\",\"blue\",\"blue\",\"blue\",\"blue\",\"blue\",\"blue\",\"blue\",\"blue\",\"blue\",\"blue\",\"blue\",\"blue\",\"blue\",\"blue\",\"blue\",\"blue\",\"blue\",\"blue\",\"blue\",\"blue\",\"blue\",\"blue\",\"blue\",\"blue\",\"blue\",\"blue\",\"blue\",\"blue\",\"blue\",\"blue\",\"blue\",\"blue\",\"blue\",\"blue\",\"blue\",\"blue\",\"blue\",\"blue\",\"blue\",\"blue\",\"blue\",\"blue\",\"blue\",\"blue\",\"blue\",\"blue\",\"blue\",\"blue\",\"blue\",\"blue\",\"blue\",\"blue\",\"blue\",\"blue\",\"blue\",\"blue\",\"blue\",\"blue\",\"blue\",\"blue\",\"blue\",\"blue\",\"blue\",\"blue\",\"blue\",\"blue\",\"blue\",\"blue\",\"blue\",\"blue\",\"blue\",\"blue\",\"blue\",\"blue\",\"blue\",\"blue\",\"blue\",\"blue\",\"blue\",\"blue\",\"blue\",\"blue\",\"blue\",\"blue\",\"blue\",\"blue\",\"blue\",\"blue\",\"blue\",\"blue\",\"blue\",\"blue\",\"blue\",\"blue\",\"blue\",\"blue\",\"blue\",\"blue\",\"blue\",\"blue\",\"blue\",\"blue\",\"blue\",\"blue\",\"blue\",\"blue\",\"blue\",\"blue\",\"blue\",\"blue\",\"blue\",\"blue\",\"blue\",\"blue\",\"blue\",\"blue\",\"blue\",\"blue\",\"blue\",\"blue\",\"blue\",\"blue\",\"blue\",\"blue\",\"blue\",\"blue\",\"blue\",\"blue\",\"blue\",\"blue\",\"blue\",\"blue\",\"blue\",\"blue\",\"blue\",\"blue\",\"blue\",\"blue\",\"blue\",\"blue\",\"blue\",\"blue\",\"blue\",\"blue\",\"blue\",\"blue\",\"blue\",\"blue\",\"blue\",\"blue\",\"blue\",\"blue\",\"blue\",\"blue\",\"blue\",\"blue\",\"blue\",\"blue\",\"blue\",\"blue\",\"blue\",\"blue\",\"blue\",\"blue\",\"blue\",\"blue\",\"blue\",\"blue\",\"blue\",\"blue\",\"blue\",\"blue\",\"blue\",\"blue\",\"blue\",\"blue\",\"blue\",\"blue\",\"blue\",\"blue\",\"blue\",\"blue\",\"blue\",\"blue\",\"blue\",\"blue\",\"blue\",\"blue\",\"blue\",\"blue\",\"blue\",\"blue\",\"blue\",\"blue\",\"blue\",\"blue\",\"blue\",\"blue\",\"blue\",\"blue\",\"blue\",\"blue\",\"blue\",\"blue\",\"blue\",\"blue\",\"blue\",\"blue\",\"blue\",\"blue\",\"blue\",\"blue\",\"blue\",\"blue\",\"blue\",\"blue\",\"blue\",\"blue\",\"blue\",\"blue\",\"blue\",\"blue\",\"blue\",\"blue\",\"blue\",\"blue\",\"blue\",\"blue\",\"blue\",\"blue\",\"blue\",\"blue\",\"blue\",\"blue\",\"blue\",\"blue\",\"blue\",\"blue\",\"blue\",\"blue\",\"blue\",\"blue\",\"blue\",\"blue\",\"blue\",\"blue\",\"blue\",\"blue\",\"blue\",\"blue\",\"blue\",\"blue\",\"blue\",\"blue\",\"blue\",\"blue\",\"blue\",\"blue\",\"blue\",\"blue\",\"blue\",\"blue\",\"blue\",\"blue\",\"blue\",\"blue\",\"blue\",\"blue\",\"blue\",\"blue\",\"blue\",\"blue\",\"blue\",\"blue\",\"blue\",\"blue\",\"blue\",\"blue\",\"blue\",\"blue\",\"blue\",\"blue\",\"blue\",\"blue\",\"blue\",\"blue\",\"blue\",\"blue\",\"blue\",\"blue\",\"blue\",\"blue\",\"blue\",\"blue\",\"blue\",\"blue\",\"blue\",\"blue\",\"blue\",\"blue\",\"blue\",\"blue\",\"blue\",\"blue\",\"blue\",\"blue\",\"blue\",\"blue\",\"blue\",\"blue\",\"blue\",\"blue\",\"blue\",\"blue\",\"blue\",\"blue\",\"blue\",\"blue\",\"blue\",\"blue\",\"blue\",\"blue\",\"blue\",\"blue\",\"blue\",\"blue\",\"blue\",\"blue\",\"blue\",\"blue\",\"blue\",\"blue\",\"blue\",\"blue\",\"blue\",\"blue\",\"blue\",\"blue\",\"blue\",\"blue\",\"blue\",\"blue\",\"blue\",\"blue\",\"blue\",\"blue\",\"blue\",\"blue\",\"blue\",\"blue\",\"blue\",\"blue\",\"blue\",\"blue\",\"blue\",\"blue\",\"blue\",\"blue\",\"blue\",\"blue\",\"blue\",\"blue\",\"blue\",\"blue\",\"blue\",\"blue\",\"blue\",\"blue\",\"blue\",\"blue\",\"blue\",\"blue\",\"blue\",\"blue\",\"blue\",\"blue\",\"blue\",\"blue\",\"blue\",\"blue\",\"blue\",\"blue\",\"blue\",\"blue\",\"blue\",\"blue\",\"blue\",\"blue\",\"blue\",\"blue\",\"blue\",\"blue\",\"blue\",\"blue\",\"blue\",\"blue\",\"blue\",\"blue\",\"blue\",\"blue\",\"blue\",\"blue\",\"blue\",\"blue\",\"blue\",\"blue\",\"blue\",\"blue\",\"blue\",\"blue\",\"blue\",\"blue\",\"blue\",\"blue\",\"blue\",\"blue\",\"blue\",\"blue\",\"blue\",\"blue\",\"blue\",\"blue\",\"blue\",\"blue\",\"blue\",\"blue\",\"blue\",\"blue\",\"blue\",\"blue\",\"blue\",\"blue\",\"blue\",\"blue\",\"blue\",\"blue\",\"blue\",\"blue\",\"blue\",\"blue\",\"blue\",\"blue\",\"blue\",\"blue\",\"blue\",\"blue\",\"blue\",\"blue\",\"blue\",\"blue\",\"blue\",\"blue\",\"blue\",\"blue\",\"blue\",\"blue\",\"blue\",\"blue\",\"blue\",\"blue\",\"blue\",\"blue\",\"blue\",\"blue\",\"blue\",\"blue\",\"blue\",\"blue\",\"blue\",\"blue\",\"blue\",\"blue\",\"blue\",\"blue\",\"blue\",\"blue\",\"blue\",\"blue\",\"blue\",\"blue\",\"blue\",\"blue\",\"blue\",\"blue\",\"blue\",\"blue\",\"blue\",\"blue\",\"blue\",\"blue\",\"blue\",\"blue\",\"blue\",\"blue\",\"blue\",\"blue\",\"blue\",\"blue\",\"blue\",\"blue\",\"blue\",\"blue\",\"blue\",\"blue\",\"blue\",\"blue\",\"blue\",\"blue\",\"blue\",\"blue\",\"blue\",\"blue\",\"blue\",\"blue\",\"blue\",\"blue\",\"blue\",\"blue\",\"blue\",\"blue\",\"blue\",\"blue\",\"blue\",\"blue\",\"blue\",\"blue\",\"blue\",\"blue\",\"blue\",\"blue\",\"blue\",\"blue\",\"blue\",\"blue\",\"blue\",\"blue\",\"blue\",\"blue\",\"blue\",\"blue\",\"blue\",\"blue\",\"blue\",\"blue\",\"blue\",\"blue\",\"blue\",\"blue\",\"blue\",\"blue\",\"blue\",\"blue\",\"blue\",\"blue\",\"blue\",\"blue\",\"blue\",\"blue\",\"blue\",\"blue\",\"blue\",\"blue\",\"blue\",\"blue\",\"blue\",\"blue\",\"blue\",\"blue\",\"blue\",\"blue\",\"blue\",\"blue\",\"blue\",\"blue\",\"blue\",\"blue\",\"blue\",\"blue\",\"blue\",\"blue\",\"blue\",\"blue\",\"blue\",\"blue\",\"blue\",\"blue\",\"blue\",\"blue\",\"blue\",\"blue\",\"blue\",\"blue\",\"blue\",\"blue\",\"blue\",\"blue\",\"blue\",\"blue\",\"blue\",\"blue\",\"blue\",\"blue\",\"blue\",\"blue\",\"blue\",\"blue\",\"blue\",\"blue\",\"blue\",\"blue\",\"blue\",\"blue\",\"blue\",\"blue\",\"blue\",\"blue\",\"blue\",\"blue\",\"blue\",\"blue\",\"blue\",\"blue\",\"blue\",\"blue\",\"blue\",\"blue\",\"blue\",\"blue\",\"blue\",\"blue\",\"blue\",\"blue\",\"blue\",\"blue\",\"blue\",\"blue\",\"blue\",\"blue\",\"blue\",\"blue\",\"blue\",\"blue\",\"blue\",\"blue\",\"blue\",\"blue\",\"blue\",\"blue\",\"blue\",\"blue\",\"blue\",\"blue\",\"blue\",\"blue\",\"blue\",\"blue\",\"blue\",\"blue\",\"blue\",\"blue\",\"blue\",\"blue\",\"blue\",\"blue\",\"blue\",\"blue\",\"blue\",\"blue\",\"blue\",\"blue\",\"blue\",\"blue\",\"blue\",\"blue\",\"blue\",\"blue\",\"blue\",\"blue\",\"blue\",\"blue\",\"blue\",\"blue\",\"blue\",\"blue\",\"blue\",\"blue\",\"blue\",\"blue\",\"blue\",\"blue\",\"blue\",\"blue\",\"blue\",\"blue\",\"blue\",\"blue\",\"blue\",\"blue\",\"blue\",\"blue\",\"blue\",\"blue\",\"blue\",\"blue\",\"blue\",\"blue\",\"blue\",\"blue\",\"blue\",\"blue\",\"blue\",\"blue\",\"blue\",\"blue\",\"blue\",\"blue\",\"blue\",\"blue\",\"blue\",\"blue\",\"blue\",\"blue\",\"blue\",\"blue\",\"blue\",\"blue\",\"blue\",\"blue\",\"blue\",\"blue\",\"blue\",\"blue\",\"blue\",\"blue\",\"blue\",\"blue\",\"blue\",\"blue\",\"blue\",\"blue\",\"blue\",\"blue\",\"blue\",\"blue\",\"blue\",\"blue\",\"blue\",\"blue\",\"blue\",\"blue\",\"blue\",\"blue\",\"blue\",\"blue\",\"blue\",\"blue\",\"blue\",\"blue\",\"blue\",\"blue\",\"blue\",\"blue\",\"blue\",\"blue\",\"blue\",\"blue\",\"blue\",\"blue\",\"blue\",\"blue\",\"blue\",\"blue\",\"blue\",\"blue\",\"blue\",\"blue\",\"blue\",\"blue\",\"blue\",\"blue\",\"blue\",\"blue\",\"blue\",\"blue\",\"blue\",\"blue\",\"blue\",\"blue\",\"blue\",\"blue\",\"blue\",\"blue\",\"blue\",\"blue\",\"blue\",\"blue\",\"blue\",\"blue\",\"blue\",\"blue\",\"blue\",\"blue\",\"blue\",\"blue\",\"blue\",\"blue\",\"blue\",\"blue\",\"blue\",\"blue\",\"blue\",\"blue\",\"blue\",\"blue\",\"blue\",\"blue\",\"blue\",\"blue\",\"blue\",\"blue\",\"blue\",\"blue\",\"blue\",\"blue\",\"blue\",\"blue\",\"blue\",\"blue\",\"blue\",\"blue\",\"blue\",\"blue\",\"blue\",\"blue\",\"blue\",\"blue\",\"blue\",\"blue\",\"blue\",\"blue\",\"blue\",\"blue\",\"blue\",\"blue\",\"blue\",\"blue\",\"blue\",\"blue\",\"blue\",\"blue\",\"blue\",\"blue\",\"blue\",\"blue\",\"blue\",\"blue\",\"blue\",\"blue\",\"blue\",\"blue\",\"blue\",\"blue\",\"blue\",\"blue\",\"blue\",\"blue\",\"blue\",\"blue\",\"blue\",\"blue\",\"blue\",\"blue\",\"blue\",\"blue\",\"blue\",\"blue\",\"blue\",\"blue\",\"blue\",\"blue\",\"blue\",\"blue\",\"blue\",\"blue\",\"blue\",\"blue\",\"blue\",\"blue\",\"blue\",\"blue\",\"blue\",\"blue\",\"blue\",\"blue\",\"blue\",\"blue\",\"blue\",\"blue\",\"blue\",\"blue\",\"blue\",\"blue\",\"blue\",\"blue\",\"blue\",\"blue\",\"blue\",\"blue\",\"blue\",\"blue\",\"blue\",\"blue\",\"blue\",\"blue\",\"blue\",\"blue\",\"blue\",\"blue\",\"blue\",\"blue\",\"blue\",\"blue\",\"blue\",\"blue\",\"blue\",\"blue\",\"blue\",\"blue\",\"blue\",\"blue\",\"blue\",\"blue\",\"blue\",\"blue\",\"blue\",\"blue\",\"blue\",\"blue\",\"blue\",\"blue\",\"blue\",\"blue\",\"blue\",\"blue\",\"blue\",\"blue\",\"blue\",\"blue\",\"blue\",\"blue\",\"blue\",\"blue\",\"blue\",\"blue\",\"blue\",\"blue\",\"blue\",\"blue\",\"blue\",\"blue\",\"blue\",\"blue\",\"blue\",\"blue\",\"blue\",\"blue\",\"blue\",\"blue\",\"blue\",\"blue\",\"blue\",\"blue\",\"blue\",\"blue\",\"blue\",\"blue\",\"blue\",\"blue\",\"blue\",\"blue\",\"blue\",\"blue\",\"blue\",\"blue\",\"blue\",\"blue\",\"blue\",\"blue\",\"blue\",\"blue\",\"blue\",\"blue\",\"blue\",\"blue\",\"blue\",\"blue\",\"blue\",\"blue\",\"blue\",\"blue\",\"blue\",\"blue\",\"blue\",\"blue\",\"blue\",\"blue\",\"blue\",\"blue\",\"blue\",\"blue\",\"blue\",\"blue\",\"blue\",\"blue\",\"blue\",\"blue\",\"blue\",\"blue\",\"blue\",\"blue\",\"blue\",\"blue\",\"blue\",\"blue\",\"blue\",\"blue\",\"blue\",\"blue\",\"blue\",\"blue\",\"blue\",\"blue\",\"blue\",\"blue\",\"blue\",\"blue\",\"blue\",\"blue\",\"blue\",\"blue\",\"blue\",\"blue\",\"blue\",\"blue\",\"blue\",\"blue\",\"blue\",\"blue\",\"blue\",\"blue\",\"blue\",\"blue\",\"blue\",\"blue\",\"blue\",\"blue\",\"blue\",\"blue\",\"blue\",\"blue\",\"blue\",\"blue\",\"blue\",\"blue\",\"blue\",\"blue\",\"blue\",\"blue\",\"blue\",\"blue\",\"blue\",\"blue\",\"blue\",\"blue\",\"blue\",\"blue\",\"blue\",\"blue\",\"blue\",\"blue\",\"blue\",\"blue\",\"blue\",\"blue\",\"blue\",\"blue\",\"blue\",\"blue\",\"blue\",\"blue\",\"blue\",\"blue\",\"blue\",\"blue\",\"blue\",\"blue\",\"blue\",\"blue\",\"blue\",\"blue\",\"blue\",\"blue\",\"blue\",\"blue\",\"blue\",\"blue\",\"blue\",\"blue\",\"blue\",\"blue\",\"blue\",\"blue\",\"blue\",\"blue\",\"blue\",\"blue\",\"blue\",\"blue\",\"blue\",\"blue\",\"blue\",\"blue\",\"blue\",\"blue\",\"blue\",\"blue\",\"blue\",\"blue\",\"blue\",\"blue\",\"blue\",\"blue\",\"blue\",\"blue\",\"blue\",\"blue\",\"blue\",\"blue\",\"blue\",\"blue\",\"blue\",\"blue\",\"blue\",\"blue\",\"blue\",\"blue\",\"blue\",\"blue\",\"blue\",\"blue\",\"blue\",\"blue\",\"blue\",\"blue\",\"blue\",\"blue\",\"blue\",\"blue\",\"blue\",\"blue\",\"blue\",\"blue\",\"blue\",\"blue\",\"blue\",\"blue\",\"blue\",\"blue\",\"blue\",\"blue\",\"blue\",\"blue\",\"blue\",\"blue\",\"blue\",\"blue\",\"blue\",\"blue\",\"blue\",\"blue\",\"blue\",\"blue\",\"blue\",\"blue\",\"blue\",\"blue\",\"blue\",\"blue\",\"blue\",\"blue\",\"blue\",\"blue\",\"blue\",\"blue\",\"blue\",\"blue\",\"blue\",\"blue\",\"blue\",\"blue\",\"blue\",\"blue\",\"blue\",\"blue\",\"blue\",\"blue\",\"blue\",\"blue\",\"blue\",\"blue\",\"blue\",\"blue\",\"blue\",\"blue\",\"blue\",\"blue\",\"blue\",\"blue\",\"blue\",\"blue\",\"blue\",\"blue\",\"blue\",\"blue\",\"blue\",\"blue\",\"blue\",\"blue\",\"blue\",\"blue\",\"blue\",\"blue\",\"blue\",\"blue\",\"blue\",\"blue\",\"blue\",\"blue\",\"blue\",\"blue\",\"blue\",\"blue\",\"blue\",\"blue\",\"blue\",\"blue\",\"blue\",\"blue\",\"blue\",\"blue\",\"blue\",\"blue\",\"blue\",\"blue\",\"blue\",\"blue\",\"blue\",\"blue\",\"blue\",\"blue\",\"blue\",\"blue\",\"blue\",\"blue\",\"blue\",\"blue\",\"blue\",\"blue\",\"blue\",\"blue\",\"blue\",\"blue\",\"blue\",\"blue\",\"blue\",\"blue\",\"blue\",\"blue\",\"blue\",\"blue\",\"blue\",\"blue\",\"blue\",\"blue\",\"blue\",\"blue\",\"blue\",\"blue\",\"blue\",\"blue\",\"blue\",\"blue\",\"blue\",\"blue\",\"blue\",\"blue\",\"blue\",\"blue\",\"blue\",\"blue\",\"blue\",\"blue\",\"blue\",\"blue\",\"blue\",\"blue\",\"blue\",\"blue\",\"blue\",\"blue\",\"blue\",\"blue\",\"blue\",\"blue\",\"blue\",\"blue\",\"blue\",\"blue\",\"blue\",\"blue\",\"blue\",\"blue\",\"blue\",\"blue\",\"blue\",\"blue\",\"blue\",\"blue\",\"blue\",\"blue\",\"blue\",\"blue\",\"blue\",\"blue\",\"blue\",\"blue\",\"blue\",\"blue\",\"blue\",\"blue\",\"blue\",\"blue\",\"blue\",\"blue\",\"blue\",\"blue\",\"blue\",\"blue\",\"blue\",\"blue\",\"blue\",\"blue\",\"blue\",\"blue\",\"blue\",\"blue\",\"blue\",\"blue\",\"blue\",\"blue\",\"blue\",\"blue\",\"blue\",\"blue\",\"blue\",\"blue\",\"blue\",\"blue\",\"blue\",\"blue\",\"blue\",\"blue\",\"blue\",\"blue\",\"blue\",\"blue\",\"blue\",\"blue\",\"blue\",\"blue\",\"blue\",\"blue\",\"blue\",\"blue\",\"blue\",\"blue\",\"blue\",\"blue\",\"blue\",\"blue\",\"blue\",\"blue\",\"blue\",\"blue\",\"blue\",\"blue\",\"blue\",\"blue\",\"blue\",\"blue\",\"blue\",\"blue\",\"blue\",\"blue\",\"blue\",\"blue\",\"blue\",\"blue\",\"blue\",\"blue\",\"blue\",\"blue\",\"blue\",\"blue\",\"blue\",\"blue\",\"blue\",\"blue\",\"blue\",\"blue\",\"blue\",\"blue\",\"blue\",\"blue\",\"blue\",\"blue\",\"blue\",\"blue\",\"blue\",\"blue\",\"blue\",\"blue\",\"blue\",\"blue\",\"blue\",\"blue\",\"blue\",\"blue\",\"blue\",\"blue\",\"blue\",\"blue\",\"blue\",\"blue\",\"blue\",\"blue\",\"blue\",\"blue\",\"blue\",\"blue\",\"blue\",\"blue\",\"blue\",\"blue\",\"blue\",\"blue\",\"blue\",\"blue\",\"blue\",\"blue\",\"blue\",\"blue\",\"blue\",\"blue\",\"blue\",\"blue\",\"blue\",\"blue\",\"blue\",\"blue\",\"blue\",\"blue\",\"blue\",\"blue\",\"blue\",\"blue\",\"blue\",\"blue\",\"blue\",\"blue\",\"blue\",\"blue\",\"blue\",\"blue\",\"blue\",\"blue\",\"blue\",\"blue\",\"blue\",\"blue\",\"blue\",\"blue\",\"blue\",\"blue\",\"blue\",\"blue\",\"blue\",\"blue\",\"blue\",\"blue\",\"blue\",\"blue\",\"blue\",\"blue\",\"blue\",\"blue\",\"blue\",\"blue\",\"blue\",\"blue\",\"blue\",\"blue\",\"blue\",\"blue\",\"blue\",\"blue\",\"blue\",\"blue\",\"blue\",\"blue\",\"blue\",\"blue\",\"blue\",\"blue\",\"blue\",\"blue\",\"blue\",\"blue\",\"blue\",\"blue\",\"blue\",\"blue\",\"blue\",\"blue\",\"blue\",\"blue\",\"blue\",\"blue\",\"blue\",\"blue\",\"blue\",\"blue\",\"blue\",\"blue\",\"blue\",\"blue\",\"blue\",\"blue\",\"blue\",\"blue\",\"blue\",\"blue\",\"blue\",\"blue\",\"blue\",\"blue\",\"blue\",\"blue\",\"blue\",\"blue\",\"blue\",\"blue\",\"blue\",\"blue\",\"blue\",\"blue\",\"blue\",\"blue\",\"blue\",\"blue\",\"blue\",\"blue\",\"blue\",\"blue\",\"blue\",\"blue\",\"blue\",\"blue\",\"blue\",\"blue\",\"blue\",\"blue\",\"blue\",\"blue\",\"blue\",\"blue\",\"blue\",\"blue\",\"blue\",\"blue\",\"blue\",\"blue\",\"blue\",\"blue\",\"blue\",\"blue\",\"blue\",\"blue\",\"blue\",\"blue\",\"blue\",\"blue\",\"blue\",\"blue\",\"blue\",\"blue\",\"blue\",\"blue\",\"blue\",\"blue\",\"blue\",\"blue\",\"blue\",\"blue\",\"blue\",\"blue\",\"blue\",\"blue\",\"blue\",\"blue\",\"blue\",\"blue\",\"blue\",\"blue\",\"blue\",\"blue\",\"blue\",\"blue\",\"blue\",\"blue\",\"blue\",\"blue\",\"blue\",\"blue\",\"blue\",\"blue\",\"blue\",\"blue\",\"blue\",\"blue\",\"blue\",\"blue\",\"blue\",\"blue\",\"blue\",\"blue\",\"blue\",\"blue\",\"blue\",\"blue\",\"blue\",\"blue\",\"blue\",\"blue\",\"blue\",\"blue\",\"blue\",\"blue\",\"blue\",\"blue\",\"blue\",\"blue\",\"blue\",\"blue\",\"blue\",\"blue\",\"blue\",\"blue\",\"blue\",\"blue\",\"blue\",\"blue\",\"blue\",\"blue\",\"blue\",\"blue\",\"blue\",\"blue\",\"blue\",\"blue\",\"blue\",\"blue\",\"blue\",\"blue\",\"blue\",\"blue\",\"blue\",\"blue\",\"blue\",\"blue\",\"blue\",\"blue\",\"blue\",\"blue\",\"blue\",\"blue\",\"blue\",\"blue\",\"blue\",\"blue\",\"blue\",\"blue\",\"blue\",\"blue\",\"blue\",\"blue\",\"blue\",\"blue\",\"blue\",\"blue\",\"blue\",\"blue\",\"blue\",\"blue\",\"blue\",\"blue\",\"blue\",\"blue\",\"blue\",\"blue\",\"blue\",\"blue\",\"blue\",\"blue\",\"blue\",\"blue\",\"blue\",\"blue\",\"blue\",\"blue\",\"blue\",\"blue\",\"blue\",\"blue\",\"blue\",\"blue\",\"blue\",\"blue\",\"blue\",\"blue\",\"blue\",\"blue\",\"blue\",\"blue\",\"blue\",\"blue\",\"blue\",\"blue\",\"blue\",\"blue\",\"blue\",\"blue\",\"blue\",\"blue\",\"blue\",\"blue\",\"blue\",\"blue\",\"blue\",\"blue\",\"blue\",\"blue\",\"blue\",\"blue\",\"blue\",\"blue\",\"blue\",\"blue\",\"blue\",\"blue\",\"blue\",\"blue\",\"blue\",\"blue\",\"blue\",\"blue\",\"blue\",\"blue\",\"blue\",\"blue\",\"blue\",\"blue\",\"blue\",\"blue\",\"blue\",\"blue\",\"blue\",\"blue\",\"blue\",\"blue\",\"blue\",\"blue\",\"blue\",\"blue\",\"blue\",\"blue\",\"blue\",\"blue\",\"blue\",\"blue\",\"blue\",\"blue\",\"blue\",\"blue\",\"blue\",\"blue\",\"blue\",\"blue\",\"blue\",\"blue\",\"blue\",\"blue\",\"blue\",\"blue\",\"blue\",\"blue\",\"blue\",\"blue\",\"blue\",\"blue\",\"blue\",\"blue\",\"blue\",\"blue\",\"blue\",\"blue\",\"blue\",\"blue\",\"blue\",\"blue\",\"blue\",\"blue\",\"blue\",\"blue\",\"blue\",\"blue\",\"blue\",\"blue\",\"blue\",\"blue\",\"blue\",\"blue\",\"blue\",\"blue\",\"blue\",\"blue\",\"blue\",\"blue\",\"blue\",\"blue\",\"blue\",\"blue\",\"blue\",\"blue\",\"blue\",\"blue\",\"blue\",\"blue\",\"blue\",\"blue\",\"blue\",\"blue\",\"blue\",\"blue\",\"blue\",\"blue\",\"blue\",\"blue\",\"blue\",\"blue\",\"blue\",\"blue\",\"blue\",\"blue\",\"blue\",\"blue\",\"blue\",\"blue\",\"blue\",\"blue\",\"blue\",\"blue\",\"blue\",\"blue\",\"blue\",\"blue\",\"blue\",\"blue\",\"blue\",\"blue\",\"blue\",\"blue\",\"blue\",\"blue\",\"blue\",\"blue\",\"blue\",\"blue\",\"blue\",\"blue\",\"blue\",\"blue\",\"blue\",\"blue\",\"blue\",\"blue\",\"blue\",\"blue\",\"blue\",\"blue\",\"blue\",\"blue\",\"blue\",\"blue\",\"blue\",\"blue\",\"blue\",\"blue\",\"blue\",\"blue\",\"blue\",\"blue\",\"blue\",\"blue\",\"blue\",\"blue\",\"blue\",\"blue\",\"blue\",\"blue\",\"blue\",\"blue\",\"blue\",\"blue\",\"blue\",\"blue\",\"blue\",\"blue\",\"blue\",\"blue\",\"blue\",\"blue\",\"blue\",\"blue\",\"blue\",\"blue\",\"blue\",\"blue\",\"blue\",\"blue\",\"blue\",\"blue\",\"blue\",\"blue\",\"blue\",\"blue\",\"blue\",\"blue\",\"blue\",\"blue\",\"blue\",\"blue\",\"blue\",\"blue\",\"blue\",\"blue\",\"blue\",\"blue\",\"blue\",\"blue\",\"blue\",\"blue\",\"blue\",\"blue\",\"blue\",\"blue\",\"blue\",\"blue\",\"blue\",\"blue\",\"blue\",\"blue\",\"blue\",\"blue\",\"blue\",\"blue\",\"blue\",\"blue\",\"blue\",\"blue\",\"blue\",\"blue\",\"blue\",\"blue\",\"blue\",\"blue\",\"blue\",\"blue\",\"blue\",\"blue\",\"blue\",\"blue\",\"blue\",\"blue\",\"blue\",\"blue\",\"blue\",\"blue\",\"blue\",\"blue\",\"blue\",\"blue\",\"blue\",\"blue\",\"blue\",\"blue\",\"blue\",\"blue\",\"blue\",\"blue\",\"blue\",\"blue\",\"blue\",\"blue\",\"blue\",\"blue\",\"blue\",\"blue\",\"blue\",\"blue\",\"blue\",\"blue\",\"blue\",\"blue\",\"blue\",\"blue\",\"blue\",\"blue\",\"blue\",\"blue\",\"blue\",\"blue\",\"blue\",\"blue\",\"blue\",\"blue\",\"blue\",\"blue\",\"blue\",\"blue\",\"blue\",\"blue\",\"blue\",\"blue\",\"blue\",\"blue\",\"blue\",\"blue\",\"blue\",\"blue\",\"blue\",\"blue\",\"blue\",\"blue\",\"blue\",\"blue\",\"blue\",\"blue\",\"blue\",\"blue\",\"blue\",\"blue\",\"blue\",\"blue\",\"blue\",\"blue\",\"blue\",\"blue\",\"blue\",\"blue\",\"blue\",\"blue\",\"blue\",\"blue\",\"blue\",\"blue\",\"blue\",\"blue\",\"blue\",\"blue\",\"blue\",\"blue\",\"blue\",\"blue\",\"blue\",\"blue\",\"blue\",\"blue\",\"blue\",\"blue\",\"blue\",\"blue\",\"blue\",\"blue\",\"blue\",\"blue\",\"blue\",\"blue\",\"blue\",\"blue\",\"blue\",\"blue\",\"blue\",\"blue\",\"blue\",\"blue\",\"blue\",\"blue\",\"blue\",\"blue\",\"blue\",\"blue\",\"blue\",\"blue\",\"blue\",\"blue\",\"blue\",\"blue\",\"blue\",\"blue\",\"blue\",\"blue\",\"blue\",\"blue\",\"blue\",\"blue\",\"blue\",\"blue\",\"blue\",\"blue\",\"blue\",\"blue\",\"blue\",\"blue\",\"blue\",\"blue\",\"blue\",\"blue\",\"blue\",\"blue\",\"blue\",\"blue\",\"blue\",\"blue\",\"blue\",\"blue\",\"blue\",\"blue\",\"blue\",\"blue\",\"blue\",\"blue\",\"blue\",\"blue\",\"blue\",\"blue\",\"blue\",\"blue\",\"blue\",\"blue\",\"blue\",\"blue\",\"blue\",\"blue\",\"blue\",\"blue\",\"blue\",\"blue\",\"blue\",\"blue\",\"blue\",\"blue\",\"blue\",\"blue\",\"blue\",\"blue\",\"blue\",\"blue\",\"blue\",\"blue\",\"blue\",\"blue\",\"blue\",\"blue\",\"blue\",\"blue\",\"blue\",\"blue\",\"blue\",\"blue\",\"blue\",\"blue\",\"blue\",\"blue\",\"blue\",\"blue\",\"blue\",\"blue\",\"blue\",\"blue\",\"blue\",\"blue\",\"blue\",\"blue\",\"blue\",\"blue\",\"blue\",\"blue\",\"blue\",\"blue\",\"blue\",\"blue\",\"blue\",\"blue\",\"blue\",\"blue\",\"blue\",\"blue\",\"blue\",\"blue\",\"blue\",\"blue\",\"blue\",\"blue\",\"blue\",\"blue\",\"blue\",\"blue\",\"blue\",\"blue\",\"blue\",\"blue\",\"blue\",\"blue\",\"blue\",\"blue\",\"blue\",\"blue\",\"blue\",\"blue\",\"blue\",\"blue\",\"blue\",\"blue\",\"blue\",\"blue\",\"blue\",\"blue\",\"blue\",\"blue\",\"blue\",\"blue\",\"blue\",\"blue\",\"blue\",\"blue\",\"blue\",\"blue\",\"blue\",\"blue\",\"blue\",\"blue\",\"blue\",\"blue\",\"blue\",\"blue\",\"blue\",\"blue\",\"blue\",\"blue\",\"blue\",\"blue\",\"blue\",\"blue\",\"blue\",\"blue\",\"blue\",\"blue\",\"blue\",\"blue\",\"blue\",\"blue\",\"blue\",\"blue\",\"blue\",\"blue\",\"blue\",\"blue\",\"blue\",\"blue\",\"blue\",\"blue\",\"blue\",\"blue\",\"blue\",\"blue\",\"blue\",\"blue\",\"blue\",\"blue\",\"blue\",\"blue\",\"blue\",\"blue\",\"blue\",\"blue\",\"blue\",\"blue\",\"blue\",\"blue\",\"blue\",\"blue\",\"blue\",\"blue\",\"blue\",\"blue\",\"blue\",\"blue\",\"blue\",\"blue\",\"blue\",\"blue\",\"blue\",\"blue\",\"blue\",\"blue\",\"blue\",\"blue\",\"blue\",\"blue\",\"blue\",\"blue\",\"blue\",\"blue\",\"blue\",\"blue\",\"blue\",\"blue\",\"blue\",\"blue\",\"blue\",\"blue\",\"blue\",\"blue\",\"blue\",\"blue\",\"blue\",\"blue\",\"blue\",\"blue\",\"blue\",\"blue\",\"blue\",\"blue\",\"blue\",\"blue\",\"blue\",\"blue\",\"blue\",\"blue\",\"blue\",\"blue\",\"blue\",\"blue\",\"blue\",\"blue\",\"blue\",\"blue\",\"blue\",\"blue\",\"blue\",\"blue\",\"blue\",\"blue\",\"blue\",\"blue\",\"blue\",\"blue\",\"blue\",\"blue\",\"blue\",\"blue\",\"blue\",\"blue\",\"blue\",\"blue\",\"blue\",\"blue\",\"blue\",\"blue\",\"blue\",\"blue\",\"blue\",\"blue\",\"blue\",\"blue\",\"blue\",\"blue\",\"blue\",\"blue\",\"blue\",\"blue\",\"blue\",\"blue\",\"blue\",\"blue\",\"blue\",\"blue\",\"blue\",\"blue\",\"blue\",\"blue\",\"blue\",\"blue\",\"blue\",\"blue\",\"blue\",\"blue\",\"blue\",\"blue\",\"blue\",\"blue\",\"blue\",\"blue\",\"blue\",\"blue\",\"blue\",\"blue\",\"blue\",\"blue\",\"blue\",\"blue\",\"blue\",\"blue\",\"blue\",\"blue\",\"blue\",\"blue\",\"blue\",\"blue\",\"blue\",\"blue\",\"blue\",\"blue\",\"blue\",\"blue\",\"blue\",\"blue\",\"blue\",\"blue\",\"blue\",\"blue\",\"blue\",\"blue\",\"blue\",\"blue\",\"blue\",\"blue\",\"blue\",\"blue\",\"blue\",\"blue\",\"blue\",\"blue\",\"blue\",\"blue\",\"blue\",\"blue\",\"blue\",\"blue\",\"blue\",\"blue\",\"blue\",\"blue\",\"blue\",\"blue\",\"blue\",\"blue\",\"blue\",\"blue\",\"blue\",\"blue\",\"blue\",\"blue\",\"blue\",\"blue\",\"blue\",\"blue\",\"blue\",\"blue\",\"blue\",\"blue\",\"blue\",\"blue\",\"blue\",\"blue\",\"blue\",\"blue\",\"blue\",\"blue\",\"blue\",\"blue\",\"blue\",\"blue\",\"blue\",\"blue\",\"blue\",\"blue\",\"blue\",\"blue\",\"blue\",\"blue\",\"blue\",\"blue\",\"blue\",\"blue\",\"blue\",\"blue\",\"blue\",\"blue\",\"blue\",\"blue\",\"blue\",\"blue\",\"blue\",\"blue\",\"blue\",\"blue\",\"blue\",\"blue\",\"blue\",\"blue\",\"blue\",\"blue\",\"blue\",\"blue\",\"blue\",\"blue\",\"blue\",\"blue\",\"blue\",\"blue\",\"blue\",\"blue\",\"blue\",\"blue\",\"blue\",\"blue\",\"blue\",\"blue\",\"blue\",\"blue\",\"blue\",\"blue\",\"blue\",\"blue\",\"blue\",\"blue\",\"blue\",\"blue\",\"blue\",\"blue\",\"blue\",\"blue\",\"blue\",\"blue\",\"blue\",\"blue\",\"blue\",\"blue\",\"blue\",\"blue\",\"blue\",\"blue\",\"blue\",\"blue\",\"blue\",\"blue\",\"blue\",\"blue\",\"blue\",\"blue\",\"blue\",\"blue\",\"blue\",\"blue\",\"blue\",\"blue\",\"blue\",\"blue\",\"blue\",\"blue\",\"blue\",\"blue\",\"blue\",\"blue\",\"blue\",\"blue\",\"blue\",\"blue\",\"blue\",\"blue\",\"blue\",\"blue\",\"blue\",\"blue\",\"blue\",\"blue\",\"blue\",\"blue\",\"blue\",\"blue\",\"blue\",\"blue\",\"blue\",\"blue\",\"blue\",\"blue\",\"blue\",\"blue\",\"blue\",\"blue\",\"blue\",\"blue\",\"blue\",\"blue\",\"blue\",\"blue\",\"blue\",\"blue\",\"blue\",\"blue\",\"blue\",\"blue\",\"blue\",\"blue\",\"blue\",\"blue\",\"blue\",\"blue\",\"blue\",\"blue\",\"blue\",\"blue\",\"blue\",\"blue\",\"blue\",\"blue\",\"blue\",\"blue\",\"blue\",\"blue\",\"blue\",\"blue\",\"blue\",\"blue\",\"blue\",\"blue\",\"blue\",\"blue\",\"blue\",\"blue\",\"blue\",\"blue\",\"blue\",\"blue\",\"blue\",\"blue\",\"blue\",\"blue\",\"blue\",\"blue\",\"blue\",\"blue\",\"blue\",\"blue\",\"blue\",\"blue\",\"blue\",\"blue\",\"blue\",\"blue\",\"blue\",\"blue\",\"blue\",\"blue\",\"blue\",\"blue\",\"blue\",\"blue\",\"blue\",\"blue\",\"blue\",\"blue\",\"blue\",\"blue\",\"blue\",\"blue\",\"blue\",\"blue\",\"blue\",\"blue\",\"blue\",\"blue\",\"blue\",\"blue\",\"blue\",\"blue\",\"blue\",\"blue\",\"blue\",\"blue\",\"blue\",\"blue\",\"blue\",\"blue\",\"blue\",\"blue\",\"blue\",\"blue\",\"blue\",\"blue\",\"blue\",\"blue\",\"blue\",\"blue\",\"blue\",\"blue\",\"blue\",\"blue\",\"blue\",\"blue\",\"blue\",\"blue\",\"blue\",\"blue\",\"blue\",\"blue\",\"blue\",\"blue\",\"blue\",\"blue\",\"blue\",\"blue\",\"blue\",\"blue\",\"blue\",\"blue\",\"blue\",\"blue\",\"blue\",\"blue\",\"blue\",\"blue\",\"blue\",\"blue\",\"blue\",\"blue\",\"blue\",\"blue\",\"blue\",\"blue\",\"blue\",\"blue\",\"blue\",\"blue\",\"blue\",\"blue\",\"blue\",\"blue\",\"blue\",\"blue\",\"blue\",\"blue\",\"blue\",\"blue\",\"blue\",\"blue\",\"blue\",\"blue\",\"blue\",\"blue\",\"blue\",\"blue\",\"blue\",\"blue\",\"blue\",\"blue\",\"blue\",\"blue\",\"blue\",\"blue\",\"blue\",\"blue\",\"blue\",\"blue\",\"blue\",\"blue\",\"blue\",\"blue\",\"blue\",\"blue\",\"blue\",\"blue\",\"blue\",\"blue\",\"blue\",\"blue\",\"blue\",\"blue\",\"blue\",\"blue\",\"blue\",\"blue\",\"blue\",\"blue\",\"blue\",\"blue\",\"blue\",\"blue\",\"blue\",\"blue\",\"blue\",\"blue\",\"blue\",\"blue\",\"blue\",\"blue\",\"blue\",\"blue\",\"blue\",\"blue\",\"blue\",\"blue\",\"blue\",\"blue\",\"blue\",\"blue\",\"blue\",\"blue\",\"blue\",\"blue\",\"blue\",\"blue\",\"blue\",\"blue\",\"blue\",\"blue\",\"blue\",\"blue\",\"blue\",\"blue\",\"blue\",\"blue\",\"blue\",\"blue\",\"blue\",\"blue\",\"blue\",\"blue\",\"blue\",\"blue\",\"blue\",\"blue\",\"blue\",\"blue\",\"blue\",\"blue\",\"blue\",\"blue\",\"blue\",\"blue\",\"blue\",\"blue\",\"blue\",\"blue\",\"blue\",\"blue\",\"blue\",\"blue\",\"blue\",\"blue\",\"blue\",\"blue\",\"blue\",\"blue\",\"blue\",\"blue\",\"blue\",\"blue\",\"blue\",\"blue\",\"blue\",\"blue\",\"blue\",\"blue\",\"blue\",\"blue\",\"blue\",\"blue\",\"blue\",\"blue\",\"blue\",\"blue\",\"blue\",\"blue\",\"blue\",\"blue\",\"blue\",\"blue\",\"blue\",\"blue\",\"blue\",\"blue\",\"blue\",\"blue\",\"blue\",\"blue\",\"blue\",\"blue\",\"blue\",\"blue\",\"blue\",\"blue\",\"blue\",\"blue\",\"blue\",\"blue\",\"blue\",\"blue\",\"blue\",\"blue\",\"blue\",\"blue\",\"blue\",\"blue\",\"blue\",\"blue\",\"blue\",\"blue\",\"blue\",\"blue\",\"blue\",\"blue\",\"blue\",\"blue\",\"blue\",\"blue\",\"blue\",\"blue\",\"blue\",\"blue\",\"blue\",\"blue\",\"blue\",\"blue\",\"blue\",\"blue\",\"blue\",\"blue\",\"blue\",\"blue\",\"blue\",\"blue\",\"blue\",\"blue\",\"blue\",\"blue\",\"blue\",\"blue\",\"blue\",\"blue\",\"blue\",\"blue\",\"blue\",\"blue\",\"blue\",\"blue\",\"blue\",\"blue\",\"blue\",\"blue\",\"blue\",\"blue\",\"blue\",\"blue\",\"blue\",\"blue\",\"blue\",\"blue\",\"blue\",\"blue\",\"blue\",\"blue\",\"blue\",\"blue\",\"blue\",\"blue\",\"blue\",\"blue\",\"blue\",\"blue\",\"blue\",\"blue\",\"blue\",\"blue\",\"blue\",\"blue\",\"blue\",\"blue\",\"blue\",\"blue\",\"blue\",\"blue\",\"blue\",\"blue\",\"blue\",\"blue\",\"blue\",\"blue\",\"blue\",\"blue\",\"blue\",\"blue\",\"blue\",\"blue\",\"blue\",\"blue\",\"blue\",\"blue\",\"blue\",\"blue\",\"blue\",\"blue\",\"blue\",\"blue\",\"blue\",\"blue\",\"blue\",\"blue\",\"blue\",\"blue\",\"blue\",\"blue\",\"blue\",\"blue\",\"blue\",\"blue\",\"blue\",\"blue\",\"blue\",\"blue\",\"blue\",\"blue\",\"blue\",\"blue\",\"blue\",\"blue\",\"blue\",\"blue\",\"blue\",\"blue\",\"blue\",\"blue\",\"blue\",\"blue\",\"blue\",\"blue\",\"blue\",\"blue\",\"blue\",\"blue\",\"blue\",\"blue\",\"blue\",\"blue\",\"blue\",\"blue\",\"blue\",\"blue\",\"blue\",\"blue\",\"blue\",\"blue\",\"blue\",\"blue\",\"blue\",\"blue\",\"blue\",\"blue\",\"blue\",\"blue\",\"blue\",\"blue\",\"blue\",\"blue\",\"blue\",\"blue\",\"blue\",\"blue\",\"blue\",\"blue\",\"blue\",\"blue\",\"blue\",\"blue\",\"blue\",\"blue\",\"blue\",\"blue\",\"blue\",\"blue\",\"blue\",\"blue\",\"blue\",\"blue\",\"blue\",\"blue\",\"blue\",\"blue\",\"blue\",\"blue\",\"blue\",\"blue\",\"blue\",\"blue\",\"blue\",\"blue\",\"blue\",\"blue\",\"blue\",\"blue\",\"blue\",\"blue\",\"blue\",\"blue\",\"blue\",\"blue\",\"blue\",\"blue\",\"blue\",\"blue\",\"blue\",\"blue\",\"blue\",\"blue\",\"blue\",\"blue\",\"blue\",\"blue\",\"blue\",\"blue\",\"blue\",\"blue\",\"blue\",\"blue\",\"blue\",\"blue\",\"blue\",\"blue\",\"blue\",\"blue\",\"blue\",\"blue\",\"blue\",\"blue\",\"blue\",\"blue\",\"blue\",\"blue\",\"blue\",\"blue\",\"blue\",\"blue\",\"blue\",\"blue\",\"blue\",\"blue\",\"blue\",\"blue\",\"blue\",\"blue\",\"blue\",\"blue\",\"blue\",\"blue\",\"blue\",\"blue\",\"blue\",\"blue\",\"blue\",\"blue\",\"blue\",\"blue\",\"blue\",\"blue\",\"blue\",\"blue\",\"blue\",\"blue\",\"blue\",\"blue\",\"blue\",\"blue\",\"blue\",\"blue\",\"blue\",\"blue\",\"blue\",\"blue\",\"blue\",\"blue\",\"blue\",\"blue\",\"blue\",\"blue\",\"blue\",\"blue\",\"blue\",\"blue\",\"blue\",\"blue\",\"blue\",\"blue\",\"blue\",\"blue\",\"blue\",\"blue\",\"blue\",\"blue\",\"blue\",\"blue\",\"blue\",\"blue\",\"blue\",\"blue\",\"blue\",\"blue\",\"blue\",\"blue\",\"blue\",\"blue\",\"blue\",\"blue\",\"blue\",\"blue\",\"blue\",\"blue\",\"blue\",\"blue\",\"blue\",\"blue\",\"blue\",\"blue\",\"blue\",\"blue\",\"blue\",\"blue\",\"blue\",\"blue\",\"blue\",\"blue\",\"blue\",\"blue\",\"blue\",\"blue\",\"blue\",\"blue\",\"blue\",\"blue\",\"blue\",\"blue\",\"blue\",\"blue\",\"blue\",\"blue\",\"blue\",\"blue\",\"blue\",\"blue\",\"blue\",\"blue\",\"blue\",\"blue\",\"blue\",\"blue\",\"blue\",\"blue\",\"blue\",\"blue\",\"blue\",\"blue\",\"blue\",\"blue\",\"blue\",\"blue\",\"blue\",\"blue\",\"blue\",\"blue\",\"blue\",\"blue\",\"blue\",\"blue\",\"blue\",\"blue\",\"blue\",\"blue\",\"blue\",\"blue\",\"blue\",\"blue\",\"blue\",\"blue\",\"blue\",\"blue\",\"blue\",\"blue\",\"blue\",\"blue\",\"blue\",\"blue\",\"blue\",\"blue\",\"blue\",\"blue\",\"blue\",\"blue\",\"blue\",\"blue\",\"blue\",\"blue\",\"blue\",\"blue\",\"blue\",\"blue\",\"blue\",\"blue\",\"blue\",\"blue\",\"blue\",\"blue\",\"blue\",\"blue\",\"blue\",\"blue\",\"blue\",\"blue\",\"blue\",\"blue\",\"blue\",\"blue\",\"blue\",\"blue\",\"blue\",\"blue\",\"blue\",\"blue\",\"blue\",\"blue\",\"blue\",\"blue\",\"blue\",\"blue\",\"blue\",\"blue\",\"blue\",\"blue\",\"blue\",\"blue\",\"blue\",\"blue\",\"blue\",\"blue\",\"blue\",\"blue\",\"blue\",\"blue\",\"blue\",\"blue\",\"blue\",\"blue\",\"blue\",\"blue\",\"blue\",\"blue\",\"blue\",\"blue\",\"blue\",\"blue\",\"blue\",\"blue\",\"blue\",\"blue\",\"blue\",\"blue\",\"blue\",\"blue\",\"blue\",\"blue\",\"blue\",\"blue\",\"blue\",\"blue\",\"blue\",\"blue\",\"blue\",\"blue\",\"blue\",\"blue\",\"blue\",\"blue\",\"blue\",\"blue\",\"blue\",\"blue\",\"blue\",\"blue\",\"blue\",\"blue\",\"blue\",\"blue\",\"blue\",\"blue\",\"blue\",\"blue\",\"blue\",\"blue\",\"blue\",\"blue\",\"blue\",\"blue\",\"blue\",\"blue\",\"blue\",\"blue\",\"blue\",\"blue\",\"blue\",\"blue\",\"blue\",\"blue\",\"blue\",\"blue\",\"blue\",\"blue\",\"blue\",\"blue\",\"blue\",\"blue\",\"blue\",\"blue\",\"blue\",\"blue\",\"blue\",\"blue\",\"blue\",\"blue\",\"blue\",\"blue\",\"blue\",\"blue\",\"blue\",\"blue\",\"blue\",\"blue\",\"blue\",\"blue\",\"blue\",\"blue\",\"blue\",\"blue\",\"blue\",\"blue\",\"blue\",\"blue\",\"blue\",\"blue\",\"blue\",\"blue\",\"blue\",\"blue\",\"blue\",\"blue\",\"blue\",\"blue\",\"blue\",\"blue\",\"blue\",\"blue\",\"blue\",\"blue\",\"blue\",\"blue\",\"blue\",\"blue\",\"blue\",\"blue\",\"blue\",\"blue\",\"blue\",\"blue\",\"blue\",\"blue\",\"blue\",\"blue\",\"blue\",\"blue\",\"blue\",\"blue\",\"blue\",\"blue\",\"blue\",\"blue\",\"blue\",\"blue\",\"blue\",\"blue\",\"blue\",\"blue\",\"blue\",\"blue\",\"blue\",\"blue\",\"blue\",\"blue\",\"blue\",\"blue\",\"blue\",\"blue\",\"blue\",\"blue\",\"blue\",\"blue\",\"blue\",\"blue\",\"blue\",\"blue\",\"blue\",\"blue\",\"blue\",\"blue\",\"blue\",\"blue\",\"blue\",\"blue\",\"blue\",\"blue\",\"blue\",\"blue\",\"blue\",\"blue\",\"blue\",\"blue\",\"blue\",\"blue\",\"blue\",\"blue\",\"blue\",\"blue\",\"blue\",\"blue\",\"blue\",\"blue\",\"blue\",\"blue\",\"blue\",\"blue\",\"blue\",\"blue\",\"blue\",\"blue\",\"blue\",\"blue\",\"blue\",\"blue\",\"blue\",\"blue\",\"blue\",\"blue\",\"blue\",\"blue\",\"blue\",\"blue\",\"blue\",\"blue\",\"blue\",\"blue\",\"blue\",\"blue\",\"blue\",\"blue\",\"blue\",\"blue\",\"blue\",\"blue\",\"blue\",\"blue\",\"blue\",\"blue\",\"blue\",\"blue\",\"blue\",\"blue\",\"blue\",\"blue\",\"blue\",\"blue\",\"blue\",\"blue\",\"blue\",\"blue\",\"blue\",\"blue\",\"blue\",\"blue\",\"blue\",\"blue\",\"blue\",\"blue\",\"blue\",\"blue\",\"blue\",\"blue\",\"blue\",\"blue\",\"blue\",\"blue\",\"blue\",\"blue\",\"blue\",\"blue\",\"blue\",\"blue\",\"blue\",\"blue\",\"blue\",\"blue\",\"blue\",\"blue\",\"blue\",\"blue\",\"blue\",\"blue\",\"blue\",\"blue\",\"blue\",\"blue\",\"blue\",\"blue\",\"blue\",\"blue\",\"blue\",\"blue\",\"blue\",\"blue\",\"blue\",\"blue\",\"blue\",\"blue\",\"blue\",\"blue\",\"blue\",\"blue\",\"blue\",\"blue\",\"blue\",\"blue\",\"blue\",\"blue\",\"blue\",\"blue\",\"blue\",\"blue\",\"blue\",\"blue\",\"blue\",\"blue\",\"blue\",\"blue\",\"blue\",\"blue\",\"blue\",\"blue\",\"blue\",\"blue\",\"blue\",\"blue\",\"blue\",\"blue\",\"blue\",\"blue\",\"blue\",\"blue\",\"blue\",\"blue\",\"blue\",\"blue\",\"blue\",\"blue\",\"blue\",\"blue\",\"blue\",\"blue\",\"blue\",\"blue\",\"blue\",\"blue\",\"blue\",\"blue\",\"blue\",\"blue\",\"blue\",\"blue\",\"blue\",\"blue\",\"blue\",\"blue\",\"blue\",\"blue\",\"blue\",\"blue\",\"blue\",\"blue\",\"blue\",\"blue\",\"blue\",\"blue\",\"blue\",\"blue\",\"blue\",\"blue\",\"blue\",\"blue\",\"blue\",\"blue\",\"blue\",\"blue\",\"blue\",\"blue\",\"blue\",\"blue\",\"blue\",\"blue\",\"blue\",\"blue\",\"blue\",\"blue\",\"blue\",\"blue\",\"blue\",\"blue\",\"blue\",\"blue\",\"blue\",\"blue\",\"blue\",\"blue\",\"blue\",\"blue\",\"blue\",\"blue\",\"blue\",\"blue\",\"blue\",\"blue\",\"blue\",\"blue\",\"blue\",\"blue\",\"blue\",\"blue\",\"blue\",\"blue\",\"blue\",\"blue\",\"blue\",\"blue\",\"blue\",\"blue\",\"blue\",\"blue\",\"blue\",\"blue\",\"blue\",\"blue\",\"blue\",\"blue\",\"blue\",\"blue\",\"blue\",\"blue\",\"blue\",\"blue\",\"blue\",\"blue\",\"blue\",\"blue\",\"blue\",\"blue\",\"blue\",\"blue\",\"blue\",\"blue\",\"blue\",\"blue\",\"blue\",\"blue\",\"blue\",\"blue\",\"blue\",\"blue\",\"blue\",\"blue\",\"blue\",\"blue\",\"blue\",\"blue\",\"blue\",\"blue\",\"blue\",\"blue\",\"blue\",\"blue\",\"blue\",\"blue\",\"blue\",\"blue\",\"blue\",\"blue\",\"blue\",\"blue\",\"blue\",\"blue\",\"blue\",\"blue\",\"blue\",\"blue\",\"blue\",\"blue\",\"blue\",\"blue\",\"blue\",\"blue\",\"blue\",\"blue\",\"blue\",\"blue\",\"blue\",\"blue\",\"blue\",\"blue\",\"blue\",\"blue\",\"blue\",\"blue\",\"blue\",\"blue\",\"blue\",\"blue\",\"blue\",\"blue\",\"blue\",\"blue\",\"blue\",\"blue\",\"blue\",\"blue\",\"blue\",\"blue\",\"blue\",\"blue\",\"blue\",\"blue\",\"blue\",\"blue\",\"blue\",\"blue\",\"blue\",\"blue\",\"blue\",\"blue\",\"blue\",\"blue\",\"blue\",\"blue\",\"blue\",\"blue\",\"blue\",\"blue\",\"blue\",\"blue\",\"blue\",\"blue\",\"blue\",\"blue\",\"blue\",\"blue\",\"blue\",\"blue\",\"blue\",\"blue\",\"blue\",\"blue\",\"blue\",\"blue\",\"blue\",\"blue\",\"blue\",\"blue\",\"blue\",\"blue\",\"blue\",\"blue\",\"blue\",\"blue\",\"blue\",\"blue\",\"blue\",\"blue\",\"blue\",\"blue\",\"blue\",\"blue\",\"blue\",\"blue\",\"blue\",\"blue\",\"blue\",\"blue\",\"blue\",\"blue\",\"blue\",\"blue\",\"blue\",\"blue\",\"blue\",\"blue\",\"blue\",\"blue\",\"blue\",\"blue\",\"blue\",\"blue\",\"blue\",\"blue\",\"blue\",\"blue\",\"blue\",\"blue\",\"blue\",\"blue\",\"blue\",\"blue\",\"blue\",\"blue\",\"blue\",\"blue\",\"blue\",\"blue\",\"blue\",\"blue\",\"blue\",\"blue\",\"blue\",\"blue\",\"blue\",\"blue\",\"blue\",\"blue\",\"blue\",\"blue\",\"blue\",\"blue\",\"blue\",\"blue\",\"blue\",\"blue\",\"blue\",\"blue\",\"blue\",\"blue\",\"blue\",\"blue\",\"blue\",\"blue\",\"blue\",\"blue\",\"blue\",\"blue\",\"blue\",\"blue\",\"blue\",\"blue\",\"blue\",\"blue\",\"blue\",\"blue\",\"blue\",\"blue\",\"blue\",\"blue\",\"blue\",\"blue\",\"blue\",\"blue\",\"blue\",\"blue\",\"blue\",\"blue\",\"blue\",\"blue\",\"blue\",\"blue\",\"blue\",\"blue\",\"blue\",\"blue\",\"blue\",\"blue\",\"blue\",\"blue\",\"blue\",\"blue\",\"blue\",\"blue\",\"blue\",\"blue\",\"blue\",\"blue\",\"blue\",\"blue\",\"blue\",\"blue\",\"blue\",\"blue\",\"blue\",\"blue\",\"blue\",\"blue\",\"blue\",\"blue\",\"blue\",\"blue\",\"blue\",\"blue\",\"blue\",\"blue\",\"blue\",\"blue\",\"blue\",\"blue\",\"blue\",\"blue\",\"blue\",\"blue\",\"blue\",\"blue\",\"blue\",\"blue\",\"blue\",\"blue\",\"blue\",\"blue\",\"blue\",\"blue\",\"blue\",\"blue\",\"blue\",\"blue\",\"blue\",\"blue\",\"blue\",\"blue\",\"blue\",\"blue\",\"blue\",\"blue\",\"blue\",\"blue\",\"blue\",\"blue\",\"blue\",\"blue\",\"blue\",\"blue\",\"blue\",\"blue\",\"blue\",\"blue\",\"blue\",\"blue\",\"blue\",\"blue\",\"blue\",\"blue\",\"blue\",\"blue\",\"blue\",\"blue\",\"blue\",\"blue\",\"blue\",\"blue\",\"blue\",\"blue\",\"blue\",\"blue\",\"blue\",\"blue\",\"blue\",\"blue\",\"blue\",\"blue\",\"blue\",\"blue\",\"blue\",\"blue\",\"blue\",\"blue\",\"blue\",\"blue\",\"blue\",\"blue\",\"blue\",\"blue\",\"blue\",\"blue\",\"blue\",\"blue\",\"blue\",\"blue\",\"blue\",\"blue\",\"blue\",\"blue\",\"blue\",\"blue\",\"blue\",\"blue\",\"blue\",\"blue\",\"blue\",\"blue\",\"blue\",\"blue\",\"blue\",\"blue\",\"blue\",\"blue\",\"blue\",\"blue\",\"blue\",\"blue\",\"blue\",\"blue\",\"blue\",\"blue\",\"blue\",\"blue\",\"blue\",\"blue\",\"blue\",\"blue\",\"blue\",\"blue\",\"blue\",\"blue\",\"blue\",\"blue\",\"blue\",\"blue\",\"blue\",\"blue\",\"blue\",\"blue\",\"blue\",\"blue\",\"blue\",\"blue\",\"blue\",\"blue\",\"blue\",\"blue\",\"blue\",\"blue\",\"blue\",\"blue\",\"blue\",\"blue\",\"blue\",\"blue\",\"blue\",\"blue\",\"blue\",\"blue\",\"blue\",\"blue\",\"blue\",\"blue\",\"blue\",\"blue\",\"blue\",\"blue\",\"blue\",\"blue\",\"blue\",\"blue\",\"blue\",\"blue\",\"blue\",\"blue\",\"blue\",\"blue\",\"blue\",\"blue\",\"blue\",\"blue\",\"blue\",\"blue\",\"blue\",\"blue\",\"blue\",\"blue\",\"blue\",\"blue\",\"blue\",\"blue\",\"blue\",\"blue\",\"blue\",\"blue\",\"blue\",\"blue\",\"blue\",\"blue\",\"blue\",\"blue\",\"blue\",\"blue\",\"blue\",\"blue\",\"blue\",\"blue\",\"blue\",\"blue\",\"blue\",\"blue\",\"blue\",\"blue\",\"blue\",\"blue\",\"blue\",\"blue\",\"blue\",\"blue\",\"blue\",\"blue\",\"blue\",\"blue\",\"blue\",\"blue\",\"blue\",\"blue\",\"blue\",\"blue\",\"blue\",\"blue\",\"blue\",\"blue\",\"blue\",\"blue\",\"blue\",\"blue\",\"blue\",\"blue\",\"blue\",\"blue\",\"blue\",\"blue\",\"blue\",\"blue\",\"blue\",\"blue\",\"blue\",\"blue\",\"blue\",\"blue\",\"blue\",\"blue\",\"blue\",\"blue\",\"blue\",\"blue\",\"blue\",\"blue\",\"blue\",\"blue\",\"blue\",\"blue\",\"blue\",\"blue\",\"blue\",\"blue\",\"blue\",\"blue\",\"blue\",\"blue\",\"blue\",\"blue\",\"blue\",\"blue\",\"blue\",\"blue\",\"blue\",\"blue\",\"blue\",\"blue\",\"blue\",\"blue\",\"blue\",\"blue\",\"blue\",\"blue\",\"blue\",\"blue\",\"blue\",\"blue\",\"blue\",\"blue\",\"blue\",\"blue\",\"blue\",\"blue\",\"blue\",\"blue\",\"blue\",\"blue\",\"blue\",\"blue\",\"blue\",\"blue\",\"blue\",\"blue\",\"blue\",\"blue\",\"blue\",\"blue\",\"blue\",\"blue\",\"blue\",\"blue\",\"blue\",\"blue\",\"blue\",\"blue\",\"blue\",\"blue\",\"blue\",\"blue\",\"blue\",\"blue\",\"blue\",\"blue\",\"blue\",\"blue\",\"blue\",\"blue\",\"blue\",\"blue\",\"blue\",\"blue\",\"blue\",\"blue\",\"blue\",\"blue\",\"blue\",\"blue\",\"blue\",\"blue\",\"blue\",\"blue\",\"blue\",\"blue\",\"blue\",\"blue\",\"blue\",\"blue\",\"blue\",\"blue\",\"blue\",\"blue\",\"blue\",\"blue\",\"blue\",\"blue\",\"blue\",\"blue\",\"blue\",\"blue\",\"blue\",\"blue\",\"blue\",\"blue\",\"blue\",\"blue\",\"blue\",\"blue\",\"blue\",\"blue\",\"blue\",\"blue\",\"blue\",\"blue\",\"blue\",\"blue\",\"blue\",\"blue\",\"blue\",\"blue\",\"blue\",\"blue\",\"blue\",\"blue\",\"blue\",\"blue\",\"blue\",\"blue\",\"blue\",\"blue\",\"blue\",\"blue\",\"blue\",\"blue\",\"blue\",\"blue\",\"blue\",\"blue\",\"blue\",\"blue\",\"blue\",\"blue\",\"blue\",\"blue\",\"blue\",\"blue\",\"blue\",\"blue\",\"blue\",\"blue\",\"blue\",\"blue\",\"blue\",\"blue\",\"blue\",\"blue\",\"blue\",\"blue\",\"blue\",\"blue\",\"blue\",\"blue\",\"blue\",\"blue\",\"blue\",\"blue\",\"blue\",\"blue\",\"blue\",\"blue\",\"blue\",\"blue\",\"blue\",\"blue\",\"blue\",\"blue\",\"blue\",\"blue\",\"blue\",\"blue\",\"blue\",\"blue\",\"blue\",\"blue\",\"blue\",\"blue\",\"blue\",\"blue\",\"blue\",\"blue\",\"blue\",\"blue\",\"blue\",\"blue\",\"blue\",\"blue\",\"blue\",\"blue\",\"blue\",\"blue\",\"blue\",\"blue\",\"blue\",\"blue\",\"blue\",\"blue\",\"blue\",\"blue\",\"blue\",\"blue\"]],[\"token\",[\"verified\",\"2gb\",\"illinois\",\"jazz\",\"checking\",\"telescope\",\"seasons\",\"astrologer\",\"contribution\",\"homemade\",\"heroes\",\"warcraft\",\"kumar\",\"tester\",\"politically\",\"conquer\",\"columbia\",\"quiet\",\"repeat\",\"kapil\",\"involve\",\"mckinsey\",\"switched\",\"att\",\"instance\",\"innocent\",\"portuguese\",\"subscribers\",\"cabinet\",\"terror\",\"85\",\"rotation\",\"shirts\",\"drawn\",\"bi\",\"aspergers\",\"inspiration\",\"beats\",\"\\u00a3\",\"approximately\",\"asset\",\"empathy\",\"rooting\",\"ia\",\"dandruff\",\"slab\",\"operator\",\"horrible\",\"dominant\",\"ocd\",\"spacetime\",\"blow\",\"installing\",\"learnt\",\"separation\",\"institution\",\"temples\",\"hons\",\"pound\",\"removing\",\"unemployment\",\"greenlit\",\"audit\",\"supplement\",\"roller\",\"dota\",\"tiny\",\"equally\",\"braces\",\"aggressive\",\"corn\",\"camps\",\"additional\",\"consent\",\"granted\",\"welfare\",\"myths\",\"stations\",\"timeline\",\"psychologist\",\"nagpur\",\"herself\",\"cooper\",\"exgirlfriend\",\"intercourse\",\"flip\",\"hurts\",\"lpa\",\"nerve\",\"tvs\",\"halloween\",\"screenshot\",\"biomedical\",\"covered\",\"milky\",\"onsite\",\"aside\",\"meaningful\",\"stretch\",\"joker\",\"encounter\",\"tone\",\"founders\",\"talked\",\"respectively\",\"downloads\",\"cocaine\",\"toxic\",\"sword\",\"fuck\",\"trainer\",\"partition\",\"boxing\",\"grid\",\"practicing\",\"menu\",\"cms\",\"indore\",\"ate\",\"volunteer\",\"misconceptions\",\"pics\",\"flies\",\"instantly\",\"trans\",\"friday\",\"sociopaths\",\"ctc\",\"hoax\",\"detailed\",\"sizes\",\"rejection\",\"limitations\",\"bharat\",\"kissing\",\"renewable\",\"oriented\",\"countrys\",\"dumps\",\"spiders\",\"technological\",\"advertisement\",\"headache\",\"zodiac\",\"accommodation\",\"venus\",\"calcium\",\"passenger\",\"falls\",\"overnight\",\"pickup\",\"gary\",\"transportation\",\"odds\",\"jupiter\",\"purchasing\",\"fluently\",\"flu\",\"photons\",\"conductor\",\"ohio\",\"balaji\",\"mcdonalds\",\"betting\",\"irrational\",\"sachin\",\"deactivate\",\"estimate\",\"hairs\",\"fluent\",\"errors\",\"remaining\",\"marriages\",\"medieval\",\"charles\",\"spider\",\"oxford\",\"gita\",\"races\",\"liquor\",\"poland\",\"lease\",\"co2\",\"selenium\",\"attempts\",\"crystal\",\"manaphy\",\"knight\",\"collapsed\",\"wheels\",\"behaviour\",\"bitcoins\",\"parliament\",\"himher\",\"handsome\",\"thousands\",\"caring\",\"kings\",\"lucky\",\"workplace\",\"condom\",\"intuitive\",\"chronic\",\"eyesight\",\"simulation\",\"prank\",\"quickest\",\"concert\",\"popularity\",\"connections\",\"disorders\",\"scripting\",\"appearance\",\"js\",\"depth\",\"cheque\",\"longterm\",\"documentaries\",\"dioxide\",\"bright\",\"info\",\"diseases\",\"appeal\",\"snap\",\"smoked\",\"singers\",\"boil\",\"probably\",\"temperatures\",\"appearing\",\"olive\",\"ntse\",\"telecom\",\"brief\",\"discrimination\",\"ethnic\",\"cache\",\"passionate\",\"shoulder\",\"assault\",\"marshmallow\",\"momentum\",\"yr\",\"migrate\",\"retire\",\"cet\",\"canvas\",\"vietnamese\",\"institutions\",\"meter\",\"roots\",\"integer\",\"imported\",\"ants\",\"lyft\",\"piercing\",\"il\",\"poop\",\"organisms\",\"ve\",\"entropy\",\"calm\",\"saddest\",\"toward\",\"myth\",\"sight\",\"filling\",\"hdmi\",\"satisfied\",\"transactions\",\"pharmacy\",\"nursing\",\"correlation\",\"regression\",\"awake\",\"md\",\"nri\",\"recommendations\",\"bin\",\"finland\",\"multi\",\"voted\",\"discovery\",\"edward\",\"touching\",\"immigrant\",\"geometry\",\"indicate\",\"ourselves\",\"texting\",\"seek\",\"expecting\",\"dj\",\"brake\",\"helicopter\",\"blonde\",\"triple\",\"ladies\",\"vivekananda\",\"switching\",\"prostitution\",\"banana\",\"magazines\",\"shippuden\",\"lucknow\",\"2019\",\"failing\",\"elizabeth\",\"irish\",\"ebook\",\"temporary\",\"governor\",\"wasting\",\"weekends\",\"cpt\",\"wax\",\"labor\",\"instruments\",\"instrumentation\",\"hates\",\"hip\",\"arnab\",\"bubble\",\"employers\",\"aadhaar\",\"boyfriends\",\"jake\",\"explained\",\"yesterday\",\"beta\",\"extrovert\",\"andhra\",\"micromax\",\"vertical\",\"lay\",\"nonprofit\",\"dubbed\",\"typing\",\"automotive\",\"thomas\",\"procedures\",\"priority\",\"funded\",\"arabs\",\"siblings\",\"guinea\",\"missile\",\"luck\",\"strategic\",\"defend\",\"module\",\"tuition\",\"acids\",\"controller\",\"committee\",\"housing\",\"integral\",\"peaceful\",\"refugees\",\"prescription\",\"interns\",\"supported\",\"womans\",\"dentist\",\"wives\",\"village\",\"affecting\",\"lte\",\"beaches\",\"austin\",\"substance\",\"engagement\",\"trainee\",\"measures\",\"trailer\",\"purchased\",\"15000\",\"uttar\",\"glue\",\"dtu\",\"medal\",\"photon\",\"engg\",\"violin\",\"column\",\"somehow\",\"rotate\",\"3000\",\"virat\",\"forgotten\",\"fingers\",\"slim\",\"arrest\",\"covalent\",\"ncert\",\"kernel\",\"da\",\"alarm\",\"ngo\",\"4gb\",\"productivity\",\"planned\",\"district\",\"berlin\",\"lists\",\"leads\",\"slang\",\"defence\",\"aspiring\",\"56\",\"enemy\",\"farming\",\"muller\",\"pays\",\"liver\",\"membrane\",\"secretly\",\"plug\",\"gum\",\"eclipse\",\"chewing\",\"labs\",\"zombie\",\"authority\",\"males\",\"argentina\",\"tasks\",\"fell\",\"nails\",\"palestine\",\"tanks\",\"identical\",\"deck\",\"qualification\",\"leadership\",\"kohli\",\"pronunciation\",\"hello\",\"violent\",\"sabha\",\"respiration\",\"transform\",\"warranty\",\"faculty\",\"adolf\",\"expenses\",\"jersey\",\"mercury\",\"whiskey\",\"tackle\",\"tweet\",\"blame\",\"cruise\",\"mahindra\",\"discharge\",\"reduced\",\"vodka\",\"mahatma\",\"bass\",\"compete\",\"stains\",\"pill\",\"swim\",\"ali\",\"gf\",\"ford\",\"prince\",\"sweat\",\"performing\",\"limits\",\"leonardo\",\"cow\",\"resolve\",\"matters\",\"pharmaceutical\",\"ray\",\"remotely\",\"pf\",\"clinical\",\"bpo\",\"homeless\",\"husbands\",\"rising\",\"newtons\",\"outcome\",\"derivative\",\"alpha\",\"grown\",\"capitalism\",\"astronaut\",\"hybrid\",\"palm\",\"teens\",\"hits\",\"airplanes\",\"none\",\"admin\",\"applicable\",\"amcat\",\"spam\",\"neutrality\",\"pixel\",\"festival\",\"faces\",\"molar\",\"snakes\",\"sip\",\"kik\",\"farm\",\"ltd\",\"votes\",\"publishing\",\"comfort\",\"frontend\",\"spin\",\"diagnosed\",\"buildings\",\"\\u00b0\",\"cashless\",\"addictive\",\"extinct\",\"ugc\",\"coke\",\"llb\",\"phrases\",\"struggle\",\"drives\",\"fiber\",\"grocery\",\"achieved\",\"penny\",\"bath\",\"allies\",\"uninstall\",\"ny\",\"appears\",\"effort\",\"satellites\",\"confirmed\",\"loneliness\",\"illuminati\",\"uri\",\"lucid\",\"preferably\",\"neither\",\"\\u221a\",\"pacific\",\"americas\",\"bs\",\"graduated\",\"bills\",\"tube\",\"germans\",\"assume\",\"cleared\",\"mate\",\"divide\",\"versions\",\"fallen\",\"journey\",\"anthem\",\"certificates\",\"looked\",\"sponsor\",\"useless\",\"dependent\",\"invite\",\"guru\",\"keyword\",\"aipmt\",\"clone\",\"kgs\",\"chip\",\"origins\",\"wide\",\"motivational\",\"elite\",\"wanna\",\"unity\",\"cough\",\"connecting\",\"mystery\",\"kim\",\"syrian\",\"voldemort\",\"responsibilities\",\"molecules\",\"boobs\",\"holidays\",\"tutorial\",\"circumstances\",\"fiitjee\",\"islands\",\"bypass\",\"slowly\",\"mixture\",\"aluminum\",\"salesforce\",\"twin\",\"iot\",\"remedy\",\"sheets\",\"pole\",\"hated\",\"females\",\"protected\",\"irs\",\"insecure\",\"entering\",\"neuroscience\",\"offices\",\"delta\",\"suggestion\",\"snapdeal\",\"backstory\",\"periodic\",\"cancelled\",\"mans\",\"complicated\",\"bitsat\",\"pleasure\",\"loop\",\"dropbox\",\"selfish\",\"nude\",\"20000\",\"voter\",\"variables\",\"victory\",\"closest\",\"compensation\",\"extended\",\"locations\",\"cracked\",\"perks\",\"ended\",\"exit\",\"awareness\",\"pakistanis\",\"ebooks\",\"bull\",\"unblock\",\"100000\",\"entrepreneurship\",\"infrastructure\",\"scotland\",\"guest\",\"attacked\",\"hurting\",\"lion\",\"reject\",\"purposes\",\"knife\",\"thai\",\"ipl\",\"knee\",\"accepting\",\"spent\",\"punjabi\",\"tab\",\"quoras\",\"caffeine\",\"athletes\",\"ink\",\"cooked\",\"improving\",\"invaded\",\"allah\",\"thermodynamics\",\"mortgage\",\"firsttime\",\"achievements\",\"issued\",\"breath\",\"award\",\"llc\",\"legends\",\"mood\",\"influenced\",\"proteins\",\"holy\",\"performed\",\"pee\",\"blocks\",\"molecule\",\"interests\",\"imei\",\"requires\",\"cisco\",\"moves\",\"marrying\",\"mca\",\"perfectly\",\"iisc\",\"corporation\",\"shiva\",\"viruses\",\"difficulty\",\"50000\",\"volte\",\"shampoo\",\"secular\",\"transplant\",\"ghz\",\"ahead\",\"crew\",\"interact\",\"depend\",\"hawaii\",\"hiv\",\"evening\",\"vegetable\",\"revenge\",\"suppose\",\"busy\",\"label\",\"rogue\",\"rational\",\"hillstation\",\"brains\",\"urdu\",\"imagine\",\"salaries\",\"survey\",\"g4\",\"butt\",\"manufacturers\",\"saas\",\"residency\",\"recommendation\",\"purple\",\"fault\",\"aadhar\",\"aging\",\"bhopal\",\"conducted\",\"loses\",\"infection\",\"forest\",\"impacts\",\"collection\",\"fridge\",\"diamond\",\"mis\",\"recorded\",\"march\",\"conditioner\",\"signature\",\"listed\",\"branches\",\"manchester\",\"wanting\",\"perception\",\"absolutely\",\"servers\",\"soluble\",\"swami\",\"lumia\",\"directors\",\"52\",\"2008\",\"gaining\",\"stereotypes\",\"homes\",\"vegas\",\"jam\",\"behave\",\"relatively\",\"forum\",\"ib\",\"earphones\",\"facilities\",\"april\",\"finally\",\"tail\",\"capacitor\",\"tiger\",\"deaf\",\"deliver\",\"django\",\"expand\",\"skip\",\"nearly\",\"maybe\",\"task\",\"gateway\",\"strangest\",\"abstract\",\"adding\",\"suck\",\"tim\",\"printed\",\"sigma\",\"immigrate\",\"decline\",\"arrested\",\"95\",\"narcissistic\",\"freelancing\",\"patterns\",\"expired\",\"casual\",\"tablets\",\"patients\",\"lean\",\"pieces\",\"laymans\",\"whatever\",\"polish\",\"lemon\",\"abortion\",\"i3\",\"theorem\",\"h\",\"compulsory\",\"helped\",\"sons\",\"feminism\",\"compiler\",\"tested\",\"enhance\",\"adhd\",\"manhattan\",\"iii\",\"nail\",\"eee\",\"deals\",\"excellent\",\"ipo\",\"folder\",\"sand\",\"continuous\",\"capable\",\"libraries\",\"aggregate\",\"64\",\"bsnl\",\"profiles\",\"spirit\",\"pulled\",\"owns\",\"deloitte\",\"therapist\",\"acts\",\"millions\",\"authors\",\"marathi\",\"dvd\",\"coconut\",\"swiss\",\"interaction\",\"ncr\",\"kannada\",\"smallest\",\"advisable\",\"smartest\",\"sorry\",\"normally\",\"ends\",\"rome\",\"spectrum\",\"cousin\",\"75\",\"suzuki\",\"nights\",\"cap\",\"enable\",\"counselling\",\"proxy\",\"margin\",\"shops\",\"hackers\",\"tatkal\",\"opened\",\"cinema\",\"consumption\",\"coal\",\"silent\",\"choosing\",\"introduction\",\"electromagnetic\",\"hcl\",\"complaint\",\"puppies\",\"vc\",\"symbols\",\"lenses\",\"username\",\"arrow\",\"adopted\",\"affects\",\"sudden\",\"pcm\",\"gel\",\"affair\",\"pinterest\",\"statements\",\"supplements\",\"justified\",\"turns\",\"santa\",\"shoe\",\"trek\",\"headphone\",\"girlfriends\",\"verizon\",\"rocket\",\"conference\",\"ego\",\"srm\",\"afghanistan\",\"nucleus\",\"generated\",\"chinas\",\"ww1\",\"consultancy\",\"socially\",\"allen\",\"berkeley\",\"missed\",\"crying\",\"introduced\",\"ps3\",\"flour\",\"brought\",\"elder\",\"minecraft\",\"9th\",\"freelancer\",\"circles\",\"scars\",\"entertainment\",\"turbine\",\"deeply\",\"rom\",\"evolved\",\"nato\",\"strengths\",\"ide\",\"tweets\",\"scholarships\",\"mentor\",\"collect\",\"hdfc\",\"mandarin\",\"solo\",\"terrible\",\"influential\",\"professionals\",\"65\",\"recognition\",\"nvidia\",\"cia\",\"designs\",\"10k\",\"creation\",\"tom\",\"rated\",\"introverts\",\"boiling\",\"communism\",\"treaty\",\"whereas\",\"thanks\",\"cigarette\",\"bengaluru\",\"oneplus\",\"reserve\",\"advertise\",\"nits\",\"helping\",\"bruce\",\"mp3\",\"severe\",\"proposal\",\"cultures\",\"tap\",\"animated\",\"planes\",\"hall\",\"cognitive\",\"supports\",\"keys\",\"gotten\",\"feedback\",\"recording\",\"proceed\",\"membership\",\"console\",\"overseas\",\"hows\",\"william\",\"billionaires\",\"updated\",\"pre\",\"organizations\",\"messi\",\"unexpected\",\"nitrogen\",\"hungry\",\"nigeria\",\"sync\",\"arduino\",\"gross\",\"outer\",\"searching\",\"workers\",\"outlook\",\"europeans\",\"founder\",\"lectures\",\"legitimate\",\"camp\",\"ordinary\",\"investments\",\"bone\",\"raising\",\"quite\",\"ages\",\"joint\",\"johnson\",\"destination\",\"concerned\",\"belief\",\"refrigerator\",\"implications\",\"manga\",\"mandatory\",\"obamas\",\"lawyers\",\"bedroom\",\"icon\",\"qualifications\",\"qa\",\"bikes\",\"boston\",\"holding\",\"session\",\"appointment\",\"weaknesses\",\"iphones\",\"motorcycle\",\"schizophrenia\",\"5th\",\"intellectual\",\"eaten\",\"attending\",\"medals\",\"adsense\",\"nda\",\"6th\",\"kali\",\"georgia\",\"wechat\",\"earlier\",\"drone\",\"truck\",\"horse\",\"merchant\",\"torque\",\"seed\",\"backend\",\"holmes\",\"graduating\",\"400\",\"bones\",\"sufficient\",\"participate\",\"rifle\",\"shock\",\"downloaded\",\"earthquake\",\"breasts\",\"secretary\",\"insert\",\"damaged\",\"massive\",\"standing\",\"remainder\",\"programme\",\"holocaust\",\"totally\",\"belt\",\"affairs\",\"nokia\",\"mechanism\",\"pin\",\"scan\",\"fought\",\"superpower\",\"poetry\",\"signals\",\"educated\",\"scariest\",\"trains\",\"closer\",\"weapon\",\"icici\",\"serial\",\"bicycle\",\"terminal\",\"finished\",\"stolen\",\"inspiring\",\"cuisine\",\"spark\",\"sounds\",\"pricing\",\"click\",\"underwear\",\"kidney\",\"bengal\",\"invention\",\"discount\",\"chase\",\"evaluate\",\"distributed\",\"themes\",\"amd\",\"stem\",\"st\",\"genre\",\"vegetables\",\"council\",\"bihar\",\"thick\",\"mouse\",\"worry\",\"newly\",\"updates\",\"candy\",\"prepaid\",\"wet\",\"rap\",\"motors\",\"implemented\",\"theoretical\",\"fabric\",\"mexican\",\"portfolio\",\"technique\",\"icse\",\"expansion\",\"evolutionary\",\"justify\",\"trick\",\"attached\",\"lightning\",\"pitch\",\"armed\",\"einstein\",\"conversion\",\"iitjee\",\"declared\",\"admit\",\"acquisition\",\"innovation\",\"runs\",\"wwe\",\"trial\",\"memories\",\"refuse\",\"netherlands\",\"committed\",\"fraud\",\"jailbreak\",\"settle\",\"badly\",\"approved\",\"eligibility\",\"trend\",\"increases\",\"comic\",\"quorans\",\"cellular\",\"matches\",\"receiving\",\"bmw\",\"vlsi\",\"signed\",\"lakes\",\"350\",\"communications\",\"pork\",\"joined\",\"anyway\",\"differentiate\",\"actresses\",\"29\",\"ethics\",\"premier\",\"hearing\",\"vehicles\",\"drama\",\"instant\",\"lips\",\"dates\",\"july\",\"holiday\",\"coach\",\"malayalam\",\"superior\",\"soviet\",\"plate\",\"throw\",\"worship\",\"bars\",\"sharma\",\"mothers\",\"integrated\",\"clubs\",\"bug\",\"melbourne\",\"co\",\"bisexual\",\"regions\",\"lesson\",\"heads\",\"reader\",\"snake\",\"qualify\",\"paul\",\"causing\",\"disappear\",\"era\",\"lets\",\"qualified\",\"spiritual\",\"wolf\",\"requirement\",\"journalism\",\"studied\",\"lowest\",\"vader\",\"coursera\",\"stark\",\"configuration\",\"verbal\",\"undergrad\",\"dimensions\",\"transition\",\"efficiently\",\"interstellar\",\"locked\",\"summary\",\"chandigarh\",\"ghosts\",\"included\",\"operate\",\"dimension\",\"mount\",\"noticed\",\"rating\",\"somewhere\",\"martin\",\"bra\",\"bird\",\"zuckerberg\",\"sensor\",\"audience\",\"dirty\",\"starbucks\",\"permission\",\"residential\",\"wholesale\",\"assets\",\"clearly\",\"km\",\"invade\",\"ipcc\",\"fb\",\"shell\",\"shave\",\"loud\",\"tip\",\"seeds\",\"sets\",\"polar\",\"although\",\"june\",\"judaism\",\"anti\",\"instrument\",\"seven\",\"shooting\",\"j\",\"portal\",\"tower\",\"github\",\"linked\",\"admitted\",\"punishment\",\"mid\",\"micro\",\"cured\",\"lifestyle\",\"nor\",\"upset\",\"challenge\",\"soap\",\"standards\",\"integration\",\"lottery\",\"lab\",\"williams\",\"odd\",\"soil\",\"sensitive\",\"route\",\"tattoos\",\"coin\",\"declare\",\"frame\",\"differential\",\"bowl\",\"softwares\",\"notifications\",\"maintenance\",\"inner\",\"apples\",\"converted\",\"recruiter\",\"bombay\",\"command\",\"posting\",\"controlled\",\"balls\",\"personally\",\"poker\",\"extract\",\"hired\",\"bugs\",\"providers\",\"loans\",\"calculator\",\"attractions\",\"torrents\",\"keywords\",\"profession\",\"blogging\",\"transport\",\"sue\",\"anonymously\",\"compounds\",\"robot\",\"buddhism\",\"sweet\",\"defense\",\"nobody\",\"uc\",\"defined\",\"division\",\"bags\",\"epic\",\"unhealthy\",\"craziest\",\"urban\",\"combination\",\"pair\",\"laugh\",\"cv\",\"usd\",\"launched\",\"usps\",\"visited\",\"nexus\",\"regularly\",\"brothers\",\"broker\",\"concentrate\",\"agreement\",\"nervous\",\"frozen\",\"detail\",\"sir\",\"situations\",\"borderline\",\"angularjs\",\"abusive\",\"tourism\",\"relate\",\"august\",\"communist\",\"accountant\",\"dumb\",\"arab\",\"b2b\",\"du\",\"thermal\",\"asians\",\"threat\",\"karma\",\"passive\",\"homosexuality\",\"putting\",\"quantitative\",\"relativity\",\"sanskrit\",\"opinions\",\"verify\",\"bear\",\"roll\",\"expanding\",\"teenage\",\"jeans\",\"providing\",\"shared\",\"extreme\",\"mi\",\"vr\",\"progress\",\"greece\",\"cpu\",\"ips\",\"merge\",\"reputation\",\"loving\",\"salman\",\"iss\",\"warm\",\"dental\",\"extension\",\"attraction\",\"fictional\",\"journal\",\"login\",\"secondary\",\"recognize\",\"southern\",\"ph\",\"lunch\",\"wallet\",\"ronaldo\",\"larger\",\"actions\",\"fathers\",\"adopt\",\"claims\",\"bottom\",\"therapy\",\"patient\",\"described\",\"virginity\",\"functional\",\"ionic\",\"chartered\",\"discover\",\"55\",\"21st\",\"biased\",\"mad\",\"northern\",\"onto\",\"liberals\",\"premium\",\"neutral\",\"detect\",\"diagram\",\"sperm\",\"ga\",\"bleach\",\"spread\",\"contributions\",\"activate\",\"prior\",\"safest\",\"holder\",\"360\",\"aim\",\"rental\",\"families\",\"everybody\",\"shut\",\"payments\",\"150\",\"cube\",\"vegan\",\"newspaper\",\"beef\",\"houses\",\"preferred\",\"simultaneously\",\"marked\",\"reactions\",\"emergency\",\"protection\",\"cab\",\"forex\",\"norway\",\"immigrants\",\"googles\",\"ssb\",\"wing\",\"yrs\",\"ensure\",\"spy\",\"reasoning\",\"strange\",\"forgive\",\"turkish\",\"tag\",\"ranking\",\"platforms\",\"fox\",\"existed\",\"walmart\",\"lazy\",\"ears\",\"clock\",\"beam\",\"rare\",\"bush\",\"2011\",\"stops\",\"batteries\",\"certified\",\"naked\",\"worldwide\",\"staying\",\"lifetime\",\"ted\",\"lake\",\"wealthy\",\"transit\",\"stephen\",\"rural\",\"versa\",\"pets\",\"commonly\",\"adults\",\"ultimate\",\"genius\",\"vinegar\",\"allows\",\"aid\",\"retirement\",\"airtel\",\"sciences\",\"mountain\",\"drinks\",\"tour\",\"wind\",\"seattle\",\"disabled\",\"bodies\",\"lesbian\",\"governments\",\"kinetic\",\"tumblr\",\"absolute\",\"author\",\"toilet\",\"whey\",\"sleepy\",\"molecular\",\"watches\",\"inventions\",\"rain\",\"34\",\"angular\",\"o\",\"dish\",\"however\",\"agents\",\"abs\",\"switzerland\",\"transformer\",\"clearing\",\"consciousness\",\"broadband\",\"uae\",\"automatic\",\"opposed\",\"geography\",\"astronauts\",\"decisions\",\"cement\",\"induction\",\"luxury\",\"upvotes\",\"politicians\",\"posted\",\"toefl\",\"kitchen\",\"noise\",\"radius\",\"dye\",\"miles\",\"risks\",\"scientifically\",\"mnc\",\"propose\",\"prepared\",\"iiit\",\"mention\",\"equipment\",\"darth\",\"january\",\"surname\",\"raised\",\"attitude\",\"gta\",\"david\",\"hike\",\"awkward\",\"proven\",\"productive\",\"lg\",\"filled\",\"atmosphere\",\"lee\",\"irctc\",\"addicted\",\"dynamic\",\"employment\",\"weekend\",\"replacement\",\"singing\",\"owners\",\"bipolar\",\"tomorrow\",\"poems\",\"default\",\"kvpy\",\"sauce\",\"competitors\",\"russians\",\"sample\",\"crimes\",\"hang\",\"inspired\",\"furniture\",\"throughout\",\"presence\",\"efficiency\",\"leg\",\"biological\",\"pilani\",\"conversations\",\"inspirational\",\"bachelor\",\"centers\",\"withdraw\",\"fundamental\",\"comparison\",\"november\",\"fifa\",\"penalty\",\"algebra\",\"joke\",\"htc\",\"pilots\",\"collapse\",\"texts\",\"vocabulary\",\"moved\",\"sc\",\"smile\",\"october\",\"dot\",\"genetic\",\"architect\",\"url\",\"51\",\"sore\",\"uniform\",\"re\",\"rails\",\"smaller\",\"marine\",\"terrorists\",\"nazi\",\"breast\",\"politician\",\"subtitles\",\"chosen\",\"egypt\",\"thin\",\"packages\",\"editor\",\"bands\",\"mythology\",\"reasonable\",\"permit\",\"acceptable\",\"seriously\",\"iraq\",\"fever\",\"visitor\",\"honest\",\"friction\",\"offering\",\"smarter\",\"ahmedabad\",\"replaced\",\"resolution\",\"burning\",\"bridge\",\"catholic\",\"calendar\",\"resident\",\"policies\",\"forced\",\"leading\",\"arm\",\"deserve\",\"context\",\"coolest\",\"arranged\",\"arizona\",\"comics\",\"harm\",\"democrats\",\"jail\",\"breed\",\"anywhere\",\"psu\",\"christ\",\"violence\",\"agriculture\",\"objective\",\"moments\",\"infinity\",\"supporting\",\"critical\",\"trees\",\"beyond\",\"bag\",\"vitamin\",\"assembly\",\"solved\",\"array\",\"perspective\",\"pas\",\"wwii\",\"skinny\",\"contains\",\"lift\",\"cleaning\",\"peter\",\"aap\",\"pimples\",\"initial\",\"lesserknown\",\"sights\",\"principles\",\"realize\",\"millionaire\",\"faux\",\"orbit\",\"desire\",\"hi\",\"prophet\",\"suits\",\"careers\",\"thinks\",\"quantity\",\"spots\",\"wage\",\"asleep\",\"sociology\",\"guard\",\"units\",\"structural\",\"operation\",\"pants\",\"w\",\"bulk\",\"possibly\",\"drunk\",\"fired\",\"accident\",\"inch\",\"bottle\",\"aerospace\",\"narcissist\",\"ux\",\"angeles\",\"wood\",\"index\",\"safely\",\"robotics\",\"edition\",\"metals\",\"practices\",\"scheme\",\"interior\",\"diabetes\",\"nobel\",\"youth\",\"lived\",\"september\",\"chief\",\"proposed\",\"assuming\",\"sin\",\"counter\",\"disable\",\"introduce\",\"restore\",\"swimming\",\"intern\",\"answering\",\"mentioned\",\"crash\",\"laser\",\"teenagers\",\"presentation\",\"quran\",\"classified\",\"demonetisation\",\"communicate\",\"cotton\",\"autism\",\"anger\",\"environmental\",\"stable\",\"7th\",\"bread\",\"invited\",\"wisdom\",\"wrote\",\"widely\",\"minor\",\"formal\",\"dreaming\",\"managers\",\"escape\",\"pollution\",\"taiwan\",\"verification\",\"los\",\"figures\",\"26\",\"illness\",\"sides\",\"compatible\",\"pack\",\"conspiracy\",\"hedge\",\"flights\",\"dropped\",\"former\",\"suffer\",\"aware\",\"designers\",\"mahabharata\",\"evolve\",\"weigh\",\"dies\",\"fruits\",\"cc\",\"butter\",\"sharing\",\"atoms\",\"tongue\",\"transaction\",\"poverty\",\"suffering\",\"presidents\",\"resistance\",\"adam\",\"civilization\",\"mining\",\"toronto\",\"stick\",\"increased\",\"wild\",\"freelance\",\"removal\",\"aws\",\"rio\",\"principle\",\"asus\",\"cute\",\"consumer\",\"pool\",\"variable\",\"tutorials\",\"advance\",\"keeping\",\"visible\",\"cognizant\",\"equations\",\"rooms\",\"krishna\",\"printer\",\"tooth\",\"mentally\",\"realistic\",\"automobile\",\"cake\",\"tie\",\"beach\",\"ghost\",\"comfortable\",\"mysql\",\"oral\",\"closed\",\"helps\",\"maharashtra\",\"admissions\",\"i5\",\"partners\",\"axis\",\"beliefs\",\"neck\",\"clans\",\"hidden\",\"cyber\",\"voting\",\"bacteria\",\"layer\",\"chhattisgarh\",\"5000\",\"sitting\",\"murder\",\"argument\",\"f\",\"privacy\",\"syndrome\",\"2010\",\"bite\",\"vacation\",\"isro\",\"trouble\",\"records\",\"answered\",\"digit\",\"defeat\",\"childhood\",\"5s\",\"gates\",\"f1\",\"town\",\"anal\",\"copper\",\"talks\",\"affiliate\",\"sociopath\",\"installed\",\"static\",\"copyright\",\"animation\",\"donate\",\"stranger\",\"bcom\",\"destroyed\",\"gujarat\",\"foundation\",\"prize\",\"components\",\"foreigner\",\"arms\",\"unlimited\",\"needing\",\"settings\",\"item\",\"eve\",\"competition\",\"landing\",\"beard\",\"patent\",\"ending\",\"2020\",\"incident\",\"petroleum\",\"florida\",\"particularly\",\"ups\",\"generator\",\"leather\",\"heal\",\"experiment\",\"28\",\"passing\",\"talent\",\"remote\",\"300\",\"published\",\"impossible\",\"steam\",\"80\",\"washing\",\"guilty\",\"punjab\",\"70\",\"album\",\"bullet\",\"paris\",\"interface\",\"agencies\",\"mission\",\"digits\",\"modis\",\"recruitment\",\"manipal\",\"telling\",\"meal\",\"orange\",\"stone\",\"links\",\"ab\",\"upper\",\"cameras\",\"p\",\"combat\",\"passion\",\"shower\",\"thailand\",\"beings\",\"grad\",\"27\",\"finger\",\"jump\",\"lights\",\"ui\",\"bba\",\"sweden\",\"arrive\",\"4th\",\"amendment\",\"window\",\"satellite\",\"al\",\"matlab\",\"jokes\",\"muhammad\",\"expression\",\"booking\",\"dinner\",\"skype\",\"lots\",\"2018\",\"teen\",\"finish\",\"dslr\",\"mens\",\"proud\",\"entrepreneurs\",\"ukraine\",\"coins\",\"scenario\",\"transmission\",\"ignore\",\"pride\",\"contribute\",\"grand\",\"curve\",\"false\",\"operations\",\"breakup\",\"eventually\",\"acquire\",\"commission\",\"lies\",\"spoken\",\"pills\",\"masturbating\",\"jackson\",\"airbnb\",\"delivered\",\"disk\",\"radiation\",\"plays\",\"marvel\",\"particle\",\"breakfast\",\"smartphones\",\"relevant\",\"quota\",\"refund\",\"inches\",\"telugu\",\"angel\",\"eastern\",\"inflation\",\"predict\",\"annoying\",\"obc\",\"tough\",\"conduct\",\"originate\",\"notification\",\"backup\",\"harder\",\"richest\",\"pronounce\",\"sri\",\"wheel\",\"wasnt\",\"oldest\",\"sheet\",\"soda\",\"20s\",\"wipro\",\"awesome\",\"facial\",\"z\",\"noida\",\"confident\",\"fbi\",\"corrupt\",\"succeed\",\"reddit\",\"associate\",\"input\",\"guns\",\"rahul\",\"baking\",\"description\",\"musical\",\"apache\",\"nowadays\",\"fluid\",\"capacity\",\"loose\",\"freshman\",\"cfa\",\"optional\",\"theres\",\"ps4\",\"trends\",\"jon\",\"richard\",\"legit\",\"nodejs\",\"document\",\"sexually\",\"particles\",\"singer\",\"printing\",\"captain\",\"valuable\",\"several\",\"aiims\",\"boot\",\"sit\",\"zone\",\"billionaire\",\"floor\",\"gravitational\",\"export\",\"motivation\",\"golden\",\"transgender\",\"healthcare\",\"heaven\",\"81\",\"leaves\",\"listening\",\"overall\",\"press\",\"dishes\",\"railways\",\"warming\",\"enfield\",\"extent\",\"acceleration\",\"afford\",\"bonds\",\"border\",\"registration\",\"cast\",\"hope\",\"shipping\",\"karnataka\",\"specifically\",\"opportunity\",\"arabia\",\"pump\",\"pg\",\"carrier\",\"plot\",\"kingdom\",\"contract\",\"painful\",\"kindle\",\"boring\",\"essential\",\"disney\",\"charger\",\"seconds\",\"measured\",\"honda\",\"ba\",\"makeup\",\"\\u2013\",\"mini\",\"annual\",\"traits\",\"retrieve\",\"willing\",\"swift\",\"consume\",\"hindus\",\"psychopath\",\"tells\",\"solving\",\"conditions\",\"artists\",\"spotify\",\"bomb\",\"integrate\",\"stuck\",\"nikon\",\"gadgets\",\"womens\",\"judge\",\"republicans\",\"vacuum\",\"felt\",\"putin\",\"tennis\",\"concentration\",\"fans\",\"constantly\",\"matrix\",\"secrets\",\"spot\",\"soft\",\"stored\",\"neural\",\"submit\",\"scores\",\"ola\",\"wire\",\"gdp\",\"jaipur\",\"typically\",\"airline\",\"roles\",\"cheaper\",\"machines\",\"shift\",\"impress\",\"basics\",\"32\",\"conservative\",\"birds\",\"tend\",\"duty\",\"setup\",\"rude\",\"pink\",\"church\",\"mine\",\"jack\",\"sending\",\"cooking\",\"versus\",\"expert\",\"olympic\",\"biotechnology\",\"gurgaon\",\"worked\",\"codes\",\"successfully\",\"hardware\",\"faith\",\"pr\",\"television\",\"compound\",\"vit\",\"universal\",\"thank\",\"grammatically\",\"chicago\",\"ivy\",\"worried\",\"enterprise\",\"sodium\",\"railway\",\"remedies\",\"racism\",\"tracking\",\"psychological\",\"apartment\",\"magazine\",\"martial\",\"beauty\",\"waiting\",\"attacks\",\"horror\",\"fantasy\",\"ma\",\"select\",\"increasing\",\"metro\",\"opt\",\"map\",\"watched\",\"gear\",\"icloud\",\"james\",\"comedy\",\"lollipop\",\"ireland\",\"upcoming\",\"italian\",\"oven\",\"emotionally\",\"decided\",\"lakh\",\"grey\",\"kept\",\"produced\",\"mouth\",\"manual\",\"dhoni\",\"fill\",\"throat\",\"shoot\",\"liked\",\"innovative\",\"immediately\",\"lonely\",\"fighting\",\"max\",\"accidentally\",\"schedule\",\"orgasm\",\"rape\",\"ride\",\"muscles\",\"graduates\",\"taller\",\"boost\",\"lakhs\",\"microwave\",\"electrons\",\"upon\",\"attract\",\"ap\",\"abuse\",\"earths\",\"forever\",\"underrated\",\"facing\",\"terrorist\",\"alien\",\"celebrity\",\"frequently\",\"vpn\",\"wales\",\"powder\",\"superman\",\"mixed\",\"caught\",\"goods\",\"beginning\",\"starts\",\"atomic\",\"associated\",\"triangle\",\"parties\",\"banning\",\"k\",\"honey\",\"monitor\",\"graph\",\"leaders\",\"embedded\",\"juice\",\"split\",\"lady\",\"sequence\",\"911\",\"harassment\",\"nepal\",\"pop\",\"habit\",\"setting\",\"edge\",\"ww2\",\"gps\",\"federal\",\"charged\",\"lying\",\"empty\",\"whenever\",\"airplane\",\"jet\",\"destroy\",\"ies\",\"wouldnt\",\"quick\",\"decrease\",\"robert\",\"pradesh\",\"professors\",\"massage\",\"held\",\"spending\",\"markets\",\"objects\",\"chart\",\"mechanics\",\"silver\",\"usage\",\"basketball\",\"gen\",\"periods\",\"identity\",\"individuals\",\"css\",\"soul\",\"ipod\",\"chest\",\"understanding\",\"coast\",\"classic\",\"spain\",\"babies\",\"sd\",\"hostel\",\"shirt\",\"further\",\"logical\",\"franchise\",\"obtain\",\"foreigners\",\"fully\",\"region\",\"designed\",\"cheated\",\"beneficial\",\"shes\",\"accent\",\"couldnt\",\"queen\",\"sick\",\"blowing\",\"properly\",\"stronger\",\"returns\",\"condition\",\"musk\",\"ugly\",\"teams\",\"filter\",\"snow\",\"glasses\",\"employer\",\"solid\",\"followed\",\"embarrassing\",\"auto\",\"meeting\",\"belong\",\"strike\",\"internships\",\"bachelors\",\"administration\",\"temple\",\"wealth\",\"retail\",\"speakers\",\"electoral\",\"headphones\",\"streaming\",\"mirror\",\"diesel\",\"republic\",\"antivirus\",\"customers\",\"atm\",\"vagina\",\"cigarettes\",\"aptitude\",\"lewis\",\"saudi\",\"puppy\",\"recovery\",\"jimmy\",\"obsessed\",\"domestic\",\"pen\",\"batch\",\"de\",\"drawing\",\"ai\",\"medium\",\"simply\",\"photoshop\",\"sms\",\"turning\",\"nadu\",\"appropriate\",\"adobe\",\"substitute\",\"fruit\",\"recipes\",\"fighter\",\"saving\",\"greater\",\"cheat\",\"routine\",\"push\",\"sherlock\",\"arguments\",\"sony\",\"import\",\"soldiers\",\"charges\",\"emotions\",\"ibm\",\"un\",\"innovations\",\"itunes\",\"consultant\",\"iims\",\"relations\",\"psychopaths\",\"existing\",\"angle\",\"clash\",\"bus\",\"australian\",\"crazy\",\"pull\",\"theories\",\"savings\",\"suit\",\"contrast\",\"calculus\",\"pi\",\"credits\",\"bluetooth\",\"himself\",\"traveling\",\"criminal\",\"xiaomi\",\"zealand\",\"seats\",\"electron\",\"script\",\"11th\",\"lessons\",\"programmers\",\"december\",\"flag\",\"singh\",\"arabic\",\"sale\",\"nfl\",\"grammar\",\"killing\",\"virgin\",\"differently\",\"poem\",\"provided\",\"automation\",\"shy\",\"translation\",\"mathematical\",\"45\",\"celebrities\",\"spring\",\"downloading\",\"dr\",\"organization\",\"majority\",\"clients\",\"hd\",\"motivate\",\"thats\",\"thesis\",\"door\",\"weakest\",\"saw\",\"canon\",\"younger\",\"costs\",\"river\",\"rings\",\"factory\",\"decent\",\"clintons\",\"holes\",\"desert\",\"divorce\",\"sold\",\"cheese\",\"atom\",\"taught\",\"minute\",\"ocean\",\"crisis\",\"represent\",\"surgical\",\"parent\",\"brexit\",\"possibility\",\"longest\",\"edit\",\"scholarship\",\"motivated\",\"chocolate\",\"faced\",\"90\",\"parallel\",\"foot\",\"examination\",\"friendly\",\"kinds\",\"wins\",\"islamic\",\"degrees\",\"registered\",\"distribution\",\"junior\",\"gave\",\"sing\",\"articles\",\"hadoop\",\"saved\",\"hero\",\"ear\",\"asks\",\"improved\",\"teenager\",\"forms\",\"wash\",\"provides\",\"washington\",\"strikes\",\"binary\",\"syria\",\"indonesia\",\"powers\",\"highly\",\"heshe\",\"happiness\",\"director\",\"citizenship\",\"knew\",\"humanity\",\"translate\",\"nba\",\"permanently\",\"soccer\",\"todays\",\"challenges\",\"barack\",\"title\",\"latin\",\"fitness\",\"genuine\",\"investor\",\"dislike\",\"scenes\",\"hacker\",\"bangladesh\",\"ebay\",\"earning\",\"dell\",\"paytm\",\"spouse\",\"bored\",\"roman\",\"official\",\"dragon\",\"park\",\"except\",\"habits\",\"quote\",\"astrology\",\"congress\",\"automatically\",\"island\",\"religions\",\"christianity\",\"supreme\",\"owner\",\"hell\",\"wikipedia\",\"cancel\",\"industries\",\"actress\",\"client\",\"visual\",\"michael\",\"remain\",\"ability\",\"concrete\",\"conflict\",\"string\",\"linear\",\"supposed\",\"engines\",\"2012\",\"\\u2018\",\"lesser\",\"traditional\",\"episodes\",\"goals\",\"tata\",\"opening\",\"target\",\"weak\",\"anonymous\",\"bjp\",\"resource\",\"concepts\",\"ruby\",\"friendship\",\"nyc\",\"pretty\",\"implement\",\"painting\",\"ill\",\"agency\",\"reverse\",\"confused\",\"italy\",\"response\",\"yellow\",\"dance\",\"contain\",\"vice\",\"editing\",\"acting\",\"weirdest\",\"feels\",\"govt\",\"accounting\",\"rise\",\"wise\",\"leaving\",\"lens\",\"artist\",\"arvind\",\"pattern\",\"scared\",\"attention\",\"airlines\",\"sky\",\"malaysia\",\"port\",\"attempt\",\"element\",\"classical\",\"shown\",\"safety\",\"including\",\"tablet\",\"la\",\"terrorism\",\"commit\",\"maps\",\"african\",\"viewed\",\"calling\",\"6s\",\"agent\",\"output\",\"justice\",\"don\",\"addiction\",\"lock\",\"vegetarian\",\"britain\",\"percent\",\"meditation\",\"ibps\",\"monthly\",\"writers\",\"forward\",\"stuff\",\"mr\",\"ready\",\"forgot\",\"flying\",\"recommended\",\"fields\",\"blind\",\"l\",\"hinduism\",\"desktop\",\"host\",\"tattoo\",\"maintain\",\"boards\",\"helpful\",\"semester\",\"load\",\"tier\",\"agree\",\"factor\",\"elon\",\"freshers\",\"sql\",\"cases\",\"exact\",\"confidence\",\"behavior\",\"hacked\",\"quotes\",\"hydrogen\",\"pakistani\",\"masturbate\",\"divided\",\"skill\",\"fine\",\"falling\",\"chess\",\"charging\",\"pages\",\"vector\",\"supporters\",\"waste\",\"sanders\",\"affordable\",\"unlock\",\"techniques\",\"wine\",\"keyboard\",\"cm\",\"wireless\",\"lawyer\",\"egg\",\"cope\",\"mindblowing\",\"recipe\",\"corruption\",\"scored\",\"secure\",\"teaching\",\"opposite\",\"educational\",\"bernie\",\"y\",\"library\",\"models\",\"kid\",\"stack\",\"separate\",\"19\",\"extremely\",\"properties\",\"cable\",\"magic\",\"removed\",\"computing\",\"hospital\",\"beer\",\"christians\",\"twice\",\"kg\",\"consulting\",\"whose\",\"serious\",\"petrol\",\"travelling\",\"revolution\",\"custom\",\"structures\",\"guide\",\"celebrate\",\"lenovo\",\"turned\",\"ielts\",\"grades\",\"fuel\",\"relative\",\"oracle\",\"academy\",\"lack\",\"passed\",\"relation\",\"values\",\"movement\",\"strategies\",\"eu\",\"emotional\",\"legs\",\"pokemon\",\"3g\",\"iran\",\"mostly\",\"jewish\",\"offered\",\"log\",\"hasnt\",\"explanation\",\"signal\",\"stores\",\"syllabus\",\"bits\",\"yoga\",\"weapons\",\"gods\",\"10000\",\"delivery\",\"gb\",\"sum\",\"letters\",\"venture\",\"selection\",\"winning\",\"35\",\"comment\",\"consequences\",\"sport\",\"items\",\"seems\",\"ring\",\"jealous\",\"laptops\",\"criteria\",\"fresh\",\"reference\",\"bitcoin\",\"infinite\",\"perform\",\"brazil\",\"density\",\"plans\",\"hosting\",\"clothing\",\"hong\",\"dying\",\"heavy\",\"steve\",\"gone\",\"damage\",\"missing\",\"ethical\",\"republican\",\"contacts\",\"activity\",\"electronic\",\"qualities\",\"piano\",\"hisher\",\"repair\",\"posts\",\"disease\",\"winter\",\"ten\",\"publish\",\"paint\",\"physically\",\"executive\",\"deposit\",\"elements\",\"xbox\",\"ceo\",\"visitors\",\"discovered\",\"tickets\",\"literature\",\"primary\",\"naturally\",\"senior\",\"u\",\"hardest\",\"debate\",\"frequency\",\"vietnam\",\"cry\",\"assistant\",\"gifts\",\"practical\",\"funny\",\"valid\",\"liberal\",\"refer\",\"beat\",\"shape\",\"institutes\",\"msc\",\"internal\",\"located\",\"significant\",\"scientists\",\"g\",\"ship\",\"proper\",\"independence\",\"added\",\"hes\",\"catch\",\"urine\",\"effectively\",\"named\",\"responsible\",\"strength\",\"whos\",\"immigration\",\"vehicle\",\"tesla\",\"kong\",\"meth\",\"england\",\"huge\",\"pizza\",\"rejected\",\"george\",\"fan\",\"salt\",\"browser\",\"sat\",\"loved\",\"fees\",\"walking\",\"symbol\",\"equity\",\"ubuntu\",\"alternatives\",\"theme\",\"virus\",\"manufacturing\",\"cutoff\",\"pure\",\"22\",\"introvert\",\"unable\",\"greek\",\"rice\",\"gst\",\"happening\",\"centre\",\"kiss\",\"prison\",\"bigger\",\"font\",\"construction\",\"exercises\",\"keeps\",\"gmat\",\"offers\",\"cross\",\"nasa\",\"unit\",\"advertising\",\"cup\",\"fixed\",\"limited\",\"billion\",\"subjects\",\"arts\",\"worlds\",\"stupid\",\"breaking\",\"funding\",\"tank\",\"generate\",\"efficient\",\"exists\",\"atheist\",\"entrepreneur\",\"direction\",\"broken\",\"offline\",\"firms\",\"station\",\"magnetic\",\"include\",\"aliens\",\"tinder\",\"logo\",\"photography\",\"worse\",\"besides\",\"path\",\"somebody\",\"interviews\",\"persons\",\"figure\",\"placed\",\"nation\",\"knows\",\"unmarried\",\"hp\",\"profitable\",\"tricks\",\"boss\",\"reply\",\"scam\",\"circle\",\"processor\",\"debt\",\"growing\",\"royal\",\"fiction\",\"department\",\"mistake\",\"weird\",\"graphics\",\"external\",\"article\",\"volume\",\"scratch\",\"chain\",\"protect\",\"storage\",\"texas\",\"liquid\",\"circuit\",\"graphic\",\"tired\",\"weather\",\"oxygen\",\"velocity\",\"dad\",\"band\",\"teachers\",\"drugs\",\"complex\",\"studio\",\"accenture\",\"leader\",\"levels\",\"goal\",\"logic\",\"acne\",\"plastic\",\"motion\",\"button\",\"peoples\",\"vision\",\"gap\",\"dollar\",\"computers\",\"stomach\",\"sources\",\"constant\",\"draw\",\"dress\",\"calculated\",\"sort\",\"3rd\",\"club\",\"channels\",\"creating\",\"candidates\",\"kejriwal\",\"broke\",\"sentences\",\"format\",\"emails\",\"raw\",\"stanford\",\"completed\",\"documents\",\"pan\",\"showing\",\"enter\",\"unknown\",\"bought\",\"router\",\"claim\",\"six\",\"technologies\",\"\\u20b9\",\"flipkart\",\"infosys\",\"mutual\",\"angry\",\"iits\",\"affected\",\"prices\",\"shares\",\"naruto\",\"processing\",\"finding\",\"democratic\",\"evolution\",\"harmful\",\"dual\",\"virtual\",\"member\",\"wave\",\"actual\",\"extra\",\"radio\",\"citizens\",\"e\",\"hr\",\"previous\",\"stopped\",\"walk\",\"redmi\",\"speaker\",\"torrent\",\"smoke\",\"mistakes\",\"flash\",\"iron\",\"entire\",\"individual\",\"express\",\"flow\",\"mode\",\"aircraft\",\"section\",\"planets\",\"10th\",\"respond\",\"easier\",\"evil\",\"percentile\",\"seeing\",\"calories\",\"upgrade\",\"professor\",\"v\",\"launch\",\"staff\",\"till\",\"silicon\",\"entry\",\"constitution\",\"century\",\"notice\",\"ie\",\"atheists\",\"tests\",\"21\",\"became\",\"kerala\",\"truly\",\"count\",\"essay\",\"papers\",\"accurate\",\"colors\",\"respect\",\"ideal\",\"rock\",\"reliance\",\"peace\",\"masturbation\",\"audio\",\"random\",\"independent\",\"colour\",\"hotels\",\"presidency\",\"generation\",\"paypal\",\"shot\",\"central\",\"released\",\"occur\",\"display\",\"industrial\",\"particular\",\"risk\",\"eg\",\"belly\",\"pet\",\"similarities\",\"organic\",\"marijuana\",\"networks\",\"aspects\",\"flat\",\"d\",\"comments\",\"nose\",\"identify\",\"rbi\",\"improvement\",\"directly\",\"framework\",\"suggestions\",\"designing\",\"brands\",\"religious\",\"influence\",\"novels\",\"statistics\",\"historical\",\"ground\",\"commerce\",\"pregnancy\",\"romantic\",\"failure\",\"wearing\",\"john\",\"apart\",\"bay\",\"symptoms\",\"200\",\"couple\",\"60\",\"canadian\",\"lie\",\"print\",\"carry\",\"gender\",\"experienced\",\"pounds\",\"reservation\",\"either\",\"stage\",\"artificial\",\"fit\",\"blogs\",\"developing\",\"environment\",\"learned\",\"copy\",\"phase\",\"bond\",\"democracy\",\"cgpa\",\"operating\",\"surface\",\"officers\",\"h1b\",\"ip\",\"workout\",\"fee\",\"elected\",\"hands\",\"largest\",\"sad\",\"shouldnt\",\"seat\",\"sister\",\"developers\",\"despite\",\"scene\",\"po\",\"diploma\",\"request\",\"empire\",\"ratio\",\"considering\",\"academic\",\"tree\",\"register\",\"advantage\",\"eligible\",\"nit\",\"shop\",\"intel\",\"funniest\",\"alternative\",\"fail\",\"ads\",\"nature\",\"miss\",\"involved\",\"overrated\",\"attend\",\"freedom\",\"dna\",\"beginners\",\"raise\",\"dry\",\"failed\",\"legally\",\"batman\",\"upload\",\"carbon\",\"regret\",\"applied\",\"points\",\"investors\",\"pick\",\"equivalent\",\"connected\",\"christmas\",\"lyrics\",\"nations\",\"caused\",\"bsc\",\"1st\",\"action\",\"activities\",\"biology\",\"hide\",\"asia\",\"takes\",\"require\",\"alive\",\"mom\",\"cycle\",\"generally\",\"campaign\",\"fair\",\"wake\",\"bit\",\"rules\",\"olympics\",\"racist\",\"areas\",\"eggs\",\"feature\",\"sap\",\"taxes\",\"ad\",\"shall\",\"theyre\",\"species\",\"pilot\",\"firm\",\"fish\",\"define\",\"doctors\",\"piece\",\"itself\",\"bang\",\"solutions\",\"iim\",\"2013\",\"wanted\",\"length\",\"burn\",\"waves\",\"bar\",\"gives\",\"forces\",\"christian\",\"anybody\",\"relationships\",\"nice\",\"wedding\",\"various\",\"brother\",\"films\",\"cream\",\"suddenly\",\"philippines\",\"fashion\",\"truth\",\"gpa\",\"cgl\",\"tall\",\"goa\",\"hacking\",\"statement\",\"reset\",\"materials\",\"played\",\"match\",\"usb\",\"novel\",\"unusual\",\"knowing\",\"selected\",\"valley\",\"chrome\",\"couples\",\"becomes\",\"died\",\"cheating\",\"community\",\"groups\",\"category\",\"pursuing\",\"writer\",\"mexico\",\"anymore\",\"sugar\",\"climate\",\"brown\",\"players\",\"ii\",\"reviews\",\"took\",\"led\",\"connection\",\"begin\",\"html\",\"changing\",\"received\",\"plants\",\"debit\",\"record\",\"revenue\",\"mars\",\"strongest\",\"members\",\"formed\",\"union\",\"thought\",\"existence\",\"kashmir\",\"gandhi\",\"pdf\",\"banned\",\"0\",\"plane\",\"treated\",\"electricity\",\"scale\",\"basis\",\"moral\",\"images\",\"methods\",\"certification\",\"voltage\",\"style\",\"base\",\"excel\",\"amazing\",\"regarding\",\"result\",\"rates\",\"hold\",\"indias\",\"airport\",\"businesses\",\"feet\",\"built\",\"linkedin\",\"signs\",\"above\",\"networking\",\"r\",\"shopping\",\"looks\",\"went\",\"placements\",\"bed\",\"experiences\",\"daughter\",\"tourist\",\"employee\",\"caste\",\"wait\",\"direct\",\"especially\",\"feed\",\"continue\",\"expected\",\"algorithm\",\"depressed\",\"shoes\",\"soon\",\"supply\",\"stress\",\"24\",\"inr\",\"foods\",\"rent\",\"architecture\",\"ban\",\"entrance\",\"actors\",\"messenger\",\"unique\",\"kolkata\",\"funds\",\"rupee\",\"promote\",\"rupees\",\"jews\",\"23\",\"cook\",\"cultural\",\"accepted\",\"hear\",\"glass\",\"road\",\"joining\",\"measure\",\"havent\",\"metal\",\"resume\",\"afraid\",\"turkey\",\"meat\",\"goes\",\"installation\",\"netflix\",\"benefit\",\"demand\",\"release\",\"produce\",\"report\",\"cover\",\"changes\",\"double\",\"2nd\",\"reaction\",\"killed\",\"steel\",\"requirements\",\"france\",\"exchange\",\"ac\",\"quantum\",\"reliable\",\"box\",\"results\",\"lives\",\"treatment\",\"4g\",\"ece\",\"probability\",\"sleeping\",\"philosophy\",\"handle\",\"forget\",\"driver\",\"demonetization\",\"algorithms\",\"trade\",\"rule\",\"muscle\",\"calls\",\"tried\",\"mental\",\"sure\",\"quit\",\"navy\",\"achieve\",\"francisco\",\"location\",\"until\",\"sense\",\"anxiety\",\"wordpress\",\"focus\",\"fact\",\"production\",\"conversation\",\"motor\",\"five\",\"attracted\",\"hit\",\"analyst\",\"moto\",\"isis\",\"chicken\",\"sector\",\"permanent\",\"along\",\"king\",\"slow\",\"candidate\",\"minutes\",\"purchase\",\"gun\",\"selling\",\"usually\",\"\\u2026\",\"fly\",\"round\",\"panel\",\"error\",\"stocks\",\"api\",\"remember\",\"africa\",\"paying\",\"hitler\",\"3d\",\"regular\",\"losing\",\"mail\",\"yahoo\",\"cheapest\",\"older\",\"concept\",\"characters\",\"definition\",\"lines\",\"pm\",\"cloud\",\"cats\",\"russian\",\"ipad\",\"korean\",\"proof\",\"battle\",\"stars\",\"stream\",\"recent\",\"typical\",\"performance\",\"harvard\",\"restaurant\",\"origin\",\"listen\",\"smell\",\"decide\",\"serve\",\"undergraduate\",\"profit\",\"situation\",\"surgery\",\"asking\",\"plant\",\"link\",\"square\",\"completing\",\"four\",\"trust\",\"payment\",\"gym\",\"andor\",\"worklife\",\"guitar\",\"elections\",\"half\",\"investing\",\"scientist\",\"street\",\"needs\",\"native\",\"thoughts\",\"reality\",\"40\",\"medicine\",\"race\",\"choice\",\"longer\",\"came\",\"applying\",\"hiring\",\"west\",\"weed\",\"hacks\",\"step\",\"sea\",\"crime\",\"devices\",\"event\",\"citizen\",\"14\",\"17\",\"ticket\",\"fund\",\"equation\",\"suicide\",\"whom\",\"met\",\"almost\",\"designer\",\"local\",\"departments\",\"khan\",\"customer\",\"banking\",\"javascript\",\"trip\",\"issue\",\"react\",\"cannot\",\"dubai\",\"wall\",\"touch\",\"parts\",\"loves\",\"clothes\",\"straight\",\"sexual\",\"active\",\"inpatient\",\"dreams\",\"protein\",\"table\",\"exercise\",\"lord\",\"mtech\",\"creative\",\"ball\",\"speaking\",\"son\",\"receive\",\"dollars\",\"domain\",\"prospects\",\"hour\",\"graduation\",\"commercial\",\"themselves\",\"factors\",\"jesus\",\"programmer\",\"recommend\",\"replace\",\"chat\",\"placement\",\"episode\",\"fastest\",\"restaurants\",\"object\",\"drivers\",\"gaming\",\"mark\",\"taste\",\"seem\",\"perfect\",\"potential\",\"trumps\",\"appear\",\"rights\",\"equal\",\"rest\",\"package\",\"meant\",\"drop\",\"cool\",\"material\",\"potter\",\"events\",\"convince\",\"completely\",\"n\",\"zero\",\"significance\",\"lower\",\"feelings\",\"followers\",\"evidence\",\"certain\",\"later\",\"original\",\"bible\",\"disorder\",\"testing\",\"via\",\"stand\",\"actor\",\"characteristics\",\"cities\",\"reach\",\"ago\",\"mbbs\",\"speech\",\"electric\",\"approach\",\"scientific\",\"root\",\"analytics\",\"below\",\"grade\",\"mains\",\"topic\",\"fun\",\"ancient\",\"adult\",\"standard\",\"ice\",\"everyday\",\"population\",\"invented\",\"european\",\"intelligent\",\"11\",\"subject\",\"rehab\",\"background\",\"giving\",\"platform\",\"flight\",\"thrones\",\"maths\",\"dc\",\"teeth\",\"mit\",\"weeks\",\"east\",\"means\",\"programs\",\"beginner\",\"heat\",\"third\",\"tea\",\"range\",\"london\",\"maximum\",\"enjoy\",\"2000\",\"cells\",\"quickly\",\"here\",\"expensive\",\"phrase\",\"partner\",\"league\",\"anime\",\"latest\",\"specific\",\"whether\",\"functions\",\"os\",\"fire\",\"saying\",\"secret\",\"13\",\"planet\",\"hole\",\"super\",\"teacher\",\"strong\",\"accounts\",\"minister\",\"database\",\"economic\",\"channel\",\"estate\",\"ram\",\"switch\",\"asian\",\"smoking\",\"branch\",\"israel\",\"18\",\"features\",\"success\",\"lead\",\"total\",\"key\",\"master\",\"ok\",\"favourite\",\"psychology\",\"pok\\u00e9mon\",\"nothing\",\"clean\",\"25\",\"politics\",\"drinking\",\"sometimes\",\"recently\",\"korea\",\"sent\",\"poor\",\"hindu\",\"hollywood\",\"survive\",\"cure\",\"property\",\"return\",\"narendra\",\"budget\",\"sports\",\"limit\",\"arent\",\"boys\",\"driving\",\"whole\",\"cash\",\"smartphone\",\"php\",\"developed\",\"ssc\",\"hot\",\"attractive\",\"tool\",\"physical\",\"ecommerce\",\"sbi\",\"morning\",\"animal\",\"multiple\",\"loan\",\"acid\",\"fresher\",\"spanish\",\"moving\",\"decision\",\"county\",\"determined\",\"becoming\",\"seo\",\"summer\",\"manage\",\"server\",\"competitive\",\"milk\",\"importance\",\"banks\",\"cheap\",\"powerful\",\"issues\",\"penis\",\"according\",\"analysis\",\"bike\",\"position\",\"western\",\"advanced\",\"campus\",\"highest\",\"front\",\"court\",\"status\",\"gravity\",\"positions\",\"comes\",\"steps\",\"complete\",\"electronics\",\"won\",\"hurt\",\"certificate\",\"temperature\",\"player\",\"someones\",\"communication\",\"million\",\"talking\",\"preparing\",\"finance\",\"cancer\",\"9\",\"harry\",\"accept\",\"2014\",\"plus\",\"born\",\"tcs\",\"license\",\"bring\",\"teach\",\"practice\",\"trading\",\"m\",\"might\",\"opportunities\",\"global\",\"wish\",\"outside\",\"attack\",\"procedure\",\"needed\",\"update\",\"coffee\",\"provider\",\"rather\",\"16\",\"allow\",\"tamil\",\"mix\",\"connect\",\"room\",\"watching\",\"deep\",\"york\",\"image\",\"birth\",\"sign\",\"birthday\",\"playing\",\"wars\",\"grads\",\"hire\",\"phones\",\"cbse\",\"details\",\"clear\",\"cricket\",\"dangerous\",\"track\",\"corporate\",\"voice\",\"upsc\",\"content\",\"okay\",\"san\",\"heart\",\"far\",\"heard\",\"prove\",\"positive\",\"moment\",\"sales\",\"opinion\",\"engineers\",\"block\",\"diet\",\"coding\",\"core\",\"baby\",\"father\",\"little\",\"large\",\"blocked\",\"distance\",\"land\",\"simple\",\"husband\",\"told\",\"traffic\",\"prevent\",\"pictures\",\"planning\",\"fear\",\"classes\",\"towards\",\"technical\",\"building\",\"trying\",\"photo\",\"early\",\"uses\",\"sydney\",\"startups\",\"act\",\"id\",\"describe\",\"12th\",\"may\",\"formula\",\"gets\",\"present\",\"wont\",\"cut\",\"treat\",\"mathematics\",\"visiting\",\"eye\",\"policy\",\"close\",\"cse\",\"suitable\",\"version\",\"tools\",\"head\",\"minimum\",\"chennai\",\"easily\",\"method\",\"intelligence\",\"gre\",\"mother\",\"doctor\",\"macbook\",\"deleted\",\"gas\",\"suggest\",\"cards\",\"files\",\"loss\",\"art\",\"easiest\",\"late\",\"among\",\"together\",\"depression\",\"higher\",\"alone\",\"economics\",\"dead\",\"growth\",\"insurance\",\"gold\",\"necessary\",\"neet\",\"blog\",\"example\",\"memory\",\"crack\",\"consider\",\"works\",\"currency\",\"recruit\",\"pursue\",\"strategy\",\"young\",\"cs\",\"projects\",\"50\",\"manager\",\"abroad\",\"schools\",\"illegal\",\"inside\",\"stories\",\"hand\",\"t\",\"greatest\",\"personality\",\"galaxy\",\"device\",\"views\",\"user\",\"chemistry\",\"cars\",\"iq\",\"prefer\",\"picture\",\"nuclear\",\"middle\",\"applications\",\"gmail\",\"laws\",\"final\",\"capital\",\"kids\",\"society\",\"fake\",\"bill\",\"save\",\"though\",\"likely\",\"determine\",\"shows\",\"character\",\"snapchat\",\"youre\",\"eyes\",\"islam\",\"marry\",\"brand\",\"yet\",\"impact\",\"speak\",\"within\",\"rich\",\"resources\",\"net\",\"non\",\"pressure\",\"changed\",\"allowed\",\"obama\",\"cold\",\"running\",\"feeling\",\"jio\",\"football\",\"gift\",\"written\",\"buying\",\"mac\",\"spend\",\"prime\",\"blue\",\"train\",\"studies\",\"negative\",\"thinking\",\"solution\",\"sun\",\"least\",\"following\",\"install\",\"else\",\"muslims\",\"camera\",\"vote\",\"linux\",\"expect\",\"german\",\"recover\",\"starting\",\"crush\",\"coming\",\"muslim\",\"modern\",\"battery\",\"provide\",\"access\",\"presidential\",\"interest\",\"dating\",\"pro\",\"likes\",\"french\",\"singapore\",\"useful\",\"already\",\"professional\",\"percentage\",\"drink\",\"created\",\"board\",\"passport\",\"structure\",\"case\",\"height\",\"microsoft\",\"break\",\"screen\",\"names\",\"chance\",\"special\",\"30\",\"skin\",\"natural\",\"color\",\"interested\",\"amount\",\"pain\",\"healthy\",\"hack\",\"messages\",\"ias\",\"gay\",\"disadvantages\",\"pass\",\"moon\",\"systems\",\"hindi\",\"financial\",\"taken\",\"yes\",\"sim\",\"pregnant\",\"faster\",\"animals\",\"internship\",\"let\",\"photos\",\"balance\",\"sound\",\"due\",\"knowledge\",\"charge\",\"message\",\"officer\",\"solar\",\"military\",\"meet\",\"option\",\"reading\",\"across\",\"overcome\",\"everyone\",\"everything\",\"wife\",\"reduce\",\"chances\",\"samsung\",\"income\",\"bollywood\",\"season\",\"europe\",\"boy\",\"currently\",\"ex\",\"smart\",\"california\",\"engine\",\"paid\",\"army\",\"contact\",\"address\",\"wants\",\"ones\",\"gain\",\"reasons\",\"avoid\",\"please\",\"note\",\"known\",\"pune\",\"film\",\"national\",\"once\",\"users\",\"porn\",\"scope\",\"twitter\",\"drug\",\"rank\",\"japan\",\"fight\",\"transfer\",\"political\",\"green\",\"news\",\"self\",\"uber\",\"basic\",\"british\",\"religion\",\"hyderabad\",\"topics\",\"explain\",\"phd\",\"eating\",\"letter\",\"calculate\",\"ive\",\"tech\",\"personal\",\"japanese\",\"check\",\"hotel\",\"wifi\",\"beautiful\",\"difficult\",\"paper\",\"languages\",\"investment\",\"develop\",\"north\",\"electrical\",\"ios\",\"alcohol\",\"exactly\",\"profile\",\"past\",\"exams\",\"ca\",\"convert\",\"vs\",\"understand\",\"care\",\"dream\",\"try\",\"americans\",\"lost\",\"chemical\",\"source\",\"b\",\"admission\",\"easy\",\"must\",\"three\",\"effect\",\"view\",\"options\",\"page\",\"away\",\"red\",\"said\",\"line\",\"short\",\"happy\",\"security\",\"dark\",\"preparation\",\"second\",\"fat\",\"matter\",\"few\",\"since\",\"role\",\"pc\",\"office\",\"team\",\"delete\",\"cell\",\"election\",\"economy\",\"term\",\"dogs\",\"text\",\"female\",\"effective\",\"brain\",\"share\",\"digital\",\"btech\",\"russia\",\"\\u201c\",\"party\",\"numbers\",\"20\",\"store\",\"male\",\"mass\",\"turn\",\"left\",\"married\",\"rs\",\"taking\",\"those\",\"password\",\"follow\",\"advice\",\"isnt\",\"15\",\"types\",\"network\",\"\\u201d\",\"week\",\"purpose\",\"related\",\"fix\",\"started\",\"courses\",\"masters\",\"grow\",\"8\",\"fast\",\"leave\",\"100\",\"often\",\"found\",\"pros\",\"marriage\",\"cons\",\"quality\",\"words\",\"kill\",\"price\",\"near\",\"modi\",\"enough\",\"search\",\"python\",\"x\",\"blood\",\"math\",\"yourself\",\"drive\",\"size\",\"star\",\"graduate\",\"majors\",\"500\",\"model\",\"studying\",\"general\",\"oil\",\"colleges\",\"area\",\"developer\",\"germany\",\"industry\",\"full\",\"training\",\"says\",\"period\",\"videos\",\"universe\",\"fall\",\"daily\",\"information\",\"foreign\",\"credit\",\"force\",\"12\",\"youve\",\"south\",\"offer\",\"set\",\"add\",\"send\",\"australia\",\"center\",\"1000\",\"famous\",\"2015\",\"lot\",\"function\",\"tax\",\"correct\",\"solve\",\"advantages\",\"coaching\",\"institute\",\"effects\",\"guys\",\"again\",\"group\",\"hours\",\"side\",\"sentence\",\"low\",\"similar\",\"plan\",\"children\",\"answers\",\"talk\",\"marks\",\"ideas\",\"theory\",\"death\",\"compared\",\"night\",\"remove\",\"dog\",\"anything\",\"single\",\"successful\",\"gate\",\"indians\",\"put\",\"problems\",\"move\",\"writing\",\"point\",\"invest\",\"asked\",\"biggest\",\"others\",\"stock\",\"notes\",\"story\",\"machine\",\"private\",\"sell\",\"seen\",\"required\",\"field\",\"file\",\"rate\",\"humans\",\"application\",\"face\",\"sites\",\"mind\",\"facts\",\"mumbai\",\"post\",\"stay\",\"child\",\"terms\",\"products\",\"control\",\"legal\",\"police\",\"didnt\",\"level\",\"worst\",\"hate\",\"visit\",\"called\",\"amazon\",\"causes\",\"health\",\"form\",\"physics\",\"iit\",\"skills\",\"times\",\"medical\",\"based\",\"list\",\"websites\",\"die\",\"part\",\"less\",\"benefits\",\"apple\",\"instead\",\"these\",\"boyfriend\",\"sleep\",\"canada\",\"reason\",\"education\",\"cause\",\"jee\",\"value\",\"today\",\"media\",\"public\",\"happened\",\"product\",\"research\",\"main\",\"behind\",\"international\",\"project\",\"uk\",\"differ\",\"7\",\"places\",\"wear\",\"order\",\"date\",\"etc\",\"small\",\"songs\",\"apps\",\"email\",\"given\",\"wrong\",\"site\",\"normal\",\"culture\",\"also\",\"civil\",\"city\",\"available\",\"house\",\"exist\",\"startup\",\"services\",\"ms\",\"both\",\"down\",\"2017\",\"run\",\"cat\",\"well\",\"space\",\"join\",\"deal\",\"games\",\"visa\",\"rid\",\"air\",\"speed\",\"popular\",\"problem\",\"support\",\"current\",\"pakistan\",\"choose\",\"build\",\"idea\",\"america\",\"whatsapp\",\"affect\",\"law\",\"technology\",\"call\",\"6\",\"universities\",\"family\",\"marketing\",\"major\",\"actually\",\"favorite\",\"light\",\"bangalore\",\"woman\",\"because\",\"type\",\"program\",\"looking\",\"living\",\"open\",\"believe\",\"month\",\"able\",\"management\",\"travel\",\"degree\",\"show\",\"interesting\",\"score\",\"months\",\"series\",\"chinese\",\"development\",\"end\",\"code\",\"design\",\"per\",\"employees\",\"review\",\"clinton\",\"common\",\"kind\",\"internet\",\"song\",\"download\",\"course\",\"parents\",\"jobs\",\"such\",\"increase\",\"java\",\"god\",\"another\",\"united\",\"girlfriend\",\"mechanical\",\"always\",\"next\",\"never\",\"around\",\"tips\",\"mba\",\"myself\",\"hillary\",\"apply\",\"answer\",\"something\",\"considered\",\"making\",\"differences\",\"market\",\"compare\",\"great\",\"keep\",\"test\",\"s\",\"win\",\"against\",\"states\",\"earn\",\"youtube\",\"worth\",\"delhi\",\"energy\",\"laptop\",\"american\",\"lose\",\"each\",\"hard\",\"makes\",\"age\",\"ask\",\"safe\",\"body\",\"power\",\"salary\",\"4\",\"watch\",\"white\",\"windows\",\"instagram\",\"history\",\"pay\",\"every\",\"last\",\"create\",\"relationship\",\"music\",\"too\",\"meaning\",\"state\",\"average\",\"earth\",\"got\",\"process\",\"class\",\"tv\",\"eat\",\"done\",\"happens\",\"days\",\"big\",\"off\",\"improve\",\"future\",\"place\",\"man\",\"human\",\"government\",\"play\",\"countries\",\"food\",\"service\",\"students\",\"weight\",\"game\",\"engineer\",\"write\",\"very\",\"interview\",\"web\",\"tell\",\"social\",\"girls\",\"video\",\"look\",\"having\",\"guy\",\"home\",\"hair\",\"usa\",\"doesnt\",\"word\",\"bank\",\"friend\",\"true\",\"experience\",\"career\",\"president\",\"question\",\"own\",\"china\",\"come\",\"under\",\"working\",\"him\",\"doing\",\"donald\",\"friends\",\"right\",\"5\",\"cost\",\"mobile\",\"even\",\"movies\",\"then\",\"c\",\"\\u2019\",\"exam\",\"men\",\"learning\",\"card\",\"war\",\"read\",\"programming\",\"black\",\"anyone\",\"high\",\"10\",\"companies\",\"car\",\"getting\",\"give\",\"important\",\"questions\",\"cant\",\"iphone\",\"website\",\"top\",\"water\",\"prepare\",\"during\",\"real\",\"say\",\"system\",\"name\",\"through\",\"two\",\"1\",\"our\",\"study\",\"3\",\"university\",\"made\",\"back\",\"happen\",\"stop\",\"student\",\"sex\",\"bad\",\"language\",\"going\",\"same\",\"before\",\"software\",\"school\",\"live\",\"country\",\"android\",\"science\",\"help\",\"she\",\"see\",\"thing\",\"women\",\"over\",\"data\",\"examples\",\"computer\",\"had\",\"ways\",\"change\",\"while\",\"book\",\"english\",\"account\",\"still\",\"movie\",\"books\",\"2016\",\"facebook\",\"free\",\"number\",\"college\",\"app\",\"2\",\"just\",\"now\",\"no\",\"trump\",\"company\",\"only\",\"old\",\"been\",\"google\",\"phone\",\"long\",\"different\",\"girl\",\"his\",\"her\",\"years\",\"really\",\"them\",\"using\",\"business\",\"need\",\"being\",\"buy\",\"day\",\"person\",\"things\",\"possible\",\"could\",\"were\",\"its\",\"love\",\"engineering\",\"im\",\"used\",\"online\",\"go\",\"year\",\"he\",\"into\",\"feel\",\"dont\",\"first\",\"up\"]]]}}},\"view\":{\"type\":\"object\",\"name\":\"CDSView\",\"id\":\"p1045\",\"attributes\":{\"filter\":{\"type\":\"object\",\"name\":\"AllIndices\",\"id\":\"p1046\"}}},\"glyph\":{\"type\":\"object\",\"name\":\"Scatter\",\"id\":\"p1041\",\"attributes\":{\"x\":{\"type\":\"field\",\"field\":\"x\"},\"y\":{\"type\":\"field\",\"field\":\"y\"},\"size\":{\"type\":\"value\",\"value\":10},\"line_color\":{\"type\":\"field\",\"field\":\"color\"},\"line_alpha\":{\"type\":\"value\",\"value\":0.25},\"fill_color\":{\"type\":\"field\",\"field\":\"color\"},\"fill_alpha\":{\"type\":\"value\",\"value\":0.25},\"hatch_color\":{\"type\":\"field\",\"field\":\"color\"},\"hatch_alpha\":{\"type\":\"value\",\"value\":0.25}}},\"nonselection_glyph\":{\"type\":\"object\",\"name\":\"Scatter\",\"id\":\"p1042\",\"attributes\":{\"x\":{\"type\":\"field\",\"field\":\"x\"},\"y\":{\"type\":\"field\",\"field\":\"y\"},\"size\":{\"type\":\"value\",\"value\":10},\"line_color\":{\"type\":\"field\",\"field\":\"color\"},\"line_alpha\":{\"type\":\"value\",\"value\":0.1},\"fill_color\":{\"type\":\"field\",\"field\":\"color\"},\"fill_alpha\":{\"type\":\"value\",\"value\":0.1},\"hatch_color\":{\"type\":\"field\",\"field\":\"color\"},\"hatch_alpha\":{\"type\":\"value\",\"value\":0.1}}},\"muted_glyph\":{\"type\":\"object\",\"name\":\"Scatter\",\"id\":\"p1043\",\"attributes\":{\"x\":{\"type\":\"field\",\"field\":\"x\"},\"y\":{\"type\":\"field\",\"field\":\"y\"},\"size\":{\"type\":\"value\",\"value\":10},\"line_color\":{\"type\":\"field\",\"field\":\"color\"},\"line_alpha\":{\"type\":\"value\",\"value\":0.2},\"fill_color\":{\"type\":\"field\",\"field\":\"color\"},\"fill_alpha\":{\"type\":\"value\",\"value\":0.2},\"hatch_color\":{\"type\":\"field\",\"field\":\"color\"},\"hatch_alpha\":{\"type\":\"value\",\"value\":0.2}}}}}],\"toolbar\":{\"type\":\"object\",\"name\":\"Toolbar\",\"id\":\"p1012\",\"attributes\":{\"tools\":[{\"type\":\"object\",\"name\":\"PanTool\",\"id\":\"p1025\"},{\"type\":\"object\",\"name\":\"WheelZoomTool\",\"id\":\"p1026\",\"attributes\":{\"renderers\":\"auto\"}},{\"type\":\"object\",\"name\":\"BoxZoomTool\",\"id\":\"p1027\",\"attributes\":{\"overlay\":{\"type\":\"object\",\"name\":\"BoxAnnotation\",\"id\":\"p1028\",\"attributes\":{\"syncable\":false,\"line_color\":\"black\",\"line_alpha\":1.0,\"line_width\":2,\"line_dash\":[4,4],\"fill_color\":\"lightgrey\",\"fill_alpha\":0.5,\"level\":\"overlay\",\"visible\":false,\"left\":{\"type\":\"number\",\"value\":\"nan\"},\"right\":{\"type\":\"number\",\"value\":\"nan\"},\"top\":{\"type\":\"number\",\"value\":\"nan\"},\"bottom\":{\"type\":\"number\",\"value\":\"nan\"},\"left_units\":\"canvas\",\"right_units\":\"canvas\",\"top_units\":\"canvas\",\"bottom_units\":\"canvas\",\"handles\":{\"type\":\"object\",\"name\":\"BoxInteractionHandles\",\"id\":\"p1034\",\"attributes\":{\"all\":{\"type\":\"object\",\"name\":\"AreaVisuals\",\"id\":\"p1033\",\"attributes\":{\"fill_color\":\"white\",\"hover_fill_color\":\"lightgray\"}}}}}}}},{\"type\":\"object\",\"name\":\"SaveTool\",\"id\":\"p1035\"},{\"type\":\"object\",\"name\":\"ResetTool\",\"id\":\"p1036\"},{\"type\":\"object\",\"name\":\"HelpTool\",\"id\":\"p1037\"},{\"type\":\"object\",\"name\":\"HoverTool\",\"id\":\"p1047\",\"attributes\":{\"renderers\":\"auto\",\"tooltips\":[[\"token\",\"@token\"]]}}],\"active_scroll\":{\"id\":\"p1026\"}}},\"left\":[{\"type\":\"object\",\"name\":\"LinearAxis\",\"id\":\"p1020\",\"attributes\":{\"ticker\":{\"type\":\"object\",\"name\":\"BasicTicker\",\"id\":\"p1021\",\"attributes\":{\"mantissas\":[1,2,5]}},\"formatter\":{\"type\":\"object\",\"name\":\"BasicTickFormatter\",\"id\":\"p1022\"},\"major_label_policy\":{\"type\":\"object\",\"name\":\"AllLabels\",\"id\":\"p1023\"}}}],\"below\":[{\"type\":\"object\",\"name\":\"LinearAxis\",\"id\":\"p1015\",\"attributes\":{\"ticker\":{\"type\":\"object\",\"name\":\"BasicTicker\",\"id\":\"p1016\",\"attributes\":{\"mantissas\":[1,2,5]}},\"formatter\":{\"type\":\"object\",\"name\":\"BasicTickFormatter\",\"id\":\"p1017\"},\"major_label_policy\":{\"type\":\"object\",\"name\":\"AllLabels\",\"id\":\"p1018\"}}}],\"center\":[{\"type\":\"object\",\"name\":\"Grid\",\"id\":\"p1019\",\"attributes\":{\"axis\":{\"id\":\"p1015\"}}},{\"type\":\"object\",\"name\":\"Grid\",\"id\":\"p1024\",\"attributes\":{\"dimension\":1,\"axis\":{\"id\":\"p1020\"}}}]}}]}};\n",
              "  const render_items = [{\"docid\":\"b5f327dd-e379-4507-b786-e5eac9c8ece5\",\"roots\":{\"p1004\":\"c101b202-a78e-4e27-9161-a3df729be3bc\"},\"root_ids\":[\"p1004\"]}];\n",
              "  void root.Bokeh.embed.embed_items_notebook(docs_json, render_items);\n",
              "  }\n",
              "  if (root.Bokeh !== undefined) {\n",
              "    embed_document(root);\n",
              "  } else {\n",
              "    let attempts = 0;\n",
              "    const timer = setInterval(function(root) {\n",
              "      if (root.Bokeh !== undefined) {\n",
              "        clearInterval(timer);\n",
              "        embed_document(root);\n",
              "      } else {\n",
              "        attempts++;\n",
              "        if (attempts > 100) {\n",
              "          clearInterval(timer);\n",
              "          console.log(\"Bokeh: ERROR: Unable to run BokehJS code because BokehJS library is missing\");\n",
              "        }\n",
              "      }\n",
              "    }, 10, root)\n",
              "  }\n",
              "})(window);"
            ],
            "application/vnd.bokehjs_exec.v0+json": ""
          },
          "metadata": {
            "application/vnd.bokehjs_exec.v0+json": {
              "id": "p1004"
            }
          }
        },
        {
          "output_type": "execute_result",
          "data": {
            "text/plain": [
              "figure(id='p1004', ...)"
            ],
            "text/html": [
              "<div style=\"display: table;\"><div style=\"display: table-row;\"><div style=\"display: table-cell;\"><b title=\"bokeh.plotting._figure.figure\">figure</b>(</div><div style=\"display: table-cell;\">id&nbsp;=&nbsp;'p1004', <span id=\"p1051\" style=\"cursor: pointer;\">&hellip;)</span></div></div><div class=\"p1050\" style=\"display: none;\"><div style=\"display: table-cell;\"></div><div style=\"display: table-cell;\">above&nbsp;=&nbsp;[],</div></div><div class=\"p1050\" style=\"display: none;\"><div style=\"display: table-cell;\"></div><div style=\"display: table-cell;\">align&nbsp;=&nbsp;'auto',</div></div><div class=\"p1050\" style=\"display: none;\"><div style=\"display: table-cell;\"></div><div style=\"display: table-cell;\">aspect_ratio&nbsp;=&nbsp;None,</div></div><div class=\"p1050\" style=\"display: none;\"><div style=\"display: table-cell;\"></div><div style=\"display: table-cell;\">aspect_scale&nbsp;=&nbsp;1,</div></div><div class=\"p1050\" style=\"display: none;\"><div style=\"display: table-cell;\"></div><div style=\"display: table-cell;\">attribution&nbsp;=&nbsp;[],</div></div><div class=\"p1050\" style=\"display: none;\"><div style=\"display: table-cell;\"></div><div style=\"display: table-cell;\">background_fill_alpha&nbsp;=&nbsp;1.0,</div></div><div class=\"p1050\" style=\"display: none;\"><div style=\"display: table-cell;\"></div><div style=\"display: table-cell;\">background_fill_color&nbsp;=&nbsp;'#ffffff',</div></div><div class=\"p1050\" style=\"display: none;\"><div style=\"display: table-cell;\"></div><div style=\"display: table-cell;\">below&nbsp;=&nbsp;[LinearAxis(id='p1015', ...)],</div></div><div class=\"p1050\" style=\"display: none;\"><div style=\"display: table-cell;\"></div><div style=\"display: table-cell;\">border_fill_alpha&nbsp;=&nbsp;1.0,</div></div><div class=\"p1050\" style=\"display: none;\"><div style=\"display: table-cell;\"></div><div style=\"display: table-cell;\">border_fill_color&nbsp;=&nbsp;'#ffffff',</div></div><div class=\"p1050\" style=\"display: none;\"><div style=\"display: table-cell;\"></div><div style=\"display: table-cell;\">center&nbsp;=&nbsp;[Grid(id='p1019', ...), Grid(id='p1024', ...)],</div></div><div class=\"p1050\" style=\"display: none;\"><div style=\"display: table-cell;\"></div><div style=\"display: table-cell;\">context_menu&nbsp;=&nbsp;None,</div></div><div class=\"p1050\" style=\"display: none;\"><div style=\"display: table-cell;\"></div><div style=\"display: table-cell;\">css_classes&nbsp;=&nbsp;[],</div></div><div class=\"p1050\" style=\"display: none;\"><div style=\"display: table-cell;\"></div><div style=\"display: table-cell;\">css_variables&nbsp;=&nbsp;{},</div></div><div class=\"p1050\" style=\"display: none;\"><div style=\"display: table-cell;\"></div><div style=\"display: table-cell;\">disabled&nbsp;=&nbsp;False,</div></div><div class=\"p1050\" style=\"display: none;\"><div style=\"display: table-cell;\"></div><div style=\"display: table-cell;\">elements&nbsp;=&nbsp;[],</div></div><div class=\"p1050\" style=\"display: none;\"><div style=\"display: table-cell;\"></div><div style=\"display: table-cell;\">extra_x_ranges&nbsp;=&nbsp;{},</div></div><div class=\"p1050\" style=\"display: none;\"><div style=\"display: table-cell;\"></div><div style=\"display: table-cell;\">extra_x_scales&nbsp;=&nbsp;{},</div></div><div class=\"p1050\" style=\"display: none;\"><div style=\"display: table-cell;\"></div><div style=\"display: table-cell;\">extra_y_ranges&nbsp;=&nbsp;{},</div></div><div class=\"p1050\" style=\"display: none;\"><div style=\"display: table-cell;\"></div><div style=\"display: table-cell;\">extra_y_scales&nbsp;=&nbsp;{},</div></div><div class=\"p1050\" style=\"display: none;\"><div style=\"display: table-cell;\"></div><div style=\"display: table-cell;\">flow_mode&nbsp;=&nbsp;'block',</div></div><div class=\"p1050\" style=\"display: none;\"><div style=\"display: table-cell;\"></div><div style=\"display: table-cell;\">frame_align&nbsp;=&nbsp;True,</div></div><div class=\"p1050\" style=\"display: none;\"><div style=\"display: table-cell;\"></div><div style=\"display: table-cell;\">frame_height&nbsp;=&nbsp;None,</div></div><div class=\"p1050\" style=\"display: none;\"><div style=\"display: table-cell;\"></div><div style=\"display: table-cell;\">frame_width&nbsp;=&nbsp;None,</div></div><div class=\"p1050\" style=\"display: none;\"><div style=\"display: table-cell;\"></div><div style=\"display: table-cell;\">height&nbsp;=&nbsp;400,</div></div><div class=\"p1050\" style=\"display: none;\"><div style=\"display: table-cell;\"></div><div style=\"display: table-cell;\">height_policy&nbsp;=&nbsp;'auto',</div></div><div class=\"p1050\" style=\"display: none;\"><div style=\"display: table-cell;\"></div><div style=\"display: table-cell;\">hidpi&nbsp;=&nbsp;True,</div></div><div class=\"p1050\" style=\"display: none;\"><div style=\"display: table-cell;\"></div><div style=\"display: table-cell;\">hold_render&nbsp;=&nbsp;False,</div></div><div class=\"p1050\" style=\"display: none;\"><div style=\"display: table-cell;\"></div><div style=\"display: table-cell;\">js_event_callbacks&nbsp;=&nbsp;{},</div></div><div class=\"p1050\" style=\"display: none;\"><div style=\"display: table-cell;\"></div><div style=\"display: table-cell;\">js_property_callbacks&nbsp;=&nbsp;{},</div></div><div class=\"p1050\" style=\"display: none;\"><div style=\"display: table-cell;\"></div><div style=\"display: table-cell;\">left&nbsp;=&nbsp;[LinearAxis(id='p1020', ...)],</div></div><div class=\"p1050\" style=\"display: none;\"><div style=\"display: table-cell;\"></div><div style=\"display: table-cell;\">lod_factor&nbsp;=&nbsp;10,</div></div><div class=\"p1050\" style=\"display: none;\"><div style=\"display: table-cell;\"></div><div style=\"display: table-cell;\">lod_interval&nbsp;=&nbsp;300,</div></div><div class=\"p1050\" style=\"display: none;\"><div style=\"display: table-cell;\"></div><div style=\"display: table-cell;\">lod_threshold&nbsp;=&nbsp;2000,</div></div><div class=\"p1050\" style=\"display: none;\"><div style=\"display: table-cell;\"></div><div style=\"display: table-cell;\">lod_timeout&nbsp;=&nbsp;500,</div></div><div class=\"p1050\" style=\"display: none;\"><div style=\"display: table-cell;\"></div><div style=\"display: table-cell;\">margin&nbsp;=&nbsp;None,</div></div><div class=\"p1050\" style=\"display: none;\"><div style=\"display: table-cell;\"></div><div style=\"display: table-cell;\">match_aspect&nbsp;=&nbsp;False,</div></div><div class=\"p1050\" style=\"display: none;\"><div style=\"display: table-cell;\"></div><div style=\"display: table-cell;\">max_height&nbsp;=&nbsp;None,</div></div><div class=\"p1050\" style=\"display: none;\"><div style=\"display: table-cell;\"></div><div style=\"display: table-cell;\">max_width&nbsp;=&nbsp;None,</div></div><div class=\"p1050\" style=\"display: none;\"><div style=\"display: table-cell;\"></div><div style=\"display: table-cell;\">min_border&nbsp;=&nbsp;5,</div></div><div class=\"p1050\" style=\"display: none;\"><div style=\"display: table-cell;\"></div><div style=\"display: table-cell;\">min_border_bottom&nbsp;=&nbsp;None,</div></div><div class=\"p1050\" style=\"display: none;\"><div style=\"display: table-cell;\"></div><div style=\"display: table-cell;\">min_border_left&nbsp;=&nbsp;None,</div></div><div class=\"p1050\" style=\"display: none;\"><div style=\"display: table-cell;\"></div><div style=\"display: table-cell;\">min_border_right&nbsp;=&nbsp;None,</div></div><div class=\"p1050\" style=\"display: none;\"><div style=\"display: table-cell;\"></div><div style=\"display: table-cell;\">min_border_top&nbsp;=&nbsp;None,</div></div><div class=\"p1050\" style=\"display: none;\"><div style=\"display: table-cell;\"></div><div style=\"display: table-cell;\">min_height&nbsp;=&nbsp;None,</div></div><div class=\"p1050\" style=\"display: none;\"><div style=\"display: table-cell;\"></div><div style=\"display: table-cell;\">min_width&nbsp;=&nbsp;None,</div></div><div class=\"p1050\" style=\"display: none;\"><div style=\"display: table-cell;\"></div><div style=\"display: table-cell;\">name&nbsp;=&nbsp;None,</div></div><div class=\"p1050\" style=\"display: none;\"><div style=\"display: table-cell;\"></div><div style=\"display: table-cell;\">outline_line_alpha&nbsp;=&nbsp;1.0,</div></div><div class=\"p1050\" style=\"display: none;\"><div style=\"display: table-cell;\"></div><div style=\"display: table-cell;\">outline_line_cap&nbsp;=&nbsp;'butt',</div></div><div class=\"p1050\" style=\"display: none;\"><div style=\"display: table-cell;\"></div><div style=\"display: table-cell;\">outline_line_color&nbsp;=&nbsp;'#e5e5e5',</div></div><div class=\"p1050\" style=\"display: none;\"><div style=\"display: table-cell;\"></div><div style=\"display: table-cell;\">outline_line_dash&nbsp;=&nbsp;[],</div></div><div class=\"p1050\" style=\"display: none;\"><div style=\"display: table-cell;\"></div><div style=\"display: table-cell;\">outline_line_dash_offset&nbsp;=&nbsp;0,</div></div><div class=\"p1050\" style=\"display: none;\"><div style=\"display: table-cell;\"></div><div style=\"display: table-cell;\">outline_line_join&nbsp;=&nbsp;'bevel',</div></div><div class=\"p1050\" style=\"display: none;\"><div style=\"display: table-cell;\"></div><div style=\"display: table-cell;\">outline_line_width&nbsp;=&nbsp;1,</div></div><div class=\"p1050\" style=\"display: none;\"><div style=\"display: table-cell;\"></div><div style=\"display: table-cell;\">output_backend&nbsp;=&nbsp;'canvas',</div></div><div class=\"p1050\" style=\"display: none;\"><div style=\"display: table-cell;\"></div><div style=\"display: table-cell;\">renderers&nbsp;=&nbsp;[GlyphRenderer(id='p1044', ...)],</div></div><div class=\"p1050\" style=\"display: none;\"><div style=\"display: table-cell;\"></div><div style=\"display: table-cell;\">reset_policy&nbsp;=&nbsp;'standard',</div></div><div class=\"p1050\" style=\"display: none;\"><div style=\"display: table-cell;\"></div><div style=\"display: table-cell;\">resizable&nbsp;=&nbsp;False,</div></div><div class=\"p1050\" style=\"display: none;\"><div style=\"display: table-cell;\"></div><div style=\"display: table-cell;\">right&nbsp;=&nbsp;[],</div></div><div class=\"p1050\" style=\"display: none;\"><div style=\"display: table-cell;\"></div><div style=\"display: table-cell;\">sizing_mode&nbsp;=&nbsp;None,</div></div><div class=\"p1050\" style=\"display: none;\"><div style=\"display: table-cell;\"></div><div style=\"display: table-cell;\">styles&nbsp;=&nbsp;{},</div></div><div class=\"p1050\" style=\"display: none;\"><div style=\"display: table-cell;\"></div><div style=\"display: table-cell;\">stylesheets&nbsp;=&nbsp;[],</div></div><div class=\"p1050\" style=\"display: none;\"><div style=\"display: table-cell;\"></div><div style=\"display: table-cell;\">subscribed_events&nbsp;=&nbsp;PropertyValueSet(),</div></div><div class=\"p1050\" style=\"display: none;\"><div style=\"display: table-cell;\"></div><div style=\"display: table-cell;\">syncable&nbsp;=&nbsp;True,</div></div><div class=\"p1050\" style=\"display: none;\"><div style=\"display: table-cell;\"></div><div style=\"display: table-cell;\">tags&nbsp;=&nbsp;[],</div></div><div class=\"p1050\" style=\"display: none;\"><div style=\"display: table-cell;\"></div><div style=\"display: table-cell;\">title&nbsp;=&nbsp;Title(id='p1011', ...),</div></div><div class=\"p1050\" style=\"display: none;\"><div style=\"display: table-cell;\"></div><div style=\"display: table-cell;\">title_location&nbsp;=&nbsp;'above',</div></div><div class=\"p1050\" style=\"display: none;\"><div style=\"display: table-cell;\"></div><div style=\"display: table-cell;\">toolbar&nbsp;=&nbsp;Toolbar(id='p1012', ...),</div></div><div class=\"p1050\" style=\"display: none;\"><div style=\"display: table-cell;\"></div><div style=\"display: table-cell;\">toolbar_inner&nbsp;=&nbsp;False,</div></div><div class=\"p1050\" style=\"display: none;\"><div style=\"display: table-cell;\"></div><div style=\"display: table-cell;\">toolbar_location&nbsp;=&nbsp;'right',</div></div><div class=\"p1050\" style=\"display: none;\"><div style=\"display: table-cell;\"></div><div style=\"display: table-cell;\">toolbar_sticky&nbsp;=&nbsp;True,</div></div><div class=\"p1050\" style=\"display: none;\"><div style=\"display: table-cell;\"></div><div style=\"display: table-cell;\">visible&nbsp;=&nbsp;True,</div></div><div class=\"p1050\" style=\"display: none;\"><div style=\"display: table-cell;\"></div><div style=\"display: table-cell;\">width&nbsp;=&nbsp;600,</div></div><div class=\"p1050\" style=\"display: none;\"><div style=\"display: table-cell;\"></div><div style=\"display: table-cell;\">width_policy&nbsp;=&nbsp;'auto',</div></div><div class=\"p1050\" style=\"display: none;\"><div style=\"display: table-cell;\"></div><div style=\"display: table-cell;\">x_range&nbsp;=&nbsp;DataRange1d(id='p1005', ...),</div></div><div class=\"p1050\" style=\"display: none;\"><div style=\"display: table-cell;\"></div><div style=\"display: table-cell;\">x_scale&nbsp;=&nbsp;LinearScale(id='p1013', ...),</div></div><div class=\"p1050\" style=\"display: none;\"><div style=\"display: table-cell;\"></div><div style=\"display: table-cell;\">y_range&nbsp;=&nbsp;DataRange1d(id='p1006', ...),</div></div><div class=\"p1050\" style=\"display: none;\"><div style=\"display: table-cell;\"></div><div style=\"display: table-cell;\">y_scale&nbsp;=&nbsp;LinearScale(id='p1014', ...))</div></div></div>\n",
              "<script>\n",
              "(function() {\n",
              "  let expanded = false;\n",
              "  const ellipsis = document.getElementById(\"p1051\");\n",
              "  ellipsis.addEventListener(\"click\", function() {\n",
              "    const rows = document.getElementsByClassName(\"p1050\");\n",
              "    for (let i = 0; i < rows.length; i++) {\n",
              "      const el = rows[i];\n",
              "      el.style.display = expanded ? \"none\" : \"table-row\";\n",
              "    }\n",
              "    ellipsis.innerHTML = expanded ? \"&hellip;)\" : \"&lsaquo;&lsaquo;&lsaquo;\";\n",
              "    expanded = !expanded;\n",
              "  });\n",
              "})();\n",
              "</script>\n"
            ]
          },
          "metadata": {},
          "execution_count": 35
        }
      ],
      "source": [
        "draw_vectors(embedding[:, 0], embedding[:, 1], token=top_words)"
      ]
    },
    {
      "cell_type": "markdown",
      "metadata": {
        "id": "2fiYuhFE5Rg9"
      },
      "source": [
        "Для сдачи задания необходимо загрузить функции `subsample_frequent_words` и `get_negative_sampling_prob`, а также сгенерировать файл для посылки ниже и приложить в соответствующую задачу. Успехов!"
      ]
    },
    {
      "cell_type": "code",
      "execution_count": 36,
      "metadata": {
        "id": "mRHE9Lfo5Rg9",
        "colab": {
          "base_uri": "https://localhost:8080/"
        },
        "outputId": "c8d6e5c6-fea6-40ed-d646-5cda63d581a0"
      },
      "outputs": [
        {
          "output_type": "stream",
          "name": "stdout",
          "text": [
            "File saved to `submission_dict.json`\n"
          ]
        }
      ],
      "source": [
        "# do not change the code in the block below\n",
        "# __________start of block__________\n",
        "import os\n",
        "import json\n",
        "\n",
        "assert os.path.exists(\n",
        "    \"words_subset.txt\"\n",
        "), \"Please, download `words_subset.txt` and place it in the working directory\"\n",
        "\n",
        "with open(\"words_subset.txt\") as iofile:\n",
        "    selected_words = iofile.read().split(\"\\n\")\n",
        "\n",
        "\n",
        "def get_matrix_for_selected_words(selected_words, embedding_matrix, word_to_index):\n",
        "    word_vectors = []\n",
        "    for word in selected_words:\n",
        "        index = word_to_index.get(word, None)\n",
        "        vector = [0.0] * embedding_matrix.shape[1]\n",
        "        if index is not None:\n",
        "            vector = embedding_matrix[index].numpy().tolist()\n",
        "        word_vectors.append(vector)\n",
        "    return word_vectors\n",
        "\n",
        "\n",
        "word_vectors = get_matrix_for_selected_words(\n",
        "    selected_words, embedding_matrix_context, word_to_index\n",
        ")\n",
        "\n",
        "with open(\"submission_dict.json\", \"w\") as iofile:\n",
        "    json.dump(word_vectors, iofile)\n",
        "print(\"File saved to `submission_dict.json`\")\n",
        "# __________end of block__________"
      ]
    }
  ],
  "metadata": {
    "colab": {
      "provenance": []
    },
    "kernelspec": {
      "display_name": "Python 3",
      "language": "python",
      "name": "python3"
    },
    "language_info": {
      "codemirror_mode": {
        "name": "ipython",
        "version": 3
      },
      "file_extension": ".py",
      "mimetype": "text/x-python",
      "name": "python",
      "nbconvert_exporter": "python",
      "pygments_lexer": "ipython3",
      "version": "3.10.6"
    },
    "widgets": {
      "application/vnd.jupyter.widget-state+json": {
        "131bfc7c9efb45bc8380591459135395": {
          "model_module": "@jupyter-widgets/controls",
          "model_name": "HBoxModel",
          "model_module_version": "1.5.0",
          "state": {
            "_dom_classes": [],
            "_model_module": "@jupyter-widgets/controls",
            "_model_module_version": "1.5.0",
            "_model_name": "HBoxModel",
            "_view_count": null,
            "_view_module": "@jupyter-widgets/controls",
            "_view_module_version": "1.5.0",
            "_view_name": "HBoxView",
            "box_style": "",
            "children": [
              "IPY_MODEL_625ba2d1a63d441ba3b81f7d3097ff83",
              "IPY_MODEL_bbe6a1c675a94eaa814e0b751500c166",
              "IPY_MODEL_4e62f86ac84046cfbb34d4a9bcb0b722"
            ],
            "layout": "IPY_MODEL_385328d99e3440888ac0a8a5dbdb2b74"
          }
        },
        "625ba2d1a63d441ba3b81f7d3097ff83": {
          "model_module": "@jupyter-widgets/controls",
          "model_name": "HTMLModel",
          "model_module_version": "1.5.0",
          "state": {
            "_dom_classes": [],
            "_model_module": "@jupyter-widgets/controls",
            "_model_module_version": "1.5.0",
            "_model_name": "HTMLModel",
            "_view_count": null,
            "_view_module": "@jupyter-widgets/controls",
            "_view_module_version": "1.5.0",
            "_view_name": "HTMLView",
            "description": "",
            "description_tooltip": null,
            "layout": "IPY_MODEL_7d6c4caadc5d4f1097879c3304de0ec9",
            "placeholder": "​",
            "style": "IPY_MODEL_ff8b428da2544a8cacc8a7d7bf6acf6b",
            "value": "100%"
          }
        },
        "bbe6a1c675a94eaa814e0b751500c166": {
          "model_module": "@jupyter-widgets/controls",
          "model_name": "FloatProgressModel",
          "model_module_version": "1.5.0",
          "state": {
            "_dom_classes": [],
            "_model_module": "@jupyter-widgets/controls",
            "_model_module_version": "1.5.0",
            "_model_name": "FloatProgressModel",
            "_view_count": null,
            "_view_module": "@jupyter-widgets/controls",
            "_view_module_version": "1.5.0",
            "_view_name": "ProgressView",
            "bar_style": "success",
            "description": "",
            "description_tooltip": null,
            "layout": "IPY_MODEL_9f09c2ed70964a188e8faed945832c42",
            "max": 2500,
            "min": 0,
            "orientation": "horizontal",
            "style": "IPY_MODEL_01329b03138f41039c01b0cdc529d20b",
            "value": 2500
          }
        },
        "4e62f86ac84046cfbb34d4a9bcb0b722": {
          "model_module": "@jupyter-widgets/controls",
          "model_name": "HTMLModel",
          "model_module_version": "1.5.0",
          "state": {
            "_dom_classes": [],
            "_model_module": "@jupyter-widgets/controls",
            "_model_module_version": "1.5.0",
            "_model_name": "HTMLModel",
            "_view_count": null,
            "_view_module": "@jupyter-widgets/controls",
            "_view_module_version": "1.5.0",
            "_view_name": "HTMLView",
            "description": "",
            "description_tooltip": null,
            "layout": "IPY_MODEL_0dac5f0cc61e465fb8c0ade0b22ff803",
            "placeholder": "​",
            "style": "IPY_MODEL_a5986d591b314dc6b58ffeaa34b04ec5",
            "value": " 2500/2500 [1:02:24&lt;00:00,  1.70s/it]"
          }
        },
        "385328d99e3440888ac0a8a5dbdb2b74": {
          "model_module": "@jupyter-widgets/base",
          "model_name": "LayoutModel",
          "model_module_version": "1.2.0",
          "state": {
            "_model_module": "@jupyter-widgets/base",
            "_model_module_version": "1.2.0",
            "_model_name": "LayoutModel",
            "_view_count": null,
            "_view_module": "@jupyter-widgets/base",
            "_view_module_version": "1.2.0",
            "_view_name": "LayoutView",
            "align_content": null,
            "align_items": null,
            "align_self": null,
            "border": null,
            "bottom": null,
            "display": null,
            "flex": null,
            "flex_flow": null,
            "grid_area": null,
            "grid_auto_columns": null,
            "grid_auto_flow": null,
            "grid_auto_rows": null,
            "grid_column": null,
            "grid_gap": null,
            "grid_row": null,
            "grid_template_areas": null,
            "grid_template_columns": null,
            "grid_template_rows": null,
            "height": null,
            "justify_content": null,
            "justify_items": null,
            "left": null,
            "margin": null,
            "max_height": null,
            "max_width": null,
            "min_height": null,
            "min_width": null,
            "object_fit": null,
            "object_position": null,
            "order": null,
            "overflow": null,
            "overflow_x": null,
            "overflow_y": null,
            "padding": null,
            "right": null,
            "top": null,
            "visibility": null,
            "width": null
          }
        },
        "7d6c4caadc5d4f1097879c3304de0ec9": {
          "model_module": "@jupyter-widgets/base",
          "model_name": "LayoutModel",
          "model_module_version": "1.2.0",
          "state": {
            "_model_module": "@jupyter-widgets/base",
            "_model_module_version": "1.2.0",
            "_model_name": "LayoutModel",
            "_view_count": null,
            "_view_module": "@jupyter-widgets/base",
            "_view_module_version": "1.2.0",
            "_view_name": "LayoutView",
            "align_content": null,
            "align_items": null,
            "align_self": null,
            "border": null,
            "bottom": null,
            "display": null,
            "flex": null,
            "flex_flow": null,
            "grid_area": null,
            "grid_auto_columns": null,
            "grid_auto_flow": null,
            "grid_auto_rows": null,
            "grid_column": null,
            "grid_gap": null,
            "grid_row": null,
            "grid_template_areas": null,
            "grid_template_columns": null,
            "grid_template_rows": null,
            "height": null,
            "justify_content": null,
            "justify_items": null,
            "left": null,
            "margin": null,
            "max_height": null,
            "max_width": null,
            "min_height": null,
            "min_width": null,
            "object_fit": null,
            "object_position": null,
            "order": null,
            "overflow": null,
            "overflow_x": null,
            "overflow_y": null,
            "padding": null,
            "right": null,
            "top": null,
            "visibility": null,
            "width": null
          }
        },
        "ff8b428da2544a8cacc8a7d7bf6acf6b": {
          "model_module": "@jupyter-widgets/controls",
          "model_name": "DescriptionStyleModel",
          "model_module_version": "1.5.0",
          "state": {
            "_model_module": "@jupyter-widgets/controls",
            "_model_module_version": "1.5.0",
            "_model_name": "DescriptionStyleModel",
            "_view_count": null,
            "_view_module": "@jupyter-widgets/base",
            "_view_module_version": "1.2.0",
            "_view_name": "StyleView",
            "description_width": ""
          }
        },
        "9f09c2ed70964a188e8faed945832c42": {
          "model_module": "@jupyter-widgets/base",
          "model_name": "LayoutModel",
          "model_module_version": "1.2.0",
          "state": {
            "_model_module": "@jupyter-widgets/base",
            "_model_module_version": "1.2.0",
            "_model_name": "LayoutModel",
            "_view_count": null,
            "_view_module": "@jupyter-widgets/base",
            "_view_module_version": "1.2.0",
            "_view_name": "LayoutView",
            "align_content": null,
            "align_items": null,
            "align_self": null,
            "border": null,
            "bottom": null,
            "display": null,
            "flex": null,
            "flex_flow": null,
            "grid_area": null,
            "grid_auto_columns": null,
            "grid_auto_flow": null,
            "grid_auto_rows": null,
            "grid_column": null,
            "grid_gap": null,
            "grid_row": null,
            "grid_template_areas": null,
            "grid_template_columns": null,
            "grid_template_rows": null,
            "height": null,
            "justify_content": null,
            "justify_items": null,
            "left": null,
            "margin": null,
            "max_height": null,
            "max_width": null,
            "min_height": null,
            "min_width": null,
            "object_fit": null,
            "object_position": null,
            "order": null,
            "overflow": null,
            "overflow_x": null,
            "overflow_y": null,
            "padding": null,
            "right": null,
            "top": null,
            "visibility": null,
            "width": null
          }
        },
        "01329b03138f41039c01b0cdc529d20b": {
          "model_module": "@jupyter-widgets/controls",
          "model_name": "ProgressStyleModel",
          "model_module_version": "1.5.0",
          "state": {
            "_model_module": "@jupyter-widgets/controls",
            "_model_module_version": "1.5.0",
            "_model_name": "ProgressStyleModel",
            "_view_count": null,
            "_view_module": "@jupyter-widgets/base",
            "_view_module_version": "1.2.0",
            "_view_name": "StyleView",
            "bar_color": null,
            "description_width": ""
          }
        },
        "0dac5f0cc61e465fb8c0ade0b22ff803": {
          "model_module": "@jupyter-widgets/base",
          "model_name": "LayoutModel",
          "model_module_version": "1.2.0",
          "state": {
            "_model_module": "@jupyter-widgets/base",
            "_model_module_version": "1.2.0",
            "_model_name": "LayoutModel",
            "_view_count": null,
            "_view_module": "@jupyter-widgets/base",
            "_view_module_version": "1.2.0",
            "_view_name": "LayoutView",
            "align_content": null,
            "align_items": null,
            "align_self": null,
            "border": null,
            "bottom": null,
            "display": null,
            "flex": null,
            "flex_flow": null,
            "grid_area": null,
            "grid_auto_columns": null,
            "grid_auto_flow": null,
            "grid_auto_rows": null,
            "grid_column": null,
            "grid_gap": null,
            "grid_row": null,
            "grid_template_areas": null,
            "grid_template_columns": null,
            "grid_template_rows": null,
            "height": null,
            "justify_content": null,
            "justify_items": null,
            "left": null,
            "margin": null,
            "max_height": null,
            "max_width": null,
            "min_height": null,
            "min_width": null,
            "object_fit": null,
            "object_position": null,
            "order": null,
            "overflow": null,
            "overflow_x": null,
            "overflow_y": null,
            "padding": null,
            "right": null,
            "top": null,
            "visibility": null,
            "width": null
          }
        },
        "a5986d591b314dc6b58ffeaa34b04ec5": {
          "model_module": "@jupyter-widgets/controls",
          "model_name": "DescriptionStyleModel",
          "model_module_version": "1.5.0",
          "state": {
            "_model_module": "@jupyter-widgets/controls",
            "_model_module_version": "1.5.0",
            "_model_name": "DescriptionStyleModel",
            "_view_count": null,
            "_view_module": "@jupyter-widgets/base",
            "_view_module_version": "1.2.0",
            "_view_name": "StyleView",
            "description_width": ""
          }
        }
      }
    }
  },
  "nbformat": 4,
  "nbformat_minor": 0
}