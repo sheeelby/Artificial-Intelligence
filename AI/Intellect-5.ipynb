{
 "cells": [
  {
   "cell_type": "markdown",
   "id": "72f169fe",
   "metadata": {},
   "source": [
    "**Задача 1.**\n",
    "\n",
    "Создайте класс по работе с тригонометрическими функциями. В классе должны быть реализованы функции вычисления:\n",
    "- косинуса;\n",
    "- синуса;\n",
    "- тангенса;\n",
    "- арксинуса;\n",
    "- арккосинуса;\n",
    "- арктангенса;\n",
    "- перевода из градусов в радианы."
   ]
  },
  {
   "cell_type": "code",
   "execution_count": 6,
   "id": "aa481fd2",
   "metadata": {},
   "outputs": [
    {
     "name": "stdout",
     "output_type": "stream",
     "text": [
      "1.5707963267948966\n"
     ]
    }
   ],
   "source": [
    "import math\n",
    "\n",
    "class Trigonometry:\n",
    "    @staticmethod\n",
    "    def cos(x):\n",
    "        return math.cos(x)\n",
    "    @staticmethod\n",
    "    def sin(x):\n",
    "        return math.sin(x)\n",
    "    @staticmethod\n",
    "    def tg(x):\n",
    "        return math.tan(x)\n",
    "    @staticmethod\n",
    "    def arctan(x):\n",
    "        return math.atan(x)\n",
    "    @staticmethod\n",
    "    def arcsin(x):\n",
    "        return math.asin(x)\n",
    "    @staticmethod\n",
    "    def arccos(x):\n",
    "        return math.acos(x)\n",
    "    @staticmethod\n",
    "    def radians(x):\n",
    "        return math.radians(x)\n",
    "\n",
    "n = Trigonometry.radians(90)\n",
    "print(Trigonometry.arcsin(Trigonometry.sin(n)))"
   ]
  },
  {
   "cell_type": "markdown",
   "id": "2b067f42",
   "metadata": {},
   "source": [
    "**Задача 2.**\n",
    "\n",
    "Дан класс, описывающий бинарное дерево.\n",
    " \n",
    "Реализуйте в классе функцию для вставки нового элемента в дерево по следующим правилам:\n",
    "\n",
    "- Левое поддерево узла содержит только узлы со значениями меньше, чем значение в узле.\n",
    "- Правое поддерево узла содержит только узлы со значениями меньше, чем значение в узле.\n",
    "- Каждое из левого и правого поддеревьев также должно быть бинарным деревом поиска.\n",
    "- Не должно быть повторяющихся узлов.\n",
    "\n",
    "Метод вставки сравнивает значение узла с родительским узлом и решает куда доваить элемент (в левое или правое поддерево). Перепишите, метод PrintTree для печати полной версии дерева."
   ]
  },
  {
   "cell_type": "code",
   "execution_count": 13,
   "id": "a588ee4a",
   "metadata": {},
   "outputs": [
    {
     "name": "stdout",
     "output_type": "stream",
     "text": [
      "               150\n",
      "          105\n",
      "               100\n",
      "     11\n",
      "10\n",
      "     8\n"
     ]
    }
   ],
   "source": [
    "class Tree:\n",
    "    \n",
    "    def __init__(self, data):\n",
    "        self.left = None\n",
    "        self.right = None\n",
    "        self.data = data\n",
    "        \n",
    "    def push(self,data):\n",
    "        if data < self.data:\n",
    "            if self.left:\n",
    "                self.left.push(data)\n",
    "            else:\n",
    "                self.left = Tree(data)\n",
    "        else:\n",
    "            if data == self.data:\n",
    "                return\n",
    "            if self.right:\n",
    "                self.right.push(data)\n",
    "            else:\n",
    "                self.right = Tree(data)\n",
    "                \n",
    "    def PrintTree(self,n=0):\n",
    "        if self.right:\n",
    "            self.right.PrintTree(n + 5)\n",
    "        print(' ' * n + str(self.data))\n",
    "        if self.left:\n",
    "            self.left.PrintTree(n + 5)\n",
    "            \n",
    "tree = Tree(10)\n",
    "tree.push(8)\n",
    "tree.push(11)\n",
    "tree.push(105)\n",
    "tree.push(150)\n",
    "tree.push(100)\n",
    "tree.PrintTree()"
   ]
  },
  {
   "cell_type": "markdown",
   "id": "24d2f955",
   "metadata": {},
   "source": [
    "**Задача 3.**\n",
    "\n",
    "Постройте модель регрессии для данных из предыдущей рабочей тетради.Для примера можно взять потребления газа (в миллионах галлонов) в 48 штатах США или набор данных о качестве красного вина:  \n",
    "\n",
    "https://raw.githubusercontent.com/likarajo/petrol_consumption/master/data/petrol_consumption.csv\n",
    "https://raw.githubusercontent.com/aniruddhachoudhury/Red-Wine-Quality/master/winequality-red.csv  \n",
    "\n",
    "Постройте прогноз. Оцените точность модели."
   ]
  },
  {
   "cell_type": "code",
   "execution_count": 14,
   "id": "dcbf7652",
   "metadata": {},
   "outputs": [
    {
     "name": "stdout",
     "output_type": "stream",
     "text": [
      "Mean Squared Error: 0.4565401760266475\n",
      "Mean Absolute Error: 0.5393885420938427\n"
     ]
    },
    {
     "data": {
      "image/png": "[encoded data removed]",
      "text/plain": [
       "<Figure size 640x480 with 1 Axes>"
      ]
     },
     "metadata": {},
     "output_type": "display_data"
    }
   ],
   "source": [
    "import pandas as pd\n",
    "import numpy as np\n",
    "import matplotlib.pyplot as plt\n",
    "from sklearn import tree\n",
    "from sklearn.tree import DecisionTreeRegressor\n",
    "from sklearn.model_selection import train_test_split\n",
    "from sklearn import metrics\n",
    "\n",
    "url = \"C:\\\\Users\\\\Admin\\\\Desktop\\\\winequality-red.csv\"\n",
    "dataset = pd.read_csv(url)\n",
    "dataset.head()\n",
    "\n",
    "x = dataset.iloc[:,:-1].values\n",
    "y = dataset.iloc[:,-1].values\n",
    "\n",
    "x_train, x_test, y_train, y_test = train_test_split(x, y, test_size = 0.3)\n",
    "regressor = DecisionTreeRegressor(max_depth = 3)\n",
    "regressor.fit(x_train,y_train)\n",
    "tree.plot_tree(regressor)\n",
    "\n",
    "y_pred = regressor.predict(x_test)\n",
    "\n",
    "df = pd.DataFrame({'Actual':y_test,'Predicted':y_pred})\n",
    "df\n",
    "\n",
    "print('Mean Squared Error:',metrics.mean_squared_error(y_test,y_pred))\n",
    "print('Mean Absolute Error:',metrics.mean_absolute_error(y_test,y_pred))"
   ]
  }
 ],
 "metadata": {
  "kernelspec": {
   "display_name": "Python 3 (ipykernel)",
   "language": "python",
   "name": "python3"
  },
  "language_info": {
   "codemirror_mode": {
    "name": "ipython",
    "version": 3
   },
   "file_extension": ".py",
   "mimetype": "text/x-python",
   "name": "python",
   "nbconvert_exporter": "python",
   "pygments_lexer": "ipython3",
   "version": "3.10.9"
  }
 },
 "nbformat": 4,
 "nbformat_minor": 5
}
